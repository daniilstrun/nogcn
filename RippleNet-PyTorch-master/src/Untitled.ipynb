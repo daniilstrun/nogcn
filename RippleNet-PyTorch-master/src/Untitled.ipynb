{
 "cells": [
  {
   "cell_type": "code",
   "execution_count": 11,
   "id": "da9a2c7d-fb26-4a3e-bcb3-5d14a0ade76a",
   "metadata": {
    "tags": []
   },
   "outputs": [],
   "source": [
    "import os\n",
    "os.chdir('/home/daniilstrunov/nogcn/RippleNet-PyTorch-master/src')"
   ]
  },
  {
   "cell_type": "code",
   "execution_count": 52,
   "id": "3cd5f879-7130-4438-9086-29791454999a",
   "metadata": {
    "tags": []
   },
   "outputs": [],
   "source": [
    "from data_loader import load_data\n",
    "from sklearn.metrics import roc_auc_score, accuracy_score\n",
    "from tqdm.notebook import tqdm\n",
    "import scipy as sp\n",
    "import numpy as np\n",
    "import pandas as pd"
   ]
  },
  {
   "cell_type": "code",
   "execution_count": 95,
   "id": "652c15fe-b221-48ab-a500-4eaed828cf80",
   "metadata": {
    "tags": []
   },
   "outputs": [],
   "source": [
    "class Args():\n",
    "    def __init__(self, ):\n",
    "        self.dataset = 'movie'\n",
    "        self.dim = 16\n",
    "        self.n_hop = 2\n",
    "        self.kge_weight = 0.01\n",
    "        self.l2_weight = 1e-7\n",
    "        self.lr = 0.02\n",
    "        self.batch_size = 1024\n",
    "        self.n_epoch = 10\n",
    "        self.n_memory = 32\n",
    "        self.item_update_mode = 'plus_transform'\n",
    "        self.using_all_hops = True\n",
    "\n",
    "args = Args()"
   ]
  },
  {
   "cell_type": "code",
   "execution_count": 96,
   "id": "2b904d2c-b242-4e90-b1e9-a010dfe3092c",
   "metadata": {
    "tags": []
   },
   "outputs": [
    {
     "name": "stdout",
     "output_type": "stream",
     "text": [
      "reading rating file ...\n",
      "splitting dataset ...\n",
      "reading KG file ...\n",
      "constructing knowledge graph ...\n",
      "constructing ripple set ...\n"
     ]
    }
   ],
   "source": [
    "data_info = load_data(args)"
   ]
  },
  {
   "cell_type": "code",
   "execution_count": 97,
   "id": "16da061e-8d4a-47d4-8104-c3a081bbfb47",
   "metadata": {
    "tags": []
   },
   "outputs": [],
   "source": [
    "train_data = data_info[0]\n",
    "val_data = data_info[1]\n",
    "test_data = data_info[2]"
   ]
  },
  {
   "cell_type": "code",
   "execution_count": 35,
   "id": "13a1bcf2-c829-4bbf-9089-b52777816e37",
   "metadata": {
    "tags": []
   },
   "outputs": [],
   "source": [
    "class RP3beta():\n",
    "    def __init__(self, data):\n",
    "        self.data = data\n",
    "\n",
    "    def fit(self, alpha=1., beta=0.):\n",
    "        rows = self.data[:, 0]\n",
    "        cols = self.data[:, 1]\n",
    "        vals = self.data[:, 2]\n",
    "        Dsi_sparse = sp.sparse.coo_matrix((vals, (rows, cols)))\n",
    "        self.UI = Dsi_sparse.todense()\n",
    "        Dis_sparse = Dsi_sparse.T\n",
    "        Dsi_sparse = Dsi_sparse/(Dsi_sparse.sum(1) + 1e-10)\n",
    "        Dis_sparse = Dis_sparse/(np.power(Dis_sparse.sum(1), 1+beta) + 1e-10)\n",
    "        Dsi_sparse = np.power(Dsi_sparse, alpha)\n",
    "        Dis_sparse = np.power(Dis_sparse, alpha)\n",
    "        W = Dis_sparse @ Dsi_sparse\n",
    "        self.W = W\n",
    "\n",
    "    def predict(self, users, items):\n",
    "        self.UI[users]\n",
    "        return self.UI[users] @ self.W[:, items]"
   ]
  },
  {
   "cell_type": "code",
   "execution_count": 36,
   "id": "84008d78-bffe-46e1-ada7-e44f08deda85",
   "metadata": {
    "tags": []
   },
   "outputs": [],
   "source": [
    "class EASE():\n",
    "    def __init__(self, data):\n",
    "        self.data = data\n",
    "        \n",
    "        self.item_num = max(data[:, 1]) + 1\n",
    "\n",
    "    def fit(self, reg=250):\n",
    "        rows = self.data[:, 0]\n",
    "        cols = self.data[:, 1]\n",
    "        vals = self.data[:, 2]\n",
    "        Dsi_sparse = sp.sparse.coo_matrix((vals, (rows, cols)))\n",
    "        self.UI = Dsi_sparse.todense()\n",
    "        Dis_sparse = Dsi_sparse.T\n",
    "        \n",
    "        \n",
    "        Dsi_sparse = Dsi_sparse#/(Dsi_sparse.sum(1) + 1e-10)\n",
    "        Dis_sparse = Dis_sparse#/(Dis_sparse.sum(1) + 1e-10)\n",
    "        \n",
    "        D = (Dis_sparse @ Dsi_sparse).todense()\n",
    "        \n",
    "        diag = ([i for i in range(self.item_num)],\n",
    "                [i for i in range(self.item_num)])\n",
    "        D[diag] += reg\n",
    "        \n",
    "        P = np.linalg.inv(D)\n",
    "        \n",
    "        B = -P/P[diag]\n",
    "        \n",
    "        B[diag] = 0\n",
    "\n",
    "        self.W = B\n",
    "\n",
    "    def predict(self, users, items):\n",
    "        self.UI[users]\n",
    "        return self.UI[users] @ self.W[:, items]"
   ]
  },
  {
   "cell_type": "code",
   "execution_count": 227,
   "id": "90c189d8-cfdb-404a-a0a2-d8ae2cd0bfeb",
   "metadata": {
    "tags": []
   },
   "outputs": [],
   "source": [
    "model = EASE(train_data)\n",
    "model.fit(reg=2000)"
   ]
  },
  {
   "cell_type": "code",
   "execution_count": 230,
   "id": "e5b3cb14-30c0-443e-903c-f2b580526edf",
   "metadata": {
    "tags": []
   },
   "outputs": [],
   "source": [
    "model = RP3beta(train_data)\n",
    "model.fit(alpha=.5, beta=0.2)"
   ]
  },
  {
   "cell_type": "code",
   "execution_count": 231,
   "id": "903815b3-cd90-4232-a54e-d3795ad25acb",
   "metadata": {
    "tags": []
   },
   "outputs": [],
   "source": [
    "def test(model, test_data):\n",
    "    targets = []\n",
    "    scores = []\n",
    "    for user, item, target in tqdm(test_data):\n",
    "        scores.append(model.predict(user, item).item())\n",
    "        targets.append(target)\n",
    "    return roc_auc_score(y_true=targets, y_score=scores), "
   ]
  },
  {
   "cell_type": "code",
   "execution_count": 232,
   "id": "1ad0a0c4-335a-4823-9a02-0d17f33d522b",
   "metadata": {
    "tags": []
   },
   "outputs": [
    {
     "data": {
      "application/vnd.jupyter.widget-view+json": {
       "model_id": "43ff5d5230864468b3c49b5248362b74",
       "version_major": 2,
       "version_minor": 0
      },
      "text/plain": [
       "  0%|          | 0/24134 [00:00<?, ?it/s]"
      ]
     },
     "metadata": {},
     "output_type": "display_data"
    },
    {
     "data": {
      "text/plain": [
       "0.706729073016769"
      ]
     },
     "execution_count": 232,
     "metadata": {},
     "output_type": "execute_result"
    }
   ],
   "source": [
    "test(model, test_data)"
   ]
  },
  {
   "cell_type": "code",
   "execution_count": 98,
   "id": "e7e14d74-f015-4375-b26e-5bb6b267aac8",
   "metadata": {
    "tags": []
   },
   "outputs": [],
   "source": [
    "import surprise"
   ]
  },
  {
   "cell_type": "code",
   "execution_count": 99,
   "id": "d2cc3501-7d9c-4ac9-9daf-fcc4b394d46f",
   "metadata": {
    "tags": []
   },
   "outputs": [],
   "source": [
    "reader = surprise.reader.Reader(line_format='user item rating', rating_scale=(0, 1))\n",
    "surprise_train_data = surprise.Dataset.load_from_df(pd.DataFrame(train_data), reader)"
   ]
  },
  {
   "cell_type": "code",
   "execution_count": 121,
   "id": "08036ff8-67fb-48f1-99a7-2cdc04b3b220",
   "metadata": {
    "tags": []
   },
   "outputs": [
    {
     "name": "stdout",
     "output_type": "stream",
     "text": [
      "Processing epoch 0\n",
      "Processing epoch 1\n",
      "Processing epoch 2\n",
      "Processing epoch 3\n",
      "Processing epoch 4\n",
      "Processing epoch 5\n",
      "Processing epoch 6\n",
      "Processing epoch 7\n",
      "Processing epoch 8\n",
      "Processing epoch 9\n",
      "Processing epoch 10\n",
      "Processing epoch 11\n",
      "Processing epoch 12\n",
      "Processing epoch 13\n",
      "Processing epoch 14\n",
      "Processing epoch 15\n",
      "Processing epoch 16\n",
      "Processing epoch 17\n",
      "Processing epoch 18\n",
      "Processing epoch 19\n",
      "Processing epoch 20\n",
      "Processing epoch 21\n",
      "Processing epoch 22\n",
      "Processing epoch 23\n",
      "Processing epoch 24\n",
      "Processing epoch 25\n",
      "Processing epoch 26\n",
      "Processing epoch 27\n",
      "Processing epoch 28\n",
      "Processing epoch 29\n",
      "Processing epoch 30\n",
      "Processing epoch 31\n",
      "Processing epoch 32\n",
      "Processing epoch 33\n",
      "Processing epoch 34\n",
      "Processing epoch 35\n",
      "Processing epoch 36\n",
      "Processing epoch 37\n",
      "Processing epoch 38\n",
      "Processing epoch 39\n",
      "Processing epoch 40\n",
      "Processing epoch 41\n",
      "Processing epoch 42\n",
      "Processing epoch 43\n",
      "Processing epoch 44\n",
      "Processing epoch 45\n",
      "Processing epoch 46\n",
      "Processing epoch 47\n",
      "Processing epoch 48\n",
      "Processing epoch 49\n",
      "Processing epoch 50\n",
      "Processing epoch 51\n",
      "Processing epoch 52\n",
      "Processing epoch 53\n",
      "Processing epoch 54\n",
      "Processing epoch 55\n",
      "Processing epoch 56\n",
      "Processing epoch 57\n",
      "Processing epoch 58\n",
      "Processing epoch 59\n",
      "Processing epoch 60\n",
      "Processing epoch 61\n",
      "Processing epoch 62\n",
      "Processing epoch 63\n",
      "Processing epoch 64\n",
      "Processing epoch 65\n",
      "Processing epoch 66\n",
      "Processing epoch 67\n",
      "Processing epoch 68\n",
      "Processing epoch 69\n",
      "Processing epoch 70\n",
      "Processing epoch 71\n",
      "Processing epoch 72\n",
      "Processing epoch 73\n",
      "Processing epoch 74\n",
      "Processing epoch 75\n",
      "Processing epoch 76\n",
      "Processing epoch 77\n",
      "Processing epoch 78\n",
      "Processing epoch 79\n",
      "Processing epoch 80\n",
      "Processing epoch 81\n",
      "Processing epoch 82\n",
      "Processing epoch 83\n",
      "Processing epoch 84\n",
      "Processing epoch 85\n",
      "Processing epoch 86\n",
      "Processing epoch 87\n",
      "Processing epoch 88\n",
      "Processing epoch 89\n",
      "Processing epoch 90\n",
      "Processing epoch 91\n",
      "Processing epoch 92\n",
      "Processing epoch 93\n",
      "Processing epoch 94\n",
      "Processing epoch 95\n",
      "Processing epoch 96\n",
      "Processing epoch 97\n",
      "Processing epoch 98\n",
      "Processing epoch 99\n",
      "Processing epoch 100\n",
      "Processing epoch 101\n",
      "Processing epoch 102\n",
      "Processing epoch 103\n",
      "Processing epoch 104\n",
      "Processing epoch 105\n",
      "Processing epoch 106\n",
      "Processing epoch 107\n",
      "Processing epoch 108\n",
      "Processing epoch 109\n",
      "Processing epoch 110\n",
      "Processing epoch 111\n",
      "Processing epoch 112\n",
      "Processing epoch 113\n",
      "Processing epoch 114\n",
      "Processing epoch 115\n",
      "Processing epoch 116\n",
      "Processing epoch 117\n",
      "Processing epoch 118\n",
      "Processing epoch 119\n",
      "Processing epoch 120\n",
      "Processing epoch 121\n",
      "Processing epoch 122\n",
      "Processing epoch 123\n",
      "Processing epoch 124\n",
      "Processing epoch 125\n",
      "Processing epoch 126\n",
      "Processing epoch 127\n",
      "Processing epoch 128\n",
      "Processing epoch 129\n",
      "Processing epoch 130\n",
      "Processing epoch 131\n",
      "Processing epoch 132\n",
      "Processing epoch 133\n",
      "Processing epoch 134\n",
      "Processing epoch 135\n",
      "Processing epoch 136\n",
      "Processing epoch 137\n",
      "Processing epoch 138\n",
      "Processing epoch 139\n",
      "Processing epoch 140\n",
      "Processing epoch 141\n",
      "Processing epoch 142\n",
      "Processing epoch 143\n",
      "Processing epoch 144\n",
      "Processing epoch 145\n",
      "Processing epoch 146\n",
      "Processing epoch 147\n",
      "Processing epoch 148\n",
      "Processing epoch 149\n",
      "Processing epoch 150\n",
      "Processing epoch 151\n",
      "Processing epoch 152\n",
      "Processing epoch 153\n",
      "Processing epoch 154\n",
      "Processing epoch 155\n",
      "Processing epoch 156\n",
      "Processing epoch 157\n",
      "Processing epoch 158\n",
      "Processing epoch 159\n",
      "Processing epoch 160\n",
      "Processing epoch 161\n",
      "Processing epoch 162\n",
      "Processing epoch 163\n",
      "Processing epoch 164\n",
      "Processing epoch 165\n",
      "Processing epoch 166\n",
      "Processing epoch 167\n",
      "Processing epoch 168\n",
      "Processing epoch 169\n",
      "Processing epoch 170\n",
      "Processing epoch 171\n",
      "Processing epoch 172\n",
      "Processing epoch 173\n",
      "Processing epoch 174\n",
      "Processing epoch 175\n",
      "Processing epoch 176\n",
      "Processing epoch 177\n",
      "Processing epoch 178\n",
      "Processing epoch 179\n",
      "Processing epoch 180\n",
      "Processing epoch 181\n",
      "Processing epoch 182\n",
      "Processing epoch 183\n",
      "Processing epoch 184\n",
      "Processing epoch 185\n",
      "Processing epoch 186\n",
      "Processing epoch 187\n",
      "Processing epoch 188\n",
      "Processing epoch 189\n",
      "Processing epoch 190\n",
      "Processing epoch 191\n",
      "Processing epoch 192\n",
      "Processing epoch 193\n",
      "Processing epoch 194\n",
      "Processing epoch 195\n",
      "Processing epoch 196\n",
      "Processing epoch 197\n",
      "Processing epoch 198\n",
      "Processing epoch 199\n"
     ]
    },
    {
     "data": {
      "text/plain": [
       "<surprise.prediction_algorithms.matrix_factorization.NMF at 0x7f1c547317e0>"
      ]
     },
     "execution_count": 121,
     "metadata": {},
     "output_type": "execute_result"
    }
   ],
   "source": [
    "'''\n",
    "book and movie\n",
    "n_factors=110,\n",
    "n_epochs=200,\n",
    "init_low=1,\n",
    "init_high=20,\n",
    "reg_pu=0.06,\n",
    "reg_qi=0.06,\n",
    "'''\n",
    "\n",
    "\n",
    "model = surprise.prediction_algorithms.matrix_factorization.NMF(n_factors=110,\n",
    "                                                                n_epochs=200,\n",
    "                                                                init_low=1,\n",
    "                                                                init_high=20,\n",
    "                                                                reg_pu=0.06,\n",
    "                                                                reg_qi=0.06,\n",
    "                                                                verbose=True)\n",
    "model.fit(surprise_train_data.build_full_trainset())"
   ]
  },
  {
   "cell_type": "code",
   "execution_count": 122,
   "id": "af5fd0ce-56be-4e5e-8b88-42b2f051863a",
   "metadata": {
    "tags": []
   },
   "outputs": [],
   "source": [
    "def test(model, test_data):\n",
    "    targets = []\n",
    "    scores = []\n",
    "    class_ = []\n",
    "    for user, item, target in tqdm(test_data):\n",
    "        scores.append(model.predict(user, item).est)\n",
    "        class_.append(int(scores[-1] > 0.5))\n",
    "        targets.append(target)\n",
    "    return roc_auc_score(y_true=targets, y_score=scores), accuracy_score(y_true=targets, y_pred=class_)"
   ]
  },
  {
   "cell_type": "code",
   "execution_count": 123,
   "id": "7524c4aa-a7f2-4544-85d6-7e59464152ad",
   "metadata": {
    "tags": []
   },
   "outputs": [
    {
     "data": {
      "application/vnd.jupyter.widget-view+json": {
       "model_id": "6899fabf87bc486eb99fdf7a51196e19",
       "version_major": 2,
       "version_minor": 0
      },
      "text/plain": [
       "  0%|          | 0/150746 [00:00<?, ?it/s]"
      ]
     },
     "metadata": {},
     "output_type": "display_data"
    },
    {
     "data": {
      "text/plain": [
       "(0.923406226199106, 0.8465962612606637)"
      ]
     },
     "execution_count": 123,
     "metadata": {},
     "output_type": "execute_result"
    }
   ],
   "source": [
    "test(model, test_data)"
   ]
  },
  {
   "cell_type": "code",
   "execution_count": null,
   "id": "8064e811-ef71-451a-b2a8-10a572f8d895",
   "metadata": {},
   "outputs": [],
   "source": []
  }
 ],
 "metadata": {
  "kernelspec": {
   "display_name": "Python 3 (ipykernel)",
   "language": "python",
   "name": "python3"
  },
  "language_info": {
   "codemirror_mode": {
    "name": "ipython",
    "version": 3
   },
   "file_extension": ".py",
   "mimetype": "text/x-python",
   "name": "python",
   "nbconvert_exporter": "python",
   "pygments_lexer": "ipython3",
   "version": "3.10.6"
  }
 },
 "nbformat": 4,
 "nbformat_minor": 5
}
