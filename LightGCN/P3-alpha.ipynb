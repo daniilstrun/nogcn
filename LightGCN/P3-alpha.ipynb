{
 "cells": [
  {
   "cell_type": "code",
   "execution_count": 1,
   "id": "15d9d259",
   "metadata": {
    "tags": []
   },
   "outputs": [],
   "source": [
    "import sys\n",
    "sys.path.append('LightGCN-PyTorch-master//code')\n",
    "sys.path.append('RecSys2019_DeepLearning_Evaluation-master')\n",
    "sys.argv.pop()\n",
    "sys.argv.pop()\n",
    "sys.argv.extend(['--decay', '1e-4', '--lr', '0.001', '--layer', '3', '--seed', '2020', '--dataset', \"gowalla\", \n",
    "                 '--topks', \"[20]\", '--recdim', '64'])\n",
    "\n",
    "from SLIM_ElasticNet.SLIMElasticNetRecommender import SLIMElasticNetRecommender\n",
    "from GraphBased.RP3betaRecommender import RP3betaRecommender\n",
    "from EASE_R.EASE_R_Recommender import EASE_R_Recommender\n",
    "import time"
   ]
  },
  {
   "cell_type": "code",
   "execution_count": 2,
   "id": "07387ddc",
   "metadata": {
    "tags": []
   },
   "outputs": [],
   "source": [
    "from dataloader import Loader"
   ]
  },
  {
   "cell_type": "code",
   "execution_count": 3,
   "id": "93a7d1c5",
   "metadata": {
    "tags": []
   },
   "outputs": [
    {
     "name": "stdout",
     "output_type": "stream",
     "text": [
      "\u001b[0;30;43mloading [./LightGCN-PyTorch-master/data/gowalla]\u001b[0m\n",
      "810128 interactions for training\n",
      "217242 interactions for testing\n",
      "29858 users\n",
      "40981 items\n",
      "gowalla Sparsity : 0.0008396216228570436\n",
      "gowalla is ready to go\n"
     ]
    }
   ],
   "source": [
    "# Gowalla\n",
    "# Yelp2018\n",
    "# Amazon-Book\n",
    "dataset = Loader(path='./LightGCN-PyTorch-master/data/gowalla')"
   ]
  },
  {
   "cell_type": "code",
   "execution_count": 4,
   "id": "cebf2962",
   "metadata": {
    "tags": []
   },
   "outputs": [
    {
     "name": "stdout",
     "output_type": "stream",
     "text": [
      "\u001b[0;30;43mCpp extension not loaded\u001b[0m\n"
     ]
    }
   ],
   "source": [
    "import utils\n",
    "import numpy as np\n",
    "import world\n",
    "from tqdm.notebook import tqdm\n",
    "\n",
    "def test_one_batch(X):\n",
    "    sorted_items = np.array(X[0])\n",
    "    groundTrue = X[1]\n",
    "    r = utils.getLabel(groundTrue, sorted_items)\n",
    "    pre, recall, ndcg = [], [], []\n",
    "    for k in world.topks:\n",
    "        ret = utils.RecallPrecision_ATk(groundTrue, r, k)\n",
    "        pre.append(ret['precision'])\n",
    "        recall.append(ret['recall'])\n",
    "        ndcg.append(utils.NDCGatK_r(groundTrue,r,k))\n",
    "    return {'recall':np.array(recall), \n",
    "            'precision':np.array(pre), \n",
    "            'ndcg':np.array(ndcg)}\n",
    "\n",
    "def test(dataset, Recmodel, w=None, multicore=0):\n",
    "    u_batch_size = world.config['test_u_batch_size']\n",
    "    testDict: dict = dataset.testDict\n",
    "    # eval mode with no dropout\n",
    "    max_K = max(world.topks)\n",
    "    if multicore == 1:\n",
    "        pool = multiprocessing.Pool(CORES)\n",
    "    results = {'precision': np.zeros(len(world.topks)),\n",
    "               'recall': np.zeros(len(world.topks)),\n",
    "               'ndcg': np.zeros(len(world.topks))}\n",
    "    users = list(testDict.keys())\n",
    "    try:\n",
    "        assert u_batch_size <= len(users) / 10\n",
    "    except AssertionError:\n",
    "        print(f\"test_u_batch_size is too big for this dataset, try a small one {len(users) // 10}\")\n",
    "    users_list = []\n",
    "    rating_list = []\n",
    "    groundTrue_list = []\n",
    "    # auc_record = []\n",
    "    # ratings = []\n",
    "    total_batch = len(users) // u_batch_size + 1\n",
    "    for batch_users in tqdm(utils.minibatch(users, batch_size=u_batch_size), total=total_batch):\n",
    "        allPos = dataset.getUserPosItems(batch_users)\n",
    "        groundTrue = [testDict[u] for u in batch_users]\n",
    "        rating_K = Recmodel.recommend(batch_users, cutoff=max_K)\n",
    "        users_list.append(batch_users)\n",
    "        rating_list.append(rating_K)\n",
    "        groundTrue_list.append(groundTrue)\n",
    "    assert total_batch == len(users_list)\n",
    "    X = zip(rating_list, groundTrue_list)\n",
    "    pre_results = map(test_one_batch, X)\n",
    "    scale = float(u_batch_size/len(users))\n",
    "    for result in pre_results:\n",
    "        results['recall'] += result['recall']\n",
    "        results['precision'] += result['precision']\n",
    "        results['ndcg'] += result['ndcg']\n",
    "    results['recall'] /= float(len(users))\n",
    "    results['precision'] /= float(len(users))\n",
    "    results['ndcg'] /= float(len(users))\n",
    "    # results['auc'] = np.mean(auc_record)\n",
    "    print(results)\n",
    "    return results"
   ]
  },
  {
   "cell_type": "code",
   "execution_count": 7,
   "id": "b9a78054-e861-4c1d-8e79-2b0323d59e12",
   "metadata": {
    "tags": []
   },
   "outputs": [
    {
     "data": {
      "application/vnd.jupyter.widget-view+json": {
       "model_id": "6174084ab6714c96a3acc559c3b1649d",
       "version_major": 2,
       "version_minor": 0
      },
      "text/plain": [
       "  0%|          | 0/205 [00:00<?, ?it/s]"
      ]
     },
     "metadata": {},
     "output_type": "display_data"
    },
    {
     "data": {
      "application/vnd.jupyter.widget-view+json": {
       "model_id": "5666fbffbec34df4a5e30220c3edcf50",
       "version_major": 2,
       "version_minor": 0
      },
      "text/plain": [
       "  0%|          | 0/299 [00:00<?, ?it/s]"
      ]
     },
     "metadata": {},
     "output_type": "display_data"
    },
    {
     "name": "stdout",
     "output_type": "stream",
     "text": [
      "{'precision': array([0.05643546]), 'recall': array([0.18622193]), 'ndcg': array([0.15631148])}\n"
     ]
    },
    {
     "data": {
      "text/plain": [
       "{'precision': array([0.05643546]),\n",
       " 'recall': array([0.18622193]),\n",
       " 'ndcg': array([0.15631148])}"
      ]
     },
     "execution_count": 7,
     "metadata": {},
     "output_type": "execute_result"
    }
   ],
   "source": [
    "# Gowalla - 'alpha': 1, 'beta': 0\n",
    "# Yelp2018 - 'alpha': 0.731523, 'beta': 0.415935\n",
    "# Amazon-Book - 'alpha': 1, 'beta': 0\n",
    "recmodel_p3alpha = RP3betaRecommender(dataset.UserItemNet)\n",
    "recmodel_p3alpha.fit(**{'alpha': 1, 'beta': 0}, topK=10**10)\n",
    "test(dataset, recmodel_p3alpha)"
   ]
  },
  {
   "cell_type": "code",
   "execution_count": 6,
   "id": "62de5c69-7ef3-49d7-b469-d45cea0a839c",
   "metadata": {
    "tags": []
   },
   "outputs": [
    {
     "name": "stdout",
     "output_type": "stream",
     "text": [
      "EASE_R_Recommender: Fitting model... \n",
      "Unable to load Cython Compute_Similarity, reverting to Python\n",
      "Similarity column 40981 (100.0%), 430.64 column/sec. Elapsed time 1.59 min\n",
      "EASE_R_Recommender: Fitting model... done in 7.11 min\n"
     ]
    },
    {
     "data": {
      "application/vnd.jupyter.widget-view+json": {
       "model_id": "5370255eb060446f8fa82a408216e1d4",
       "version_major": 2,
       "version_minor": 0
      },
      "text/plain": [
       "  0%|          | 0/299 [00:00<?, ?it/s]"
      ]
     },
     "metadata": {},
     "output_type": "display_data"
    },
    {
     "name": "stdout",
     "output_type": "stream",
     "text": [
      "{'precision': array([0.03085438]), 'recall': array([0.10202729]), 'ndcg': array([0.07242745])}\n"
     ]
    },
    {
     "data": {
      "text/plain": [
       "{'precision': array([0.03085438]),\n",
       " 'recall': array([0.10202729]),\n",
       " 'ndcg': array([0.07242745])}"
      ]
     },
     "execution_count": 6,
     "metadata": {},
     "output_type": "execute_result"
    }
   ],
   "source": [
    "# Gowalla - 'alpha': 1, 'beta': 0\n",
    "# Yelp2018 - 'alpha': 0.731523, 'beta': 0.415935\n",
    "# Amazon-Book - 'alpha': 1, 'beta': 0\n",
    "recmodel_ease = EASE_R_Recommender(dataset.UserItemNet)\n",
    "recmodel_ease.fit(l2_norm=1000.0, topK=None, normalize_matrix=False)\n",
    "test(dataset, recmodel_ease)"
   ]
  },
  {
   "cell_type": "code",
   "execution_count": 84,
   "id": "cc5bee05-03d4-41dd-8fd8-5eb9adff4127",
   "metadata": {
    "tags": []
   },
   "outputs": [
    {
     "data": {
      "text/plain": [
       "(numpy.ndarray, numpy.ndarray)"
      ]
     },
     "execution_count": 84,
     "metadata": {},
     "output_type": "execute_result"
    }
   ],
   "source": [
    "type(recmodel_ease.W_sparse), type(np.asarray(recmodel_p3alpha.W_sparse.todense()))"
   ]
  },
  {
   "cell_type": "code",
   "execution_count": 86,
   "id": "beb58a22-82b8-4f17-bd73-a30b8402f7b7",
   "metadata": {
    "tags": []
   },
   "outputs": [],
   "source": [
    "recmodel_ease.W_sparse = (recmodel_ease.W_sparse + np.asarray(recmodel_p3alpha.W_sparse.todense()))/2"
   ]
  },
  {
   "cell_type": "code",
   "execution_count": 87,
   "id": "1842c87e-a330-4740-9d61-37d5ea5d9ce6",
   "metadata": {
    "tags": []
   },
   "outputs": [
    {
     "data": {
      "application/vnd.jupyter.widget-view+json": {
       "model_id": "8d74ada05ef84efe879570c36cf50868",
       "version_major": 2,
       "version_minor": 0
      },
      "text/plain": [
       "  0%|          | 0/299 [00:00<?, ?it/s]"
      ]
     },
     "metadata": {},
     "output_type": "display_data"
    },
    {
     "name": "stdout",
     "output_type": "stream",
     "text": [
      "{'precision': array([0.05576227]), 'recall': array([0.18387079]), 'ndcg': array([0.15323673])}\n"
     ]
    },
    {
     "data": {
      "text/plain": [
       "{'precision': array([0.05576227]),\n",
       " 'recall': array([0.18387079]),\n",
       " 'ndcg': array([0.15323673])}"
      ]
     },
     "execution_count": 87,
     "metadata": {},
     "output_type": "execute_result"
    }
   ],
   "source": [
    "test(dataset, recmodel_ease)"
   ]
  },
  {
   "cell_type": "code",
   "execution_count": null,
   "id": "59454075-511f-4643-824a-19c12d9ef0b6",
   "metadata": {},
   "outputs": [],
   "source": []
  },
  {
   "cell_type": "code",
   "execution_count": null,
   "id": "b16360d9-39cc-46a6-bd55-d63987d92fd8",
   "metadata": {},
   "outputs": [],
   "source": []
  },
  {
   "cell_type": "code",
   "execution_count": null,
   "id": "b5649963-fac3-4917-9b09-ec3ab98cb898",
   "metadata": {},
   "outputs": [],
   "source": []
  },
  {
   "cell_type": "code",
   "execution_count": null,
   "id": "4087e073-a09b-4a02-aeee-622878fa3b48",
   "metadata": {},
   "outputs": [],
   "source": []
  },
  {
   "cell_type": "code",
   "execution_count": null,
   "id": "c8e42673-26dc-49a0-8f20-d6d9bc6a53c6",
   "metadata": {},
   "outputs": [],
   "source": []
  },
  {
   "cell_type": "code",
   "execution_count": 5,
   "id": "57c353af-61ac-4a7f-a180-2fef3e7f7d2f",
   "metadata": {
    "tags": []
   },
   "outputs": [],
   "source": [
    "import numpy as np\n",
    "import scipy.sparse as sp"
   ]
  },
  {
   "cell_type": "code",
   "execution_count": 55,
   "id": "5fe896f7-d187-46d9-a7a9-a058758b836f",
   "metadata": {
    "tags": []
   },
   "outputs": [],
   "source": [
    "P = sp.coo_matrix(np.random.randint(0, 2, (4, 4)))"
   ]
  },
  {
   "cell_type": "code",
   "execution_count": 56,
   "id": "89d30fdd-2c8d-446b-8ccf-5fb5bb328637",
   "metadata": {
    "tags": []
   },
   "outputs": [
    {
     "data": {
      "text/plain": [
       "<4x4 sparse matrix of type '<class 'numpy.int64'>'\n",
       "\twith 8 stored elements in COOrdinate format>"
      ]
     },
     "execution_count": 56,
     "metadata": {},
     "output_type": "execute_result"
    }
   ],
   "source": [
    "P"
   ]
  },
  {
   "cell_type": "code",
   "execution_count": 57,
   "id": "9a1199e1",
   "metadata": {
    "tags": []
   },
   "outputs": [
    {
     "data": {
      "application/vnd.jupyter.widget-view+json": {
       "model_id": "e5b716b23ba949b4a6b2095a7228d484",
       "version_major": 2,
       "version_minor": 0
      },
      "text/plain": [
       "  0%|          | 0/1 [00:00<?, ?it/s]"
      ]
     },
     "metadata": {},
     "output_type": "display_data"
    }
   ],
   "source": [
    "recmodel_p3alpha = RP3betaRecommender(P)\n",
    "recmodel_p3alpha.fit(**{'alpha': 1, 'beta': 0}, topK=10**10)"
   ]
  },
  {
   "cell_type": "code",
   "execution_count": 58,
   "id": "bafa097e-f618-4d5c-aa89-4d4f83344443",
   "metadata": {},
   "outputs": [
    {
     "ename": "SyntaxError",
     "evalue": "invalid syntax (1502705973.py, line 2)",
     "output_type": "error",
     "traceback": [
      "\u001b[0;36m  Cell \u001b[0;32mIn[58], line 2\u001b[0;36m\u001b[0m\n\u001b[0;31m    recmodel_ease.fit(, topK=10**10)\u001b[0m\n\u001b[0m                      ^\u001b[0m\n\u001b[0;31mSyntaxError\u001b[0m\u001b[0;31m:\u001b[0m invalid syntax\n"
     ]
    }
   ],
   "source": [
    "recmodel_ease = EASE_R_Recommender(P)\n",
    "recmodel_ease.fit(, topK=10**10)"
   ]
  },
  {
   "cell_type": "code",
   "execution_count": 59,
   "id": "50774f64-f6b4-4a55-94fc-30cd4a4117e1",
   "metadata": {
    "tags": []
   },
   "outputs": [
    {
     "name": "stdout",
     "output_type": "stream",
     "text": [
      "EASE_R_Recommender: Fitting model... \n",
      "Unable to load Cython Compute_Similarity, reverting to Python\n",
      "Similarity column 4 (100.0%), 5985.44 column/sec. Elapsed time 0.00 sec\n",
      "EASE_R_Recommender: Fitting model... done in 0.00 sec\n"
     ]
    }
   ],
   "source": [
    "recmodel_ease = EASE_R_Recommender(P)\n",
    "recmodel_ease.fit(l2_norm=0)"
   ]
  },
  {
   "cell_type": "code",
   "execution_count": 60,
   "id": "3f2769c7-154a-4e3f-8fe3-4f12a15a6b51",
   "metadata": {
    "tags": []
   },
   "outputs": [
    {
     "data": {
      "text/plain": [
       "array([[ 0. , -0. ,  0.5, -0. ],\n",
       "       [-0. ,  0. , -0.5,  1. ],\n",
       "       [ 0.5, -0.5,  0. ,  1. ],\n",
       "       [-0. ,  0.5,  0.5,  0. ]], dtype=float32)"
      ]
     },
     "execution_count": 60,
     "metadata": {},
     "output_type": "execute_result"
    }
   ],
   "source": [
    "recmodel_ease.W_sparse"
   ]
  },
  {
   "cell_type": "code",
   "execution_count": 12,
   "id": "d358f268-d28a-4c7c-83c2-ecb1821af2fb",
   "metadata": {
    "tags": []
   },
   "outputs": [
    {
     "data": {
      "text/plain": [
       "matrix([[0.        , 0.00091884, 0.0032969 , ..., 0.        , 0.        ,\n",
       "         0.        ],\n",
       "        [0.00091481, 0.        , 0.00451239, ..., 0.        , 0.        ,\n",
       "         0.        ],\n",
       "        [0.00238972, 0.00328517, 0.        , ..., 0.        , 0.        ,\n",
       "         0.        ],\n",
       "        ...,\n",
       "        [0.        , 0.        , 0.        , ..., 0.        , 0.        ,\n",
       "         0.        ],\n",
       "        [0.        , 0.        , 0.        , ..., 0.        , 0.        ,\n",
       "         0.        ],\n",
       "        [0.        , 0.        , 0.        , ..., 0.        , 0.        ,\n",
       "         0.        ]], dtype=float32)"
      ]
     },
     "execution_count": 12,
     "metadata": {},
     "output_type": "execute_result"
    }
   ],
   "source": [
    "recmodel_p3alpha.W_sparse.todense()"
   ]
  },
  {
   "cell_type": "code",
   "execution_count": 19,
   "id": "b8b6cf62-b98a-4c4a-9644-84332072aae5",
   "metadata": {},
   "outputs": [],
   "source": [
    "Pui = dataset.UserItemNet/dataset.UserItemNet.sum(1)\n",
    "Piu = dataset.UserItemNet.T\n",
    "Piu = Piu/Piu.sum(1)"
   ]
  },
  {
   "cell_type": "code",
   "execution_count": 7,
   "id": "75900357-ee08-409c-9ed3-1265471f0833",
   "metadata": {
    "tags": []
   },
   "outputs": [],
   "source": [
    "import scipy.sparse as sp"
   ]
  },
  {
   "cell_type": "code",
   "execution_count": null,
   "id": "da664174-f99d-47a6-86ec-d81e5f0c7479",
   "metadata": {
    "tags": []
   },
   "outputs": [],
   "source": [
    "W_ = Piu @ Pui\n",
    "diag_idx = np.diag_indices(W_.shape[0])\n",
    "W_[diag_idx] += 1000\n",
    "W_ = np.linalg.inv(W_)"
   ]
  },
  {
   "cell_type": "code",
   "execution_count": null,
   "id": "4d40e577-5651-4956-b86d-9124d93ec1a4",
   "metadata": {
    "tags": []
   },
   "outputs": [],
   "source": [
    "W_ = - W_ / np.diag(W_)\n",
    "W_[diag_idx] = 0"
   ]
  },
  {
   "cell_type": "code",
   "execution_count": 15,
   "id": "38ea744e-e3c6-4963-b10a-0d7b0ec6216d",
   "metadata": {
    "tags": []
   },
   "outputs": [],
   "source": [
    "import pickle\n",
    "with open('W_.pickle', 'rb') as f:\n",
    "    W_ = pickle.load(f)"
   ]
  },
  {
   "cell_type": "code",
   "execution_count": 20,
   "id": "54770fda-4cc3-4e8a-89c2-901bdffd0033",
   "metadata": {
    "tags": []
   },
   "outputs": [],
   "source": [
    "G = Piu @ Pui\n",
    "del Piu, Pui"
   ]
  },
  {
   "cell_type": "code",
   "execution_count": 9,
   "id": "3c480273-1b7a-432b-b8d1-3edd8a5988be",
   "metadata": {
    "tags": []
   },
   "outputs": [
    {
     "data": {
      "text/plain": [
       "matrix([[False, False, False, ...,  True,  True,  True],\n",
       "        [False, False, False, ...,  True,  True,  True],\n",
       "        [False, False, False, ...,  True,  True,  True],\n",
       "        ...,\n",
       "        [ True,  True,  True, ..., False,  True,  True],\n",
       "        [ True,  True,  True, ...,  True, False,  True],\n",
       "        [ True,  True,  True, ...,  True,  True, False]])"
      ]
     },
     "execution_count": 9,
     "metadata": {},
     "output_type": "execute_result"
    }
   ],
   "source": [
    "np.isclose(G, W_)"
   ]
  },
  {
   "cell_type": "code",
   "execution_count": 10,
   "id": "50087932-beaf-4c82-84d7-f4748be3bb1e",
   "metadata": {},
   "outputs": [],
   "source": [
    "recmodel_ease = EASE_R_Recommender(dataset.UserItemNet)"
   ]
  },
  {
   "cell_type": "code",
   "execution_count": 16,
   "id": "cdecba3e-a048-4246-8cb1-f115b378f9d1",
   "metadata": {
    "tags": []
   },
   "outputs": [],
   "source": [
    "recmodel_ease.W_sparse = sp.csr_matrix(W_)"
   ]
  },
  {
   "cell_type": "code",
   "execution_count": 12,
   "id": "29df639d-45b0-4c28-a1e6-a786b0ba39ba",
   "metadata": {
    "tags": []
   },
   "outputs": [
    {
     "data": {
      "application/vnd.jupyter.widget-view+json": {
       "model_id": "8ef7b733275749f79968dd7275520858",
       "version_major": 2,
       "version_minor": 0
      },
      "text/plain": [
       "  0%|          | 0/299 [00:00<?, ?it/s]"
      ]
     },
     "metadata": {},
     "output_type": "display_data"
    },
    {
     "name": "stdout",
     "output_type": "stream",
     "text": [
      "{'precision': array([0.05641369]), 'recall': array([0.18615776]), 'ndcg': array([0.15626646])}\n"
     ]
    },
    {
     "data": {
      "text/plain": [
       "{'precision': array([0.05641369]),\n",
       " 'recall': array([0.18615776]),\n",
       " 'ndcg': array([0.15626646])}"
      ]
     },
     "execution_count": 12,
     "metadata": {},
     "output_type": "execute_result"
    }
   ],
   "source": [
    "test(dataset, recmodel_ease)"
   ]
  },
  {
   "cell_type": "code",
   "execution_count": 17,
   "id": "e400105a-d640-475e-97e6-a37c161b9887",
   "metadata": {
    "tags": []
   },
   "outputs": [
    {
     "data": {
      "application/vnd.jupyter.widget-view+json": {
       "model_id": "b94056d0a6e749b08305883ae63bfb58",
       "version_major": 2,
       "version_minor": 0
      },
      "text/plain": [
       "  0%|          | 0/299 [00:00<?, ?it/s]"
      ]
     },
     "metadata": {},
     "output_type": "display_data"
    },
    {
     "name": "stdout",
     "output_type": "stream",
     "text": [
      "{'precision': array([0.05642206]), 'recall': array([0.18619712]), 'ndcg': array([0.15627935])}\n"
     ]
    },
    {
     "data": {
      "text/plain": [
       "{'precision': array([0.05642206]),\n",
       " 'recall': array([0.18619712]),\n",
       " 'ndcg': array([0.15627935])}"
      ]
     },
     "execution_count": 17,
     "metadata": {},
     "output_type": "execute_result"
    }
   ],
   "source": [
    "test(dataset, recmodel_ease)"
   ]
  },
  {
   "cell_type": "code",
   "execution_count": 22,
   "id": "a5f7ffa6-23fe-4ac3-b943-e5065d1ee3ea",
   "metadata": {
    "tags": []
   },
   "outputs": [],
   "source": [
    "import matplotlib.pyplot as plt"
   ]
  },
  {
   "cell_type": "code",
   "execution_count": 27,
   "id": "e9898fe5-7974-4fd2-a402-f4b05c6c0ff0",
   "metadata": {
    "tags": []
   },
   "outputs": [
    {
     "data": {
      "text/plain": [
       "matrix([[0.02958962, 0.00089165, 0.00319935, ..., 0.        , 0.        ,\n",
       "         0.        ],\n",
       "        [0.00089165, 0.0253153 , 0.00439816, ..., 0.        , 0.        ,\n",
       "         0.        ],\n",
       "        [0.00231064, 0.00317645, 0.0330938 , ..., 0.        , 0.        ,\n",
       "         0.        ],\n",
       "        ...,\n",
       "        [0.        , 0.        , 0.        , ..., 0.11111111, 0.        ,\n",
       "         0.        ],\n",
       "        [0.        , 0.        , 0.        , ..., 0.        , 0.125     ,\n",
       "         0.        ],\n",
       "        [0.        , 0.        , 0.        , ..., 0.        , 0.        ,\n",
       "         0.07142857]])"
      ]
     },
     "execution_count": 27,
     "metadata": {},
     "output_type": "execute_result"
    }
   ],
   "source": [
    "G"
   ]
  },
  {
   "cell_type": "code",
   "execution_count": null,
   "id": "bcb2634d-82f5-41f1-98cd-b45e9207a0ef",
   "metadata": {
    "tags": []
   },
   "outputs": [],
   "source": [
    "np.correlate(G.flatten(), W_.flatten())"
   ]
  },
  {
   "cell_type": "code",
   "execution_count": 29,
   "id": "d609d213-2352-4c14-9af9-f931b0e543c8",
   "metadata": {
    "tags": []
   },
   "outputs": [
    {
     "data": {
      "text/plain": [
       "<matplotlib.image.AxesImage at 0x7f38e27f34f0>"
      ]
     },
     "execution_count": 29,
     "metadata": {},
     "output_type": "execute_result"
    },
    {
     "data": {
      "image/png": "[encoded data removed]",
      "text/plain": [
       "<Figure size 640x480 with 1 Axes>"
      ]
     },
     "metadata": {},
     "output_type": "display_data"
    }
   ],
   "source": [
    "gmax = G[:1000, :1000].max()\n",
    "gmin = G[:1000, :1000].min()\n",
    "plt.imshow((G[:1000, :1000] - gmin)/(gmax - gmin))"
   ]
  },
  {
   "cell_type": "code",
   "execution_count": 30,
   "id": "737ddbf4-bbe4-4b49-9c90-44ab685a91b7",
   "metadata": {
    "tags": []
   },
   "outputs": [
    {
     "data": {
      "text/plain": [
       "<matplotlib.image.AxesImage at 0x7f38e2882bf0>"
      ]
     },
     "execution_count": 30,
     "metadata": {},
     "output_type": "execute_result"
    },
    {
     "data": {
      "image/png": "[encoded data removed]",
      "text/plain": [
       "<Figure size 640x480 with 1 Axes>"
      ]
     },
     "metadata": {},
     "output_type": "display_data"
    }
   ],
   "source": [
    "gmax = W_[:1000, :1000].max()\n",
    "gmin = W_[:1000, :1000].min()\n",
    "plt.imshow((W_[:1000, :1000] - gmin)/(gmax - gmin))"
   ]
  },
  {
   "cell_type": "code",
   "execution_count": null,
   "id": "35c13e7b-9bb0-4850-9e0d-78c483785d3a",
   "metadata": {},
   "outputs": [],
   "source": []
  }
 ],
 "metadata": {
  "kernelspec": {
   "display_name": "Python 3 (ipykernel)",
   "language": "python",
   "name": "python3"
  },
  "language_info": {
   "codemirror_mode": {
    "name": "ipython",
    "version": 3
   },
   "file_extension": ".py",
   "mimetype": "text/x-python",
   "name": "python",
   "nbconvert_exporter": "python",
   "pygments_lexer": "ipython3",
   "version": "3.10.6"
  }
 },
 "nbformat": 4,
 "nbformat_minor": 5
}
