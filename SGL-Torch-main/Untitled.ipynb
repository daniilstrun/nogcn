{
 "cells": [
  {
   "cell_type": "code",
   "execution_count": 1,
   "id": "fd5c4c67-c01a-48d7-9c74-6a5dd41b23de",
   "metadata": {
    "tags": []
   },
   "outputs": [],
   "source": [
    "%load_ext autoreload\n",
    "%autoreload 2"
   ]
  },
  {
   "cell_type": "code",
   "execution_count": 2,
   "id": "4c884baa-4ba1-4d3f-b80f-67b5704d110b",
   "metadata": {
    "tags": []
   },
   "outputs": [
    {
     "name": "stdout",
     "output_type": "stream",
     "text": [
      "set pytorch seed\n"
     ]
    }
   ],
   "source": [
    "import sys\n",
    "sys.path.append('RecSys2019_DeepLearning_Evaluation-master')\n",
    "from SLIM_ElasticNet.SLIMElasticNetRecommender import SLIMElasticNetRecommender\n",
    "from SLIM_BPR.Cython.SLIM_BPR_Cython import SLIM_BPR_Cython\n",
    "from MatrixFactorization.NMFRecommender import NMFRecommender\n",
    "from MatrixFactorization.IALSRecommender import IALSRecommender\n",
    "from MatrixFactorization.PureSVDRecommender import PureSVDRecommender\n",
    "from MatrixFactorization.PureSVDRecommender import PureSVDItemRecommender\n",
    "from KNN.ItemKNNCFRecommender import ItemKNNCFRecommender\n",
    "from KNN.UserKNNCFRecommender import UserKNNCFRecommender\n",
    "from model.base import AbstractRecommender\n",
    "from sklearn.preprocessing import normalize\n",
    "from reckit import Configurator\n",
    "from importlib.util import find_spec\n",
    "from importlib import import_module\n",
    "from reckit import typeassert\n",
    "import scipy as sp\n",
    "import os\n",
    "import sys\n",
    "import numpy as np\n",
    "import random\n",
    "import torch\n",
    "\n",
    "def _set_random_seed(seed=2021):\n",
    "    \n",
    "    np.random.seed(seed)\n",
    "    random.seed(seed)\n",
    "\n",
    "    torch.manual_seed(seed)\n",
    "    torch.cuda.manual_seed_all(seed)\n",
    "    np.random.seed(seed)\n",
    "    random.seed(seed)\n",
    "    torch.backends.cudnn.deterministic = True\n",
    "    print(\"set pytorch seed\")\n",
    "\n",
    "is_windows = sys.platform.startswith('win')\n",
    "if is_windows:\n",
    "    root_dir = './'\n",
    "    data_dir = './dataset/'\n",
    "else:\n",
    "    root_dir = './'\n",
    "    data_dir = './dataset/'\n",
    "config = Configurator(root_dir, data_dir)\n",
    "config.add_config(root_dir + \"NeuRec.ini\", section=\"NeuRec\")\n",
    "config.parse_cmd()\n",
    "os.environ['CUDA_VISIBLE_DEVICES'] = str(config[\"gpu_id\"])\n",
    "_set_random_seed(2021) # config[\"seed\"])\n",
    "\n",
    "model_cfg = os.path.join(root_dir + \"conf\", config.recommender+\".ini\")\n",
    "config.add_config(model_cfg, section=\"hyperparameters\", used_as_summary=True)"
   ]
  },
  {
   "cell_type": "code",
   "execution_count": 5,
   "id": "8649ab21-a772-4502-b202-7dab050d8bc5",
   "metadata": {
    "tags": []
   },
   "outputs": [],
   "source": [
    "config.seed = 2022"
   ]
  },
  {
   "cell_type": "code",
   "execution_count": 21,
   "id": "23b769a3-61d1-405b-a8e7-d97b17825756",
   "metadata": {
    "jupyter": {
     "source_hidden": true
    },
    "tags": []
   },
   "outputs": [],
   "source": [
    "class SLIM(AbstractRecommender):\n",
    "    def __init__(self, config):\n",
    "        super(SLIM, self).__init__(config)\n",
    "\n",
    "    def train_model(self, epochs=1000):\n",
    "        UI = self.dataset.train_csr_mat\n",
    "        self.UI = UI\n",
    "        slim = SLIM_BPR_Cython(UI)\n",
    "        slim.fit(epochs=epochs, topK=10**10)\n",
    "\n",
    "        self.W = slim.W_sparse\n",
    "\n",
    "        print('model traind')\n",
    "        current_result, buf = self.evaluate_model()\n",
    "        self.logger.info(\"\\t\\t%s\" % buf)\n",
    "        return current_result\n",
    "\n",
    "    def evaluate_model(self):\n",
    "        return self.evaluator.evaluate(self)\n",
    "\n",
    "    def predict(self, users):\n",
    "        return (self.UI[users] @ self.W).todense()"
   ]
  },
  {
   "cell_type": "code",
   "execution_count": 22,
   "id": "d366f351-00ca-4167-aa16-a873b4bac62c",
   "metadata": {
    "jupyter": {
     "source_hidden": true
    },
    "tags": []
   },
   "outputs": [],
   "source": [
    "class ALS(AbstractRecommender):\n",
    "    def __init__(self, config):\n",
    "        super(ALS, self).__init__(config)\n",
    "\n",
    "    def train_model(self, epochs = 300,\n",
    "                        num_factors = 20,\n",
    "                        confidence_scaling = \"linear\",\n",
    "                        alpha = 1.0,\n",
    "                        epsilon = 1.0,\n",
    "                        reg = 1e-3,\n",
    "                        init_mean=0.0,\n",
    "                        init_std=0.1,\n",
    "                        validation_every_n=5):\n",
    "        UI = self.dataset.train_csr_mat\n",
    "        als = IALSRecommender(UI)\n",
    "        als.fit(epochs = epochs,\n",
    "                num_factors = num_factors,\n",
    "                confidence_scaling = confidence_scaling,\n",
    "                alpha = alpha,\n",
    "                epsilon = epsilon,\n",
    "                reg = reg,\n",
    "                init_mean=init_mean,\n",
    "                init_std=init_std,\n",
    "                validation_every_n=5)\n",
    "\n",
    "        self.ITEM_factors = als.ITEM_factors\n",
    "        self.USER_factors = als.USER_factors\n",
    "\n",
    "        print('model traind')\n",
    "        current_result, buf = self.evaluate_model()\n",
    "        self.logger.info(\"\\t\\t%s\" % buf)\n",
    "        return current_result\n",
    "\n",
    "    def evaluate_model(self):\n",
    "        return self.evaluator.evaluate(self)\n",
    "\n",
    "    def predict(self, users):\n",
    "        return np.dot(self.USER_factors[users], self.ITEM_factors.T)"
   ]
  },
  {
   "cell_type": "code",
   "execution_count": 23,
   "id": "82f5613a-390d-4a1d-8e89-f84aa5f1ab32",
   "metadata": {
    "jupyter": {
     "source_hidden": true
    },
    "tags": []
   },
   "outputs": [],
   "source": [
    "class NNMF(AbstractRecommender):\n",
    "    def __init__(self, config):\n",
    "        super(NNMF, self).__init__(config)\n",
    "\n",
    "    def train_model(self, num_factors = 100,\n",
    "                          l1_ratio    = 0.05,\n",
    "                          alpha_W     = 0.,\n",
    "                          init_type   = 'random',\n",
    "                          beta_loss   = \"frobenius\",\n",
    "                          max_iter    = 500,\n",
    "                          verbose     = True):\n",
    "        UI = self.dataset.train_csr_mat\n",
    "        nnmf = NMFRecommender(UI)\n",
    "        nnmf.fit(num_factors = num_factors,\n",
    "                 l1_ratio    = l1_ratio,\n",
    "                 alpha_W     = alpha_W,\n",
    "                 init_type   = init_type,\n",
    "                 beta_loss   = beta_loss,\n",
    "                 max_iter    = max_iter,\n",
    "                 verbose     = verbose)\n",
    "\n",
    "        self.ITEM_factors = nnmf.ITEM_factors\n",
    "        self.USER_factors = nnmf.USER_factors\n",
    "\n",
    "        print('model traind')\n",
    "        current_result, buf = self.evaluate_model()\n",
    "        self.logger.info(\"\\t\\t%s\" % buf)\n",
    "        return current_result\n",
    "\n",
    "    def evaluate_model(self):\n",
    "        return self.evaluator.evaluate(self)\n",
    "\n",
    "    def predict(self, users):\n",
    "        return np.dot(self.USER_factors[users], self.ITEM_factors.T)"
   ]
  },
  {
   "cell_type": "code",
   "execution_count": 24,
   "id": "6918b92c-3e42-4a54-beec-0a0021573e92",
   "metadata": {
    "jupyter": {
     "source_hidden": true
    },
    "tags": []
   },
   "outputs": [],
   "source": [
    "class PureSVD(AbstractRecommender):\n",
    "    def __init__(self, config):\n",
    "        super(PureSVD, self).__init__(config)\n",
    "\n",
    "    def train_model(self, num_factors=100):\n",
    "        UI = self.dataset.train_csr_mat\n",
    "        svd = PureSVDRecommender(UI)\n",
    "        svd.fit(num_factors=num_factors)\n",
    "\n",
    "        self.ITEM_factors = svd.ITEM_factors\n",
    "        self.USER_factors = svd.USER_factors\n",
    "\n",
    "        print('model traind')\n",
    "        current_result, buf = self.evaluate_model()\n",
    "        self.logger.info(\"\\t\\t%s\" % buf)\n",
    "        return current_result\n",
    "\n",
    "    def evaluate_model(self):\n",
    "        return self.evaluator.evaluate(self)\n",
    "\n",
    "    def predict(self, users):\n",
    "        return np.dot(self.USER_factors[users], self.ITEM_factors.T)"
   ]
  },
  {
   "cell_type": "code",
   "execution_count": 26,
   "id": "565bf307-d774-4a68-a1a2-428d1552a280",
   "metadata": {
    "jupyter": {
     "source_hidden": true
    },
    "tags": []
   },
   "outputs": [],
   "source": [
    "class UserKNN(AbstractRecommender):\n",
    "    def __init__(self, config):\n",
    "        super(UserKNN, self).__init__(config)\n",
    "\n",
    "    def train_model(self, topK=1000,\n",
    "                          shrink=100,\n",
    "                          feature_weighting=\"none\"):\n",
    "        self.UI = self.dataset.train_csr_mat\n",
    "        model_ = UserKNNCFRecommender(self.UI)\n",
    "        model_.fit(topK=topK,\n",
    "                   shrink=shrink,\n",
    "                   feature_weighting=feature_weighting)\n",
    "\n",
    "        self.W = model_.W_sparse\n",
    "\n",
    "        print('model traind')\n",
    "        current_result, buf = self.evaluate_model()\n",
    "        self.logger.info(\"\\t\\t%s\" % buf)\n",
    "        return current_result\n",
    "\n",
    "    def evaluate_model(self):\n",
    "        return self.evaluator.evaluate(self)\n",
    "\n",
    "    def predict(self, users):\n",
    "        return (self.W[users] @ self.UI).todense()"
   ]
  },
  {
   "cell_type": "code",
   "execution_count": 27,
   "id": "806a79c3-06d2-46c0-b3ce-b19c81cf9a2b",
   "metadata": {
    "jupyter": {
     "source_hidden": true
    },
    "tags": []
   },
   "outputs": [],
   "source": [
    "class ItemKNN(AbstractRecommender):\n",
    "    def __init__(self, config):\n",
    "        super(ItemKNN, self).__init__(config)\n",
    "\n",
    "    def train_model(self, topK=1000,\n",
    "                          shrink=100,\n",
    "                          similarity='cosine',\n",
    "                          feature_weighting=\"none\"):\n",
    "        self.UI = self.dataset.train_csr_mat\n",
    "        model_ = ItemKNNCFRecommender(self.UI)\n",
    "        model_.fit(topK=topK,\n",
    "                   shrink=shrink,\n",
    "                   similarity=similarity,\n",
    "                   feature_weighting=feature_weighting)\n",
    "\n",
    "        self.W = model_.W_sparse\n",
    "\n",
    "        print('model traind')\n",
    "        current_result, buf = self.evaluate_model()\n",
    "        self.logger.info(\"\\t\\t%s\" % buf)\n",
    "        return current_result\n",
    "\n",
    "    def evaluate_model(self):\n",
    "        return self.evaluator.evaluate(self)\n",
    "\n",
    "    def predict(self, users):\n",
    "        return (self.UI[users] @ self.W).todense()"
   ]
  },
  {
   "cell_type": "code",
   "execution_count": 26,
   "id": "822fa711-66c5-419a-bcde-9fdc984a61a4",
   "metadata": {
    "tags": []
   },
   "outputs": [],
   "source": [
    "class RP3beta(AbstractRecommender):\n",
    "    def __init__(self, config):\n",
    "        super(RP3beta, self).__init__(config)\n",
    "    \n",
    "    def train_model(self, alpha=1, beta=0, q_u=0, q_i=0):\n",
    "        UI = self.dataset.train_csr_mat\n",
    "        I_sum = np.array(UI.sum(0))\n",
    "        U_sum = np.array(UI.sum(1))\n",
    "        q_i_val = np.quantile(I_sum, q_i)\n",
    "        q_u_val = np.quantile(U_sum, q_u)\n",
    "        print('U:', q_u_val, 'I:', q_i_val)\n",
    "        I_index = I_sum >= q_i_val\n",
    "        U_index = U_sum >= q_u_val\n",
    "        UI = UI.multiply(I_index)\n",
    "        UI = sp.sparse.csr_matrix(UI.multiply(U_index))\n",
    "        self.UI = UI \n",
    "        Pui = normalize(UI, norm='l1', axis=1)\n",
    "        Pui = Pui.power(alpha)\n",
    "\n",
    "        IU = UI.T\n",
    "        Piu_sum = np.array(IU.sum(1)).reshape(1, -1)\n",
    "        Piu = normalize(IU, norm='l1', axis=1)\n",
    "        Piu = Piu.power(alpha)\n",
    "\n",
    "        self.norm = Piu_sum ** beta\n",
    "        self.W = Piu @ Pui\n",
    "\n",
    "        print('model traind')\n",
    "        current_result, buf = self.evaluate_model()\n",
    "        self.logger.info(\"\\t\\t%s\" % buf)\n",
    "        return current_result\n",
    "\n",
    "    def evaluate_model(self):\n",
    "        return self.evaluator.evaluate(self)\n",
    "\n",
    "    def predict(self, users):\n",
    "        return (self.UI[users] @ self.W).todense()/(self.norm + 1e-10)"
   ]
  },
  {
   "cell_type": "code",
   "execution_count": 37,
   "id": "50461f4e-f7a4-4779-8d32-26ad686052c5",
   "metadata": {
    "tags": []
   },
   "outputs": [],
   "source": [
    "config.dataset = 'ifashion'"
   ]
  },
  {
   "cell_type": "code",
   "execution_count": 38,
   "id": "e22cf3d1-d78b-4526-843b-16ea3d36a00c",
   "metadata": {
    "collapsed": true,
    "jupyter": {
     "outputs_hidden": true
    },
    "tags": []
   },
   "outputs": [
    {
     "name": "stderr",
     "output_type": "stream",
     "text": [
      "/home/daniilstrunov/nogcn/SGL-Torch-main/data/dataset.py:317: UserWarning: ./dataset/ifashion/ifashion.valid does not exist.\n",
      "  warnings.warn(\"%s does not exist.\" % valid_file)\n",
      "/home/daniilstrunov/nogcn/SGL-Torch-main/data/dataset.py:331: UserWarning: ./dataset/ifashion/ifashion.user2id does not exist.\n",
      "  warnings.warn(\"%s does not exist.\" % user2id_file)\n",
      "/home/daniilstrunov/nogcn/SGL-Torch-main/data/dataset.py:339: UserWarning: ./dataset/ifashion/ifashion.item2id does not exist.\n",
      "  warnings.warn(\"%s does not exist.\" % item2id_file)\n"
     ]
    },
    {
     "name": "stdout",
     "output_type": "stream",
     "text": [
      "Item degree grouping...\n",
      "User degree grouping...\n",
      "Data loading finished\n",
      "2023-04-18 19:03:20.642: my pid: 2475\n",
      "2023-04-18 19:03:20.643: model: __main__\n",
      "2023-04-18 19:03:20.643: Dataset statistics:\n",
      "Name: ifashion\n",
      "The number of users: 300000\n",
      "The number of items: 81614\n",
      "The number of ratings: 1607813\n",
      "Average actions of users: 5.36\n",
      "Average actions of items: 19.70\n",
      "The sparsity of the dataset: 99.993433%\n",
      "\n",
      "The number of training: 1255447\n",
      "The number of validation: 0\n",
      "The number of testing: 352366\n",
      "2023-04-18 19:03:20.644: NeuRec:[NeuRec]:\n",
      "recommender=SGL\n",
      "dataset=yelp2018\n",
      "file_column=UI\n",
      "sep=','\n",
      "gpu_id=0\n",
      "gpu_mem=0.99\n",
      "metric=[\"Precision\", \"Recall\", \"NDCG\"]\n",
      "top_k=[20]\n",
      "test_thread=8\n",
      "test_batch_size=128\n",
      "seed=2021\n",
      "start_testing_epoch=0\n",
      "\n",
      "SGL:[hyperparameters]:\n",
      "aug_type=ED\n",
      "reg=1e-4\n",
      "embed_size=64\n",
      "n_layers=3\n",
      "ssl_reg=0.1\n",
      "ssl_ratio=0.1\n",
      "ssl_temp=0.2\n",
      "ssl_mode=both_side\n",
      "lr=0.001\n",
      "learner=adam\n",
      "adj_type=pre\n",
      "epochs=1000\n",
      "batch_size=2048\n",
      "num_negatives=1\n",
      "param_init=xavier_uniform\n",
      "stddev=0.01\n",
      "verbose=1\n",
      "stop_cnt=10\n",
      "pretrain_flag=0\n",
      "save_flag=0\n"
     ]
    }
   ],
   "source": [
    "'''\n",
    "amazon-book: alpha=1., beta=0.\n",
    "yelp2018: alpha=0.7, beta=0.5\n",
    "ifashion: alpha=0.315308, beta=0.056393\n",
    "'''\n",
    "model = RP3beta(config)"
   ]
  },
  {
   "cell_type": "code",
   "execution_count": 39,
   "id": "62c6cf13-6c3b-4963-9b8e-761cc36c7277",
   "metadata": {
    "tags": []
   },
   "outputs": [
    {
     "name": "stdout",
     "output_type": "stream",
     "text": [
      "U: 1.0 I: 1.0\n",
      "model traind\n",
      "2023-04-18 19:06:04.737: \t\t0.00680723  \t0.10841475  \t0.05410637  \n"
     ]
    },
    {
     "data": {
      "text/plain": [
       "array([0.00680723, 0.10841475, 0.05410637], dtype=float32)"
      ]
     },
     "execution_count": 39,
     "metadata": {},
     "output_type": "execute_result"
    }
   ],
   "source": [
    "model.train_model(alpha=0.315308, beta=0.056393, q_u=0.0, q_i=0.0)"
   ]
  },
  {
   "cell_type": "code",
   "execution_count": null,
   "id": "83487370-3bc4-49d6-babd-d6f7ee7f86f1",
   "metadata": {
    "collapsed": true,
    "jupyter": {
     "outputs_hidden": true
    },
    "tags": []
   },
   "outputs": [
    {
     "name": "stderr",
     "output_type": "stream",
     "text": [
      "\u001b[32m[I 2023-03-22 21:10:02,303]\u001b[0m A new study created in memory with name: no-name-fb1678a0-a85c-4838-8dac-09ab72ec1ce9\u001b[0m\n"
     ]
    },
    {
     "name": "stdout",
     "output_type": "stream",
     "text": [
      "U: 21.0 I: 1.0\n",
      "model traind\n",
      "2023-03-22 21:12:08.875: \t\t0.00524175  \t0.08358254  \t0.04276825  \n"
     ]
    },
    {
     "name": "stderr",
     "output_type": "stream",
     "text": [
      "\u001b[32m[I 2023-03-22 21:12:08,876]\u001b[0m Trial 0 finished with value: 0.08358253538608551 and parameters: {'alpha': 0.034742458127195563, 'beta': 0.2992919117662973}. Best is trial 0 with value: 0.08358253538608551.\u001b[0m\n"
     ]
    },
    {
     "name": "stdout",
     "output_type": "stream",
     "text": [
      "U: 21.0 I: 1.0\n",
      "model traind\n",
      "2023-03-22 21:14:16.069: \t\t0.00341553  \t0.05240951  \t0.02723281  \n"
     ]
    },
    {
     "name": "stderr",
     "output_type": "stream",
     "text": [
      "\u001b[32m[I 2023-03-22 21:14:16,071]\u001b[0m Trial 1 finished with value: 0.05240951105952263 and parameters: {'alpha': 0.1714956800986197, 'beta': 0.42873599190205847}. Best is trial 0 with value: 0.08358253538608551.\u001b[0m\n"
     ]
    },
    {
     "name": "stdout",
     "output_type": "stream",
     "text": [
      "U: 21.0 I: 1.0\n",
      "model traind\n",
      "2023-03-22 21:16:20.952: \t\t0.00604757  \t0.09828963  \t0.04959533  \n"
     ]
    },
    {
     "name": "stderr",
     "output_type": "stream",
     "text": [
      "\u001b[32m[I 2023-03-22 21:16:20,953]\u001b[0m Trial 2 finished with value: 0.09828963130712509 and parameters: {'alpha': 0.4834797178830985, 'beta': 0.13409053937394133}. Best is trial 2 with value: 0.09828963130712509.\u001b[0m\n"
     ]
    },
    {
     "name": "stdout",
     "output_type": "stream",
     "text": [
      "U: 21.0 I: 1.0\n",
      "model traind\n",
      "2023-03-22 21:18:29.241: \t\t0.00014562  \t0.00238236  \t0.00083289  \n"
     ]
    },
    {
     "name": "stderr",
     "output_type": "stream",
     "text": [
      "\u001b[32m[I 2023-03-22 21:18:29,243]\u001b[0m Trial 3 finished with value: 0.0023823606316000223 and parameters: {'alpha': 0.758600453281314, 'beta': 0.941891340119349}. Best is trial 2 with value: 0.09828963130712509.\u001b[0m\n"
     ]
    },
    {
     "name": "stdout",
     "output_type": "stream",
     "text": [
      "U: 21.0 I: 1.0\n",
      "model traind\n",
      "2023-03-22 21:20:36.619: \t\t0.00357691  \t0.05976864  \t0.02732939  \n"
     ]
    },
    {
     "name": "stderr",
     "output_type": "stream",
     "text": [
      "\u001b[32m[I 2023-03-22 21:20:36,620]\u001b[0m Trial 4 finished with value: 0.059768639504909515 and parameters: {'alpha': 0.7691299948954292, 'beta': 0.2718439124882567}. Best is trial 2 with value: 0.09828963130712509.\u001b[0m\n"
     ]
    },
    {
     "name": "stdout",
     "output_type": "stream",
     "text": [
      "U: 21.0 I: 1.0\n",
      "model traind\n",
      "2023-03-22 21:22:44.566: \t\t0.00261358  \t0.04487399  \t0.01915952  \n"
     ]
    },
    {
     "name": "stderr",
     "output_type": "stream",
     "text": [
      "\u001b[32m[I 2023-03-22 21:22:44,568]\u001b[0m Trial 5 finished with value: 0.04487398639321327 and parameters: {'alpha': 0.8853274095113592, 'beta': 0.3233462728945894}. Best is trial 2 with value: 0.09828963130712509.\u001b[0m\n"
     ]
    },
    {
     "name": "stdout",
     "output_type": "stream",
     "text": [
      "U: 21.0 I: 1.0\n",
      "model traind\n",
      "2023-03-22 21:24:53.300: \t\t0.00016180  \t0.00259772  \t0.00089336  \n"
     ]
    },
    {
     "name": "stderr",
     "output_type": "stream",
     "text": [
      "\u001b[32m[I 2023-03-22 21:24:53,301]\u001b[0m Trial 6 finished with value: 0.002597724087536335 and parameters: {'alpha': 0.2838785981829032, 'beta': 0.705908547360186}. Best is trial 2 with value: 0.09828963130712509.\u001b[0m\n"
     ]
    },
    {
     "name": "stdout",
     "output_type": "stream",
     "text": [
      "U: 21.0 I: 1.0\n",
      "model traind\n",
      "2023-03-22 21:27:01.182: \t\t0.00015064  \t0.00247442  \t0.00087082  \n"
     ]
    },
    {
     "name": "stderr",
     "output_type": "stream",
     "text": [
      "\u001b[32m[I 2023-03-22 21:27:01,183]\u001b[0m Trial 7 finished with value: 0.002474420238286257 and parameters: {'alpha': 0.8613376274626795, 'beta': 0.9850622984727313}. Best is trial 2 with value: 0.09828963130712509.\u001b[0m\n"
     ]
    },
    {
     "name": "stdout",
     "output_type": "stream",
     "text": [
      "U: 21.0 I: 1.0\n",
      "model traind\n",
      "2023-03-22 21:29:07.899: \t\t0.00640742  \t0.10562919  \t0.05244550  \n"
     ]
    },
    {
     "name": "stderr",
     "output_type": "stream",
     "text": [
      "\u001b[32m[I 2023-03-22 21:29:07,900]\u001b[0m Trial 8 finished with value: 0.10562919080257416 and parameters: {'alpha': 0.21968597996143369, 'beta': 0.046250500142676954}. Best is trial 8 with value: 0.10562919080257416.\u001b[0m\n"
     ]
    },
    {
     "name": "stdout",
     "output_type": "stream",
     "text": [
      "U: 21.0 I: 1.0\n",
      "model traind\n",
      "2023-03-22 21:31:14.487: \t\t0.00483147  \t0.07625276  \t0.03946983  \n"
     ]
    },
    {
     "name": "stderr",
     "output_type": "stream",
     "text": [
      "\u001b[32m[I 2023-03-22 21:31:14,488]\u001b[0m Trial 9 finished with value: 0.0762527585029602 and parameters: {'alpha': 0.01231785822338849, 'beta': 0.3350402285840228}. Best is trial 8 with value: 0.10562919080257416.\u001b[0m\n"
     ]
    },
    {
     "name": "stdout",
     "output_type": "stream",
     "text": [
      "U: 21.0 I: 1.0\n",
      "model traind\n",
      "2023-03-22 21:33:20.481: \t\t0.00644037  \t0.10586046  \t0.05283996  \n"
     ]
    },
    {
     "name": "stderr",
     "output_type": "stream",
     "text": [
      "\u001b[32m[I 2023-03-22 21:33:20,483]\u001b[0m Trial 10 finished with value: 0.10586046427488327 and parameters: {'alpha': 0.39849949435202725, 'beta': 0.008446488488235641}. Best is trial 10 with value: 0.10586046427488327.\u001b[0m\n"
     ]
    },
    {
     "name": "stdout",
     "output_type": "stream",
     "text": [
      "U: 21.0 I: 1.0\n",
      "model traind\n",
      "2023-03-22 21:35:27.819: \t\t0.00645228  \t0.10612746  \t0.05287049  \n"
     ]
    },
    {
     "name": "stderr",
     "output_type": "stream",
     "text": [
      "\u001b[32m[I 2023-03-22 21:35:27,821]\u001b[0m Trial 11 finished with value: 0.10612746328115463 and parameters: {'alpha': 0.3609779228782747, 'beta': 0.015347092279134}. Best is trial 11 with value: 0.10612746328115463.\u001b[0m\n"
     ]
    },
    {
     "name": "stdout",
     "output_type": "stream",
     "text": [
      "U: 21.0 I: 1.0\n",
      "model traind\n",
      "2023-03-22 21:37:34.675: \t\t0.00640592  \t0.10519428  \t0.05256080  \n"
     ]
    },
    {
     "name": "stderr",
     "output_type": "stream",
     "text": [
      "\u001b[32m[I 2023-03-22 21:37:34,676]\u001b[0m Trial 12 finished with value: 0.10519427806138992 and parameters: {'alpha': 0.43959489368263244, 'beta': 0.0006979220335839864}. Best is trial 11 with value: 0.10612746328115463.\u001b[0m\n"
     ]
    },
    {
     "name": "stdout",
     "output_type": "stream",
     "text": [
      "U: 21.0 I: 1.0\n",
      "model traind\n",
      "2023-03-22 21:39:42.791: \t\t0.00569260  \t0.09280981  \t0.04665062  \n"
     ]
    },
    {
     "name": "stderr",
     "output_type": "stream",
     "text": [
      "\u001b[32m[I 2023-03-22 21:39:42,793]\u001b[0m Trial 13 finished with value: 0.09280981123447418 and parameters: {'alpha': 0.581134592564706, 'beta': 0.12961647832415224}. Best is trial 11 with value: 0.10612746328115463.\u001b[0m\n"
     ]
    },
    {
     "name": "stdout",
     "output_type": "stream",
     "text": [
      "U: 21.0 I: 1.0\n",
      "model traind\n",
      "2023-03-22 21:41:49.748: \t\t0.00622721  \t0.10117841  \t0.05100989  \n"
     ]
    },
    {
     "name": "stderr",
     "output_type": "stream",
     "text": [
      "\u001b[32m[I 2023-03-22 21:41:49,749]\u001b[0m Trial 14 finished with value: 0.10117840766906738 and parameters: {'alpha': 0.3572921384099736, 'beta': 0.15480863788088828}. Best is trial 11 with value: 0.10612746328115463.\u001b[0m\n"
     ]
    },
    {
     "name": "stdout",
     "output_type": "stream",
     "text": [
      "U: 21.0 I: 1.0\n",
      "model traind\n",
      "2023-03-22 21:43:57.603: \t\t0.00609190  \t0.09988333  \t0.05020043  \n"
     ]
    },
    {
     "name": "stderr",
     "output_type": "stream",
     "text": [
      "\u001b[32m[I 2023-03-22 21:43:57,604]\u001b[0m Trial 15 finished with value: 0.09988332539796829 and parameters: {'alpha': 0.5867320468740319, 'beta': 0.0009149395703033792}. Best is trial 11 with value: 0.10612746328115463.\u001b[0m\n"
     ]
    },
    {
     "name": "stdout",
     "output_type": "stream",
     "text": [
      "U: 21.0 I: 1.0\n",
      "model traind\n",
      "2023-03-22 21:46:05.152: \t\t0.00117222  \t0.01865142  \t0.00755665  \n"
     ]
    },
    {
     "name": "stderr",
     "output_type": "stream",
     "text": [
      "\u001b[32m[I 2023-03-22 21:46:05,154]\u001b[0m Trial 16 finished with value: 0.01865142211318016 and parameters: {'alpha': 0.3682855823657741, 'beta': 0.5463479051859245}. Best is trial 11 with value: 0.10612746328115463.\u001b[0m\n"
     ]
    },
    {
     "name": "stdout",
     "output_type": "stream",
     "text": [
      "U: 21.0 I: 1.0\n",
      "model traind\n",
      "2023-03-22 21:48:12.904: \t\t0.00532217  \t0.08594099  \t0.04310272  \n"
     ]
    },
    {
     "name": "stderr",
     "output_type": "stream",
     "text": [
      "\u001b[32m[I 2023-03-22 21:48:12,906]\u001b[0m Trial 17 finished with value: 0.08594098687171936 and parameters: {'alpha': 0.5034713217674771, 'beta': 0.223158888628383}. Best is trial 11 with value: 0.10612746328115463.\u001b[0m\n"
     ]
    },
    {
     "name": "stdout",
     "output_type": "stream",
     "text": [
      "U: 21.0 I: 1.0\n",
      "model traind\n",
      "2023-03-22 21:50:19.380: \t\t0.00633854  \t0.10425133  \t0.05186376  \n"
     ]
    },
    {
     "name": "stderr",
     "output_type": "stream",
     "text": [
      "\u001b[32m[I 2023-03-22 21:50:19,381]\u001b[0m Trial 18 finished with value: 0.10425133258104324 and parameters: {'alpha': 0.16085379913849168, 'beta': 0.11138295269046028}. Best is trial 11 with value: 0.10612746328115463.\u001b[0m\n"
     ]
    },
    {
     "name": "stdout",
     "output_type": "stream",
     "text": [
      "U: 21.0 I: 1.0\n",
      "model traind\n",
      "2023-03-22 21:52:26.558: \t\t0.00620189  \t0.10064837  \t0.05066202  \n"
     ]
    },
    {
     "name": "stderr",
     "output_type": "stream",
     "text": [
      "\u001b[32m[I 2023-03-22 21:52:26,559]\u001b[0m Trial 19 finished with value: 0.10064837336540222 and parameters: {'alpha': 0.3176105461543376, 'beta': 0.1732204471051747}. Best is trial 11 with value: 0.10612746328115463.\u001b[0m\n"
     ]
    },
    {
     "name": "stdout",
     "output_type": "stream",
     "text": [
      "U: 21.0 I: 1.0\n",
      "model traind\n",
      "2023-03-22 21:54:33.650: \t\t0.00637744  \t0.10427336  \t0.05237198  \n"
     ]
    },
    {
     "name": "stderr",
     "output_type": "stream",
     "text": [
      "\u001b[32m[I 2023-03-22 21:54:33,651]\u001b[0m Trial 20 finished with value: 0.10427336394786835 and parameters: {'alpha': 0.42530853810973057, 'beta': 0.06786970992552155}. Best is trial 11 with value: 0.10612746328115463.\u001b[0m\n"
     ]
    },
    {
     "name": "stdout",
     "output_type": "stream",
     "text": [
      "U: 21.0 I: 1.0\n",
      "model traind\n",
      "2023-03-22 21:56:42.039: \t\t0.00640295  \t0.10572400  \t0.05237115  \n"
     ]
    },
    {
     "name": "stderr",
     "output_type": "stream",
     "text": [
      "\u001b[32m[I 2023-03-22 21:56:42,041]\u001b[0m Trial 21 finished with value: 0.10572399944067001 and parameters: {'alpha': 0.2437016538288776, 'beta': 0.01160435251064373}. Best is trial 11 with value: 0.10612746328115463.\u001b[0m\n"
     ]
    },
    {
     "name": "stdout",
     "output_type": "stream",
     "text": [
      "U: 21.0 I: 1.0\n",
      "model traind\n",
      "2023-03-22 21:58:49.514: \t\t0.00641748  \t0.10593025  \t0.05251191  \n"
     ]
    },
    {
     "name": "stderr",
     "output_type": "stream",
     "text": [
      "\u001b[32m[I 2023-03-22 21:58:49,516]\u001b[0m Trial 22 finished with value: 0.10593024641275406 and parameters: {'alpha': 0.2710704940897808, 'beta': 0.003992251074141315}. Best is trial 11 with value: 0.10612746328115463.\u001b[0m\n"
     ]
    },
    {
     "name": "stdout",
     "output_type": "stream",
     "text": [
      "U: 21.0 I: 1.0\n",
      "model traind\n",
      "2023-03-22 22:00:56.742: \t\t0.00643384  \t0.10534429  \t0.05270689  \n"
     ]
    },
    {
     "name": "stderr",
     "output_type": "stream",
     "text": [
      "\u001b[32m[I 2023-03-22 22:00:56,743]\u001b[0m Trial 23 finished with value: 0.10534428805112839 and parameters: {'alpha': 0.3446487086640799, 'beta': 0.08551018514275863}. Best is trial 11 with value: 0.10612746328115463.\u001b[0m\n"
     ]
    },
    {
     "name": "stdout",
     "output_type": "stream",
     "text": [
      "U: 21.0 I: 1.0\n",
      "model traind\n",
      "2023-03-22 22:03:03.203: \t\t0.00601351  \t0.09788328  \t0.04918380  \n"
     ]
    },
    {
     "name": "stderr",
     "output_type": "stream",
     "text": [
      "\u001b[32m[I 2023-03-22 22:03:03,204]\u001b[0m Trial 24 finished with value: 0.09788328409194946 and parameters: {'alpha': 0.10856899366088446, 'beta': 0.2041332049319297}. Best is trial 11 with value: 0.10612746328115463.\u001b[0m\n"
     ]
    },
    {
     "name": "stdout",
     "output_type": "stream",
     "text": [
      "U: 21.0 I: 1.0\n",
      "model traind\n",
      "2023-03-22 22:05:11.160: \t\t0.00641169  \t0.10511043  \t0.05254685  \n"
     ]
    },
    {
     "name": "stderr",
     "output_type": "stream",
     "text": [
      "\u001b[32m[I 2023-03-22 22:05:11,161]\u001b[0m Trial 25 finished with value: 0.10511042922735214 and parameters: {'alpha': 0.275553686827605, 'beta': 0.10183717374604495}. Best is trial 11 with value: 0.10612746328115463.\u001b[0m\n"
     ]
    },
    {
     "name": "stdout",
     "output_type": "stream",
     "text": [
      "U: 21.0 I: 1.0\n",
      "model traind\n",
      "2023-03-22 22:07:17.751: \t\t0.00602617  \t0.09747491  \t0.04919780  \n"
     ]
    },
    {
     "name": "stderr",
     "output_type": "stream",
     "text": [
      "\u001b[32m[I 2023-03-22 22:07:17,752]\u001b[0m Trial 26 finished with value: 0.09747491031885147 and parameters: {'alpha': 0.22201698991184893, 'beta': 0.2150192025515405}. Best is trial 11 with value: 0.10612746328115463.\u001b[0m\n"
     ]
    },
    {
     "name": "stdout",
     "output_type": "stream",
     "text": [
      "U: 21.0 I: 1.0\n",
      "model traind\n",
      "2023-03-22 22:09:25.211: \t\t0.00639847  \t0.10462890  \t0.05250929  \n"
     ]
    },
    {
     "name": "stderr",
     "output_type": "stream",
     "text": [
      "\u001b[32m[I 2023-03-22 22:09:25,213]\u001b[0m Trial 27 finished with value: 0.10462889820337296 and parameters: {'alpha': 0.3981677166025426, 'beta': 0.07543207956013243}. Best is trial 11 with value: 0.10612746328115463.\u001b[0m\n"
     ]
    },
    {
     "name": "stdout",
     "output_type": "stream",
     "text": [
      "U: 21.0 I: 1.0\n",
      "model traind\n",
      "2023-03-22 22:11:31.438: \t\t0.00642939  \t0.10608380  \t0.05260700  \n"
     ]
    },
    {
     "name": "stderr",
     "output_type": "stream",
     "text": [
      "\u001b[32m[I 2023-03-22 22:11:31,440]\u001b[0m Trial 28 finished with value: 0.10608380287885666 and parameters: {'alpha': 0.2832854435075175, 'beta': 0.003453993768254688}. Best is trial 11 with value: 0.10612746328115463.\u001b[0m\n"
     ]
    },
    {
     "name": "stdout",
     "output_type": "stream",
     "text": [
      "U: 21.0 I: 1.0\n",
      "model traind\n",
      "2023-03-22 22:13:38.054: \t\t0.00612689  \t0.10034766  \t0.05017355  \n"
     ]
    },
    {
     "name": "stderr",
     "output_type": "stream",
     "text": [
      "\u001b[32m[I 2023-03-22 22:13:38,056]\u001b[0m Trial 29 finished with value: 0.10034766048192978 and parameters: {'alpha': 0.0822179829762964, 'beta': 0.1668001913759915}. Best is trial 11 with value: 0.10612746328115463.\u001b[0m\n"
     ]
    },
    {
     "name": "stdout",
     "output_type": "stream",
     "text": [
      "U: 21.0 I: 1.0\n",
      "model traind\n",
      "2023-03-22 22:15:44.308: \t\t0.00558630  \t0.08973275  \t0.04554555  \n"
     ]
    },
    {
     "name": "stderr",
     "output_type": "stream",
     "text": [
      "\u001b[32m[I 2023-03-22 22:15:44,309]\u001b[0m Trial 30 finished with value: 0.08973275125026703 and parameters: {'alpha': 0.08215620089079734, 'beta': 0.26789299999657024}. Best is trial 11 with value: 0.10612746328115463.\u001b[0m\n"
     ]
    },
    {
     "name": "stdout",
     "output_type": "stream",
     "text": [
      "U: 21.0 I: 1.0\n",
      "model traind\n",
      "2023-03-22 22:17:50.275: \t\t0.00643962  \t0.10620567  \t0.05270607  \n"
     ]
    },
    {
     "name": "stderr",
     "output_type": "stream",
     "text": [
      "\u001b[32m[I 2023-03-22 22:17:50,276]\u001b[0m Trial 31 finished with value: 0.10620567202568054 and parameters: {'alpha': 0.3121479736641724, 'beta': 0.00022535548887725465}. Best is trial 31 with value: 0.10620567202568054.\u001b[0m\n"
     ]
    },
    {
     "name": "stdout",
     "output_type": "stream",
     "text": [
      "U: 21.0 I: 1.0\n",
      "model traind\n",
      "2023-03-22 22:19:55.909: \t\t0.00643664  \t0.10590982  \t0.05273522  \n"
     ]
    },
    {
     "name": "stderr",
     "output_type": "stream",
     "text": [
      "\u001b[32m[I 2023-03-22 22:19:55,910]\u001b[0m Trial 32 finished with value: 0.10590982437133789 and parameters: {'alpha': 0.26151483013582283, 'beta': 0.06582990432828045}. Best is trial 31 with value: 0.10620567202568054.\u001b[0m\n"
     ]
    },
    {
     "name": "stdout",
     "output_type": "stream",
     "text": [
      "U: 21.0 I: 1.0\n",
      "model traind\n",
      "2023-03-22 22:22:01.453: \t\t0.00636926  \t0.10499310  \t0.05214662  \n"
     ]
    },
    {
     "name": "stderr",
     "output_type": "stream",
     "text": [
      "\u001b[32m[I 2023-03-22 22:22:01,454]\u001b[0m Trial 33 finished with value: 0.10499310493469238 and parameters: {'alpha': 0.18275215433826994, 'beta': 0.06960729320413218}. Best is trial 31 with value: 0.10620567202568054.\u001b[0m\n"
     ]
    },
    {
     "name": "stdout",
     "output_type": "stream",
     "text": [
      "U: 21.0 I: 1.0\n",
      "model traind\n",
      "2023-03-22 22:24:07.068: \t\t0.00636999  \t0.10401534  \t0.05215621  \n"
     ]
    },
    {
     "name": "stderr",
     "output_type": "stream",
     "text": [
      "\u001b[32m[I 2023-03-22 22:24:07,070]\u001b[0m Trial 34 finished with value: 0.10401533544063568 and parameters: {'alpha': 0.3062535108281872, 'beta': 0.12761423101566216}. Best is trial 31 with value: 0.10620567202568054.\u001b[0m\n"
     ]
    },
    {
     "name": "stdout",
     "output_type": "stream",
     "text": [
      "U: 21.0 I: 1.0\n",
      "model traind\n",
      "2023-03-22 22:26:13.173: \t\t0.00644390  \t0.10626625  \t0.05274016  \n"
     ]
    },
    {
     "name": "stderr",
     "output_type": "stream",
     "text": [
      "\u001b[32m[I 2023-03-22 22:26:13,174]\u001b[0m Trial 35 finished with value: 0.10626625269651413 and parameters: {'alpha': 0.30918695061790447, 'beta': 0.004793173511273886}. Best is trial 35 with value: 0.10626625269651413.\u001b[0m\n"
     ]
    },
    {
     "name": "stdout",
     "output_type": "stream",
     "text": [
      "U: 21.0 I: 1.0\n",
      "model traind\n",
      "2023-03-22 22:28:20.210: \t\t0.00628455  \t0.10302728  \t0.05144158  \n"
     ]
    },
    {
     "name": "stderr",
     "output_type": "stream",
     "text": [
      "\u001b[32m[I 2023-03-22 22:28:20,212]\u001b[0m Trial 36 finished with value: 0.10302727669477463 and parameters: {'alpha': 0.16525493480313697, 'beta': 0.1426131912731813}. Best is trial 35 with value: 0.10626625269651413.\u001b[0m\n"
     ]
    },
    {
     "name": "stdout",
     "output_type": "stream",
     "text": [
      "U: 21.0 I: 1.0\n",
      "model traind\n",
      "2023-03-22 22:30:26.932: \t\t0.00645786  \t0.10600831  \t0.05293038  \n"
     ]
    },
    {
     "name": "stderr",
     "output_type": "stream",
     "text": [
      "\u001b[32m[I 2023-03-22 22:30:26,933]\u001b[0m Trial 37 finished with value: 0.10600830614566803 and parameters: {'alpha': 0.33399558945228, 'beta': 0.05427786097213051}. Best is trial 35 with value: 0.10626625269651413.\u001b[0m\n"
     ]
    },
    {
     "name": "stdout",
     "output_type": "stream",
     "text": [
      "U: 21.0 I: 1.0\n",
      "model traind\n",
      "2023-03-22 22:32:34.735: \t\t0.00357989  \t0.05739100  \t0.02702980  \n"
     ]
    },
    {
     "name": "stderr",
     "output_type": "stream",
     "text": [
      "\u001b[32m[I 2023-03-22 22:32:34,736]\u001b[0m Trial 38 finished with value: 0.05739099532365799 and parameters: {'alpha': 0.47043568748295556, 'beta': 0.37035944444324403}. Best is trial 35 with value: 0.10626625269651413.\u001b[0m\n"
     ]
    },
    {
     "name": "stdout",
     "output_type": "stream",
     "text": [
      "U: 21.0 I: 1.0\n",
      "model traind\n",
      "2023-03-22 22:34:42.596: \t\t0.00585955  \t0.09426591  \t0.04773511  \n"
     ]
    },
    {
     "name": "stderr",
     "output_type": "stream",
     "text": [
      "\u001b[32m[I 2023-03-22 22:34:42,598]\u001b[0m Trial 39 finished with value: 0.0942659080028534 and parameters: {'alpha': 0.3106971280077211, 'beta': 0.22941173021117797}. Best is trial 35 with value: 0.10626625269651413.\u001b[0m\n"
     ]
    },
    {
     "name": "stdout",
     "output_type": "stream",
     "text": [
      "U: 21.0 I: 1.0\n",
      "model traind\n",
      "2023-03-22 22:36:49.083: \t\t0.00619240  \t0.10094428  \t0.05064557  \n"
     ]
    },
    {
     "name": "stderr",
     "output_type": "stream",
     "text": [
      "\u001b[32m[I 2023-03-22 22:36:49,085]\u001b[0m Trial 40 finished with value: 0.10094428062438965 and parameters: {'alpha': 0.194509012863829, 'beta': 0.17946123979702963}. Best is trial 35 with value: 0.10626625269651413.\u001b[0m\n"
     ]
    },
    {
     "name": "stdout",
     "output_type": "stream",
     "text": [
      "U: 21.0 I: 1.0\n",
      "model traind\n",
      "2023-03-22 22:38:55.326: \t\t0.00645916  \t0.10616971  \t0.05292934  \n"
     ]
    },
    {
     "name": "stderr",
     "output_type": "stream",
     "text": [
      "\u001b[32m[I 2023-03-22 22:38:55,327]\u001b[0m Trial 41 finished with value: 0.10616970807313919 and parameters: {'alpha': 0.3112414551166699, 'beta': 0.04855928608491089}. Best is trial 35 with value: 0.10626625269651413.\u001b[0m\n"
     ]
    },
    {
     "name": "stdout",
     "output_type": "stream",
     "text": [
      "U: 21.0 I: 1.0\n",
      "model traind\n",
      "2023-03-22 22:41:01.584: \t\t0.00645284  \t0.10591544  \t0.05291430  \n"
     ]
    },
    {
     "name": "stderr",
     "output_type": "stream",
     "text": [
      "\u001b[32m[I 2023-03-22 22:41:01,586]\u001b[0m Trial 42 finished with value: 0.10591544210910797 and parameters: {'alpha': 0.377773317882414, 'beta': 0.03979027338266583}. Best is trial 35 with value: 0.10626625269651413.\u001b[0m\n"
     ]
    },
    {
     "name": "stdout",
     "output_type": "stream",
     "text": [
      "U: 21.0 I: 1.0\n",
      "model traind\n",
      "2023-03-22 22:43:09.360: \t\t0.00638805  \t0.10488734  \t0.05237455  \n"
     ]
    },
    {
     "name": "stderr",
     "output_type": "stream",
     "text": [
      "\u001b[32m[I 2023-03-22 22:43:09,361]\u001b[0m Trial 43 finished with value: 0.10488734394311905 and parameters: {'alpha': 0.23334821935948946, 'beta': 0.10575499765506882}. Best is trial 35 with value: 0.10626625269651413.\u001b[0m\n"
     ]
    },
    {
     "name": "stdout",
     "output_type": "stream",
     "text": [
      "U: 21.0 I: 1.0\n",
      "model traind\n",
      "2023-03-22 22:45:18.151: \t\t0.00644074  \t0.10615063  \t0.05270786  \n"
     ]
    },
    {
     "name": "stderr",
     "output_type": "stream",
     "text": [
      "\u001b[32m[I 2023-03-22 22:45:18,152]\u001b[0m Trial 44 finished with value: 0.10615063458681107 and parameters: {'alpha': 0.2600209359149054, 'beta': 0.039075720387341056}. Best is trial 35 with value: 0.10626625269651413.\u001b[0m\n"
     ]
    },
    {
     "name": "stdout",
     "output_type": "stream",
     "text": [
      "U: 21.0 I: 1.0\n",
      "model traind\n"
     ]
    }
   ],
   "source": [
    "import optuna\n",
    "\n",
    "def objective(trial):\n",
    "    alpha = trial.suggest_float('alpha', 0, 1)\n",
    "    beta = trial.suggest_float('beta', 0, 1)\n",
    "    q_u = 0.99\n",
    "    q_i = 0.0\n",
    "    current_result = model.train_model(alpha=alpha,\n",
    "                                       beta=beta,\n",
    "                                       q_u=q_u,\n",
    "                                       q_i=q_i)\n",
    "    return current_result[1]\n",
    "\n",
    "# 3. Create a study object and optimize the objective function.\n",
    "study = optuna.create_study(direction='maximize')\n",
    "study.optimize(objective, n_trials=100)"
   ]
  },
  {
   "cell_type": "code",
   "execution_count": 105,
   "id": "69117d64-50e0-402d-a980-f51b484f064a",
   "metadata": {
    "collapsed": true,
    "jupyter": {
     "outputs_hidden": true
    },
    "tags": []
   },
   "outputs": [
    {
     "name": "stdout",
     "output_type": "stream",
     "text": [
      "model traind\n",
      "2023-03-21 19:31:30.637: \t\t0.00656819  \t0.10267626  \t0.05181898  \n"
     ]
    },
    {
     "name": "stderr",
     "output_type": "stream",
     "text": [
      "\u001b[32m[I 2023-03-21 19:31:30,639]\u001b[0m Trial 28 finished with value: 0.10267625749111176 and parameters: {'alpha': 0.40060453186461453, 'beta': 0.1691008083380366}. Best is trial 23 with value: 0.10841474682092667.\u001b[0m\n"
     ]
    },
    {
     "name": "stdout",
     "output_type": "stream",
     "text": [
      "model traind\n",
      "2023-03-21 19:33:59.163: \t\t0.00507644  \t0.07992877  \t0.03902756  \n"
     ]
    },
    {
     "name": "stderr",
     "output_type": "stream",
     "text": [
      "\u001b[32m[I 2023-03-21 19:33:59,164]\u001b[0m Trial 29 finished with value: 0.07992877066135406 and parameters: {'alpha': 0.7090412854382327, 'beta': 0.19167799576541222}. Best is trial 23 with value: 0.10841474682092667.\u001b[0m\n"
     ]
    },
    {
     "name": "stdout",
     "output_type": "stream",
     "text": [
      "model traind\n",
      "2023-03-21 19:36:27.569: \t\t0.00040879  \t0.00598457  \t0.00220702  \n"
     ]
    },
    {
     "name": "stderr",
     "output_type": "stream",
     "text": [
      "\u001b[32m[I 2023-03-21 19:36:27,570]\u001b[0m Trial 30 finished with value: 0.005984572693705559 and parameters: {'alpha': 0.23335400204513457, 'beta': 0.6495938605126772}. Best is trial 23 with value: 0.10841474682092667.\u001b[0m\n"
     ]
    },
    {
     "name": "stdout",
     "output_type": "stream",
     "text": [
      "model traind\n",
      "2023-03-21 19:38:56.506: \t\t0.00331011  \t0.05140971  \t0.02280712  \n"
     ]
    },
    {
     "name": "stderr",
     "output_type": "stream",
     "text": [
      "\u001b[32m[I 2023-03-21 19:38:56,507]\u001b[0m Trial 31 finished with value: 0.05140971019864082 and parameters: {'alpha': 0.5934167328189908, 'beta': 0.3841052558688815}. Best is trial 23 with value: 0.10841474682092667.\u001b[0m\n"
     ]
    },
    {
     "name": "stdout",
     "output_type": "stream",
     "text": [
      "model traind\n",
      "2023-03-21 19:41:24.892: \t\t0.00477117  \t0.07665297  \t0.03725497  \n"
     ]
    },
    {
     "name": "stderr",
     "output_type": "stream",
     "text": [
      "\u001b[32m[I 2023-03-21 19:41:24,894]\u001b[0m Trial 32 finished with value: 0.07665297389030457 and parameters: {'alpha': 0.8545482029605678, 'beta': 0.12732474472133107}. Best is trial 23 with value: 0.10841474682092667.\u001b[0m\n"
     ]
    },
    {
     "name": "stdout",
     "output_type": "stream",
     "text": [
      "model traind\n",
      "2023-03-21 19:43:51.454: \t\t0.00402751  \t0.06078634  \t0.02880213  \n"
     ]
    },
    {
     "name": "stderr",
     "output_type": "stream",
     "text": [
      "\u001b[32m[I 2023-03-21 19:43:51,456]\u001b[0m Trial 33 finished with value: 0.06078634411096573 and parameters: {'alpha': 0.46643734827901495, 'beta': 0.3790405218209536}. Best is trial 23 with value: 0.10841474682092667.\u001b[0m\n"
     ]
    },
    {
     "name": "stdout",
     "output_type": "stream",
     "text": [
      "model traind\n",
      "2023-03-21 19:46:17.411: \t\t0.00670875  \t0.10639478  \t0.05340169  \n"
     ]
    },
    {
     "name": "stderr",
     "output_type": "stream",
     "text": [
      "\u001b[32m[I 2023-03-21 19:46:17,412]\u001b[0m Trial 34 finished with value: 0.10639477521181107 and parameters: {'alpha': 0.482359288139012, 'beta': 0.01765578999216392}. Best is trial 23 with value: 0.10841474682092667.\u001b[0m\n"
     ]
    },
    {
     "name": "stdout",
     "output_type": "stream",
     "text": [
      "model traind\n",
      "2023-03-21 19:48:43.519: \t\t0.00675828  \t0.10804184  \t0.05381836  \n"
     ]
    },
    {
     "name": "stderr",
     "output_type": "stream",
     "text": [
      "\u001b[32m[I 2023-03-21 19:48:43,521]\u001b[0m Trial 35 finished with value: 0.10804183781147003 and parameters: {'alpha': 0.34045287691766724, 'beta': 0.005270510960286227}. Best is trial 23 with value: 0.10841474682092667.\u001b[0m\n"
     ]
    },
    {
     "name": "stdout",
     "output_type": "stream",
     "text": [
      "model traind\n",
      "2023-03-21 19:51:09.410: \t\t0.00636920  \t0.09889463  \t0.05004617  \n"
     ]
    },
    {
     "name": "stderr",
     "output_type": "stream",
     "text": [
      "\u001b[32m[I 2023-03-21 19:51:09,411]\u001b[0m Trial 36 finished with value: 0.0988946333527565 and parameters: {'alpha': 0.33303273637870484, 'beta': 0.2246500411169115}. Best is trial 23 with value: 0.10841474682092667.\u001b[0m\n"
     ]
    },
    {
     "name": "stdout",
     "output_type": "stream",
     "text": [
      "model traind\n",
      "2023-03-21 19:53:35.684: \t\t0.00598295  \t0.09228821  \t0.04700860  \n"
     ]
    },
    {
     "name": "stderr",
     "output_type": "stream",
     "text": [
      "\u001b[32m[I 2023-03-21 19:53:35,686]\u001b[0m Trial 37 finished with value: 0.09228821098804474 and parameters: {'alpha': 0.11123317205549041, 'beta': 0.2834344382055313}. Best is trial 23 with value: 0.10841474682092667.\u001b[0m\n"
     ]
    },
    {
     "name": "stdout",
     "output_type": "stream",
     "text": [
      "model traind\n",
      "2023-03-21 19:56:02.197: \t\t0.00673518  \t0.10698998  \t0.05340141  \n"
     ]
    },
    {
     "name": "stderr",
     "output_type": "stream",
     "text": [
      "\u001b[32m[I 2023-03-21 19:56:02,199]\u001b[0m Trial 38 finished with value: 0.10698997974395752 and parameters: {'alpha': 0.21648788248938872, 'beta': 0.1277329691421496}. Best is trial 23 with value: 0.10841474682092667.\u001b[0m\n"
     ]
    },
    {
     "name": "stdout",
     "output_type": "stream",
     "text": [
      "model traind\n",
      "2023-03-21 19:58:30.072: \t\t0.00646825  \t0.10196539  \t0.05109400  \n"
     ]
    },
    {
     "name": "stderr",
     "output_type": "stream",
     "text": [
      "\u001b[32m[I 2023-03-21 19:58:30,073]\u001b[0m Trial 39 finished with value: 0.10196539014577866 and parameters: {'alpha': 0.10953371484810287, 'beta': 0.1957590622541583}. Best is trial 23 with value: 0.10841474682092667.\u001b[0m\n"
     ]
    },
    {
     "name": "stdout",
     "output_type": "stream",
     "text": [
      "model traind\n"
     ]
    },
    {
     "name": "stderr",
     "output_type": "stream",
     "text": [
      "\u001b[33m[W 2023-03-21 19:59:34,866]\u001b[0m Trial 40 failed with parameters: {'alpha': 0.169092243132256, 'beta': 0.14014118201453582} because of the following error: KeyboardInterrupt().\u001b[0m\n",
      "Traceback (most recent call last):\n",
      "  File \"/home/daniilstrunov/.local/lib/python3.10/site-packages/optuna/study/_optimize.py\", line 200, in _run_trial\n",
      "    value_or_values = func(trial)\n",
      "  File \"/tmp/ipykernel_19627/1364446098.py\", line 6, in objective\n",
      "    current_result = model.train_model(alpha=alpha, beta=beta)\n",
      "  File \"/tmp/ipykernel_19627/2642071353.py\", line 25, in train_model\n",
      "    current_result, buf = self.evaluate_model()\n",
      "  File \"/tmp/ipykernel_19627/2642071353.py\", line 30, in evaluate_model\n",
      "    return self.evaluator.evaluate(self)\n",
      "  File \"/home/daniilstrunov/nogcn/SGL-Torch-main/reckit/evaluator.py\", line 146, in evaluate\n",
      "    ranking_score = model.predict(batch_users)  # (B,N)\n",
      "  File \"/tmp/ipykernel_19627/2642071353.py\", line 33, in predict\n",
      "    return (self.UI[users] @ self.W).todense()/self.norm\n",
      "  File \"/home/daniilstrunov/.local/lib/python3.10/site-packages/scipy/sparse/_base.py\", line 630, in __matmul__\n",
      "    return self._mul_dispatch(other)\n",
      "  File \"/home/daniilstrunov/.local/lib/python3.10/site-packages/scipy/sparse/_base.py\", line 541, in _mul_dispatch\n",
      "    return self._mul_sparse_matrix(other)\n",
      "  File \"/home/daniilstrunov/.local/lib/python3.10/site-packages/scipy/sparse/_compressed.py\", line 533, in _mul_sparse_matrix\n",
      "    fn(M, N, np.asarray(self.indptr, dtype=idx_dtype),\n",
      "KeyboardInterrupt\n",
      "\u001b[33m[W 2023-03-21 19:59:34,867]\u001b[0m Trial 40 failed with value None.\u001b[0m\n"
     ]
    },
    {
     "ename": "KeyboardInterrupt",
     "evalue": "",
     "output_type": "error",
     "traceback": [
      "\u001b[0;31m---------------------------------------------------------------------------\u001b[0m",
      "\u001b[0;31mKeyboardInterrupt\u001b[0m                         Traceback (most recent call last)",
      "Cell \u001b[0;32mIn[105], line 1\u001b[0m\n\u001b[0;32m----> 1\u001b[0m \u001b[43mstudy\u001b[49m\u001b[38;5;241;43m.\u001b[39;49m\u001b[43moptimize\u001b[49m\u001b[43m(\u001b[49m\u001b[43mobjective\u001b[49m\u001b[43m,\u001b[49m\u001b[43m \u001b[49m\u001b[43mn_trials\u001b[49m\u001b[38;5;241;43m=\u001b[39;49m\u001b[38;5;241;43m100\u001b[39;49m\u001b[43m)\u001b[49m\n",
      "File \u001b[0;32m~/.local/lib/python3.10/site-packages/optuna/study/study.py:425\u001b[0m, in \u001b[0;36mStudy.optimize\u001b[0;34m(self, func, n_trials, timeout, n_jobs, catch, callbacks, gc_after_trial, show_progress_bar)\u001b[0m\n\u001b[1;32m    321\u001b[0m \u001b[38;5;28;01mdef\u001b[39;00m \u001b[38;5;21moptimize\u001b[39m(\n\u001b[1;32m    322\u001b[0m     \u001b[38;5;28mself\u001b[39m,\n\u001b[1;32m    323\u001b[0m     func: ObjectiveFuncType,\n\u001b[0;32m   (...)\u001b[0m\n\u001b[1;32m    330\u001b[0m     show_progress_bar: \u001b[38;5;28mbool\u001b[39m \u001b[38;5;241m=\u001b[39m \u001b[38;5;28;01mFalse\u001b[39;00m,\n\u001b[1;32m    331\u001b[0m ) \u001b[38;5;241m-\u001b[39m\u001b[38;5;241m>\u001b[39m \u001b[38;5;28;01mNone\u001b[39;00m:\n\u001b[1;32m    332\u001b[0m \u001b[38;5;250m    \u001b[39m\u001b[38;5;124;03m\"\"\"Optimize an objective function.\u001b[39;00m\n\u001b[1;32m    333\u001b[0m \n\u001b[1;32m    334\u001b[0m \u001b[38;5;124;03m    Optimization is done by choosing a suitable set of hyperparameter values from a given\u001b[39;00m\n\u001b[0;32m   (...)\u001b[0m\n\u001b[1;32m    422\u001b[0m \u001b[38;5;124;03m            If nested invocation of this method occurs.\u001b[39;00m\n\u001b[1;32m    423\u001b[0m \u001b[38;5;124;03m    \"\"\"\u001b[39;00m\n\u001b[0;32m--> 425\u001b[0m     \u001b[43m_optimize\u001b[49m\u001b[43m(\u001b[49m\n\u001b[1;32m    426\u001b[0m \u001b[43m        \u001b[49m\u001b[43mstudy\u001b[49m\u001b[38;5;241;43m=\u001b[39;49m\u001b[38;5;28;43mself\u001b[39;49m\u001b[43m,\u001b[49m\n\u001b[1;32m    427\u001b[0m \u001b[43m        \u001b[49m\u001b[43mfunc\u001b[49m\u001b[38;5;241;43m=\u001b[39;49m\u001b[43mfunc\u001b[49m\u001b[43m,\u001b[49m\n\u001b[1;32m    428\u001b[0m \u001b[43m        \u001b[49m\u001b[43mn_trials\u001b[49m\u001b[38;5;241;43m=\u001b[39;49m\u001b[43mn_trials\u001b[49m\u001b[43m,\u001b[49m\n\u001b[1;32m    429\u001b[0m \u001b[43m        \u001b[49m\u001b[43mtimeout\u001b[49m\u001b[38;5;241;43m=\u001b[39;49m\u001b[43mtimeout\u001b[49m\u001b[43m,\u001b[49m\n\u001b[1;32m    430\u001b[0m \u001b[43m        \u001b[49m\u001b[43mn_jobs\u001b[49m\u001b[38;5;241;43m=\u001b[39;49m\u001b[43mn_jobs\u001b[49m\u001b[43m,\u001b[49m\n\u001b[1;32m    431\u001b[0m \u001b[43m        \u001b[49m\u001b[43mcatch\u001b[49m\u001b[38;5;241;43m=\u001b[39;49m\u001b[38;5;28;43mtuple\u001b[39;49m\u001b[43m(\u001b[49m\u001b[43mcatch\u001b[49m\u001b[43m)\u001b[49m\u001b[43m \u001b[49m\u001b[38;5;28;43;01mif\u001b[39;49;00m\u001b[43m \u001b[49m\u001b[38;5;28;43misinstance\u001b[39;49m\u001b[43m(\u001b[49m\u001b[43mcatch\u001b[49m\u001b[43m,\u001b[49m\u001b[43m \u001b[49m\u001b[43mIterable\u001b[49m\u001b[43m)\u001b[49m\u001b[43m \u001b[49m\u001b[38;5;28;43;01melse\u001b[39;49;00m\u001b[43m \u001b[49m\u001b[43m(\u001b[49m\u001b[43mcatch\u001b[49m\u001b[43m,\u001b[49m\u001b[43m)\u001b[49m\u001b[43m,\u001b[49m\n\u001b[1;32m    432\u001b[0m \u001b[43m        \u001b[49m\u001b[43mcallbacks\u001b[49m\u001b[38;5;241;43m=\u001b[39;49m\u001b[43mcallbacks\u001b[49m\u001b[43m,\u001b[49m\n\u001b[1;32m    433\u001b[0m \u001b[43m        \u001b[49m\u001b[43mgc_after_trial\u001b[49m\u001b[38;5;241;43m=\u001b[39;49m\u001b[43mgc_after_trial\u001b[49m\u001b[43m,\u001b[49m\n\u001b[1;32m    434\u001b[0m \u001b[43m        \u001b[49m\u001b[43mshow_progress_bar\u001b[49m\u001b[38;5;241;43m=\u001b[39;49m\u001b[43mshow_progress_bar\u001b[49m\u001b[43m,\u001b[49m\n\u001b[1;32m    435\u001b[0m \u001b[43m    \u001b[49m\u001b[43m)\u001b[49m\n",
      "File \u001b[0;32m~/.local/lib/python3.10/site-packages/optuna/study/_optimize.py:66\u001b[0m, in \u001b[0;36m_optimize\u001b[0;34m(study, func, n_trials, timeout, n_jobs, catch, callbacks, gc_after_trial, show_progress_bar)\u001b[0m\n\u001b[1;32m     64\u001b[0m \u001b[38;5;28;01mtry\u001b[39;00m:\n\u001b[1;32m     65\u001b[0m     \u001b[38;5;28;01mif\u001b[39;00m n_jobs \u001b[38;5;241m==\u001b[39m \u001b[38;5;241m1\u001b[39m:\n\u001b[0;32m---> 66\u001b[0m         \u001b[43m_optimize_sequential\u001b[49m\u001b[43m(\u001b[49m\n\u001b[1;32m     67\u001b[0m \u001b[43m            \u001b[49m\u001b[43mstudy\u001b[49m\u001b[43m,\u001b[49m\n\u001b[1;32m     68\u001b[0m \u001b[43m            \u001b[49m\u001b[43mfunc\u001b[49m\u001b[43m,\u001b[49m\n\u001b[1;32m     69\u001b[0m \u001b[43m            \u001b[49m\u001b[43mn_trials\u001b[49m\u001b[43m,\u001b[49m\n\u001b[1;32m     70\u001b[0m \u001b[43m            \u001b[49m\u001b[43mtimeout\u001b[49m\u001b[43m,\u001b[49m\n\u001b[1;32m     71\u001b[0m \u001b[43m            \u001b[49m\u001b[43mcatch\u001b[49m\u001b[43m,\u001b[49m\n\u001b[1;32m     72\u001b[0m \u001b[43m            \u001b[49m\u001b[43mcallbacks\u001b[49m\u001b[43m,\u001b[49m\n\u001b[1;32m     73\u001b[0m \u001b[43m            \u001b[49m\u001b[43mgc_after_trial\u001b[49m\u001b[43m,\u001b[49m\n\u001b[1;32m     74\u001b[0m \u001b[43m            \u001b[49m\u001b[43mreseed_sampler_rng\u001b[49m\u001b[38;5;241;43m=\u001b[39;49m\u001b[38;5;28;43;01mFalse\u001b[39;49;00m\u001b[43m,\u001b[49m\n\u001b[1;32m     75\u001b[0m \u001b[43m            \u001b[49m\u001b[43mtime_start\u001b[49m\u001b[38;5;241;43m=\u001b[39;49m\u001b[38;5;28;43;01mNone\u001b[39;49;00m\u001b[43m,\u001b[49m\n\u001b[1;32m     76\u001b[0m \u001b[43m            \u001b[49m\u001b[43mprogress_bar\u001b[49m\u001b[38;5;241;43m=\u001b[39;49m\u001b[43mprogress_bar\u001b[49m\u001b[43m,\u001b[49m\n\u001b[1;32m     77\u001b[0m \u001b[43m        \u001b[49m\u001b[43m)\u001b[49m\n\u001b[1;32m     78\u001b[0m     \u001b[38;5;28;01melse\u001b[39;00m:\n\u001b[1;32m     79\u001b[0m         \u001b[38;5;28;01mif\u001b[39;00m n_jobs \u001b[38;5;241m==\u001b[39m \u001b[38;5;241m-\u001b[39m\u001b[38;5;241m1\u001b[39m:\n",
      "File \u001b[0;32m~/.local/lib/python3.10/site-packages/optuna/study/_optimize.py:163\u001b[0m, in \u001b[0;36m_optimize_sequential\u001b[0;34m(study, func, n_trials, timeout, catch, callbacks, gc_after_trial, reseed_sampler_rng, time_start, progress_bar)\u001b[0m\n\u001b[1;32m    160\u001b[0m         \u001b[38;5;28;01mbreak\u001b[39;00m\n\u001b[1;32m    162\u001b[0m \u001b[38;5;28;01mtry\u001b[39;00m:\n\u001b[0;32m--> 163\u001b[0m     frozen_trial \u001b[38;5;241m=\u001b[39m \u001b[43m_run_trial\u001b[49m\u001b[43m(\u001b[49m\u001b[43mstudy\u001b[49m\u001b[43m,\u001b[49m\u001b[43m \u001b[49m\u001b[43mfunc\u001b[49m\u001b[43m,\u001b[49m\u001b[43m \u001b[49m\u001b[43mcatch\u001b[49m\u001b[43m)\u001b[49m\n\u001b[1;32m    164\u001b[0m \u001b[38;5;28;01mfinally\u001b[39;00m:\n\u001b[1;32m    165\u001b[0m     \u001b[38;5;66;03m# The following line mitigates memory problems that can be occurred in some\u001b[39;00m\n\u001b[1;32m    166\u001b[0m     \u001b[38;5;66;03m# environments (e.g., services that use computing containers such as GitHub Actions).\u001b[39;00m\n\u001b[1;32m    167\u001b[0m     \u001b[38;5;66;03m# Please refer to the following PR for further details:\u001b[39;00m\n\u001b[1;32m    168\u001b[0m     \u001b[38;5;66;03m# https://github.com/optuna/optuna/pull/325.\u001b[39;00m\n\u001b[1;32m    169\u001b[0m     \u001b[38;5;28;01mif\u001b[39;00m gc_after_trial:\n",
      "File \u001b[0;32m~/.local/lib/python3.10/site-packages/optuna/study/_optimize.py:251\u001b[0m, in \u001b[0;36m_run_trial\u001b[0;34m(study, func, catch)\u001b[0m\n\u001b[1;32m    244\u001b[0m         \u001b[38;5;28;01massert\u001b[39;00m \u001b[38;5;28;01mFalse\u001b[39;00m, \u001b[38;5;124m\"\u001b[39m\u001b[38;5;124mShould not reach.\u001b[39m\u001b[38;5;124m\"\u001b[39m\n\u001b[1;32m    246\u001b[0m \u001b[38;5;28;01mif\u001b[39;00m (\n\u001b[1;32m    247\u001b[0m     frozen_trial\u001b[38;5;241m.\u001b[39mstate \u001b[38;5;241m==\u001b[39m TrialState\u001b[38;5;241m.\u001b[39mFAIL\n\u001b[1;32m    248\u001b[0m     \u001b[38;5;129;01mand\u001b[39;00m func_err \u001b[38;5;129;01mis\u001b[39;00m \u001b[38;5;129;01mnot\u001b[39;00m \u001b[38;5;28;01mNone\u001b[39;00m\n\u001b[1;32m    249\u001b[0m     \u001b[38;5;129;01mand\u001b[39;00m \u001b[38;5;129;01mnot\u001b[39;00m \u001b[38;5;28misinstance\u001b[39m(func_err, catch)\n\u001b[1;32m    250\u001b[0m ):\n\u001b[0;32m--> 251\u001b[0m     \u001b[38;5;28;01mraise\u001b[39;00m func_err\n\u001b[1;32m    252\u001b[0m \u001b[38;5;28;01mreturn\u001b[39;00m frozen_trial\n",
      "File \u001b[0;32m~/.local/lib/python3.10/site-packages/optuna/study/_optimize.py:200\u001b[0m, in \u001b[0;36m_run_trial\u001b[0;34m(study, func, catch)\u001b[0m\n\u001b[1;32m    198\u001b[0m \u001b[38;5;28;01mwith\u001b[39;00m get_heartbeat_thread(trial\u001b[38;5;241m.\u001b[39m_trial_id, study\u001b[38;5;241m.\u001b[39m_storage):\n\u001b[1;32m    199\u001b[0m     \u001b[38;5;28;01mtry\u001b[39;00m:\n\u001b[0;32m--> 200\u001b[0m         value_or_values \u001b[38;5;241m=\u001b[39m \u001b[43mfunc\u001b[49m\u001b[43m(\u001b[49m\u001b[43mtrial\u001b[49m\u001b[43m)\u001b[49m\n\u001b[1;32m    201\u001b[0m     \u001b[38;5;28;01mexcept\u001b[39;00m exceptions\u001b[38;5;241m.\u001b[39mTrialPruned \u001b[38;5;28;01mas\u001b[39;00m e:\n\u001b[1;32m    202\u001b[0m         \u001b[38;5;66;03m# TODO(mamu): Handle multi-objective cases.\u001b[39;00m\n\u001b[1;32m    203\u001b[0m         state \u001b[38;5;241m=\u001b[39m TrialState\u001b[38;5;241m.\u001b[39mPRUNED\n",
      "Cell \u001b[0;32mIn[99], line 6\u001b[0m, in \u001b[0;36mobjective\u001b[0;34m(trial)\u001b[0m\n\u001b[1;32m      4\u001b[0m alpha \u001b[38;5;241m=\u001b[39m trial\u001b[38;5;241m.\u001b[39msuggest_float(\u001b[38;5;124m'\u001b[39m\u001b[38;5;124malpha\u001b[39m\u001b[38;5;124m'\u001b[39m, \u001b[38;5;241m0\u001b[39m, \u001b[38;5;241m2\u001b[39m)\n\u001b[1;32m      5\u001b[0m beta \u001b[38;5;241m=\u001b[39m trial\u001b[38;5;241m.\u001b[39msuggest_float(\u001b[38;5;124m'\u001b[39m\u001b[38;5;124mbeta\u001b[39m\u001b[38;5;124m'\u001b[39m, \u001b[38;5;241m0\u001b[39m, \u001b[38;5;241m2\u001b[39m)\n\u001b[0;32m----> 6\u001b[0m current_result \u001b[38;5;241m=\u001b[39m \u001b[43mmodel\u001b[49m\u001b[38;5;241;43m.\u001b[39;49m\u001b[43mtrain_model\u001b[49m\u001b[43m(\u001b[49m\u001b[43malpha\u001b[49m\u001b[38;5;241;43m=\u001b[39;49m\u001b[43malpha\u001b[49m\u001b[43m,\u001b[49m\u001b[43m \u001b[49m\u001b[43mbeta\u001b[49m\u001b[38;5;241;43m=\u001b[39;49m\u001b[43mbeta\u001b[49m\u001b[43m)\u001b[49m\n\u001b[1;32m      7\u001b[0m \u001b[38;5;28;01mreturn\u001b[39;00m current_result[\u001b[38;5;241m1\u001b[39m]\n",
      "Cell \u001b[0;32mIn[96], line 25\u001b[0m, in \u001b[0;36mRP3beta.train_model\u001b[0;34m(self, alpha, beta, q)\u001b[0m\n\u001b[1;32m     22\u001b[0m \u001b[38;5;28mself\u001b[39m\u001b[38;5;241m.\u001b[39mW \u001b[38;5;241m=\u001b[39m Piu \u001b[38;5;241m@\u001b[39m Pui\n\u001b[1;32m     24\u001b[0m \u001b[38;5;28mprint\u001b[39m(\u001b[38;5;124m'\u001b[39m\u001b[38;5;124mmodel traind\u001b[39m\u001b[38;5;124m'\u001b[39m)\n\u001b[0;32m---> 25\u001b[0m current_result, buf \u001b[38;5;241m=\u001b[39m \u001b[38;5;28;43mself\u001b[39;49m\u001b[38;5;241;43m.\u001b[39;49m\u001b[43mevaluate_model\u001b[49m\u001b[43m(\u001b[49m\u001b[43m)\u001b[49m\n\u001b[1;32m     26\u001b[0m \u001b[38;5;28mself\u001b[39m\u001b[38;5;241m.\u001b[39mlogger\u001b[38;5;241m.\u001b[39minfo(\u001b[38;5;124m\"\u001b[39m\u001b[38;5;130;01m\\t\u001b[39;00m\u001b[38;5;130;01m\\t\u001b[39;00m\u001b[38;5;132;01m%s\u001b[39;00m\u001b[38;5;124m\"\u001b[39m \u001b[38;5;241m%\u001b[39m buf)\n\u001b[1;32m     27\u001b[0m \u001b[38;5;28;01mreturn\u001b[39;00m current_result\n",
      "Cell \u001b[0;32mIn[96], line 30\u001b[0m, in \u001b[0;36mRP3beta.evaluate_model\u001b[0;34m(self)\u001b[0m\n\u001b[1;32m     29\u001b[0m \u001b[38;5;28;01mdef\u001b[39;00m \u001b[38;5;21mevaluate_model\u001b[39m(\u001b[38;5;28mself\u001b[39m):\n\u001b[0;32m---> 30\u001b[0m     \u001b[38;5;28;01mreturn\u001b[39;00m \u001b[38;5;28;43mself\u001b[39;49m\u001b[38;5;241;43m.\u001b[39;49m\u001b[43mevaluator\u001b[49m\u001b[38;5;241;43m.\u001b[39;49m\u001b[43mevaluate\u001b[49m\u001b[43m(\u001b[49m\u001b[38;5;28;43mself\u001b[39;49m\u001b[43m)\u001b[49m\n",
      "File \u001b[0;32m~/nogcn/SGL-Torch-main/reckit/evaluator.py:146\u001b[0m, in \u001b[0;36mEvaluator.evaluate\u001b[0;34m(self, model, test_users)\u001b[0m\n\u001b[1;32m    144\u001b[0m \u001b[38;5;28;01mfor\u001b[39;00m batch_users \u001b[38;5;129;01min\u001b[39;00m test_users:\n\u001b[1;32m    145\u001b[0m     test_items \u001b[38;5;241m=\u001b[39m [\u001b[38;5;28mself\u001b[39m\u001b[38;5;241m.\u001b[39muser_pos_test[u] \u001b[38;5;28;01mfor\u001b[39;00m u \u001b[38;5;129;01min\u001b[39;00m batch_users]\n\u001b[0;32m--> 146\u001b[0m     ranking_score \u001b[38;5;241m=\u001b[39m \u001b[43mmodel\u001b[49m\u001b[38;5;241;43m.\u001b[39;49m\u001b[43mpredict\u001b[49m\u001b[43m(\u001b[49m\u001b[43mbatch_users\u001b[49m\u001b[43m)\u001b[49m  \u001b[38;5;66;03m# (B,N)\u001b[39;00m\n\u001b[1;32m    147\u001b[0m     \u001b[38;5;28;01mif\u001b[39;00m \u001b[38;5;129;01mnot\u001b[39;00m is_ndarray(ranking_score, float_type):\n\u001b[1;32m    148\u001b[0m         ranking_score \u001b[38;5;241m=\u001b[39m np\u001b[38;5;241m.\u001b[39marray(ranking_score, dtype\u001b[38;5;241m=\u001b[39mfloat_type)\n",
      "Cell \u001b[0;32mIn[96], line 33\u001b[0m, in \u001b[0;36mRP3beta.predict\u001b[0;34m(self, users)\u001b[0m\n\u001b[1;32m     32\u001b[0m \u001b[38;5;28;01mdef\u001b[39;00m \u001b[38;5;21mpredict\u001b[39m(\u001b[38;5;28mself\u001b[39m, users):\n\u001b[0;32m---> 33\u001b[0m     \u001b[38;5;28;01mreturn\u001b[39;00m (\u001b[38;5;28;43mself\u001b[39;49m\u001b[38;5;241;43m.\u001b[39;49m\u001b[43mUI\u001b[49m\u001b[43m[\u001b[49m\u001b[43musers\u001b[49m\u001b[43m]\u001b[49m\u001b[43m \u001b[49m\u001b[38;5;241;43m@\u001b[39;49m\u001b[43m \u001b[49m\u001b[38;5;28;43mself\u001b[39;49m\u001b[38;5;241;43m.\u001b[39;49m\u001b[43mW\u001b[49m)\u001b[38;5;241m.\u001b[39mtodense()\u001b[38;5;241m/\u001b[39m\u001b[38;5;28mself\u001b[39m\u001b[38;5;241m.\u001b[39mnorm\n",
      "File \u001b[0;32m~/.local/lib/python3.10/site-packages/scipy/sparse/_base.py:630\u001b[0m, in \u001b[0;36mspmatrix.__matmul__\u001b[0;34m(self, other)\u001b[0m\n\u001b[1;32m    627\u001b[0m \u001b[38;5;28;01mif\u001b[39;00m isscalarlike(other):\n\u001b[1;32m    628\u001b[0m     \u001b[38;5;28;01mraise\u001b[39;00m \u001b[38;5;167;01mValueError\u001b[39;00m(\u001b[38;5;124m\"\u001b[39m\u001b[38;5;124mScalar operands are not allowed, \u001b[39m\u001b[38;5;124m\"\u001b[39m\n\u001b[1;32m    629\u001b[0m                      \u001b[38;5;124m\"\u001b[39m\u001b[38;5;124muse \u001b[39m\u001b[38;5;124m'\u001b[39m\u001b[38;5;124m*\u001b[39m\u001b[38;5;124m'\u001b[39m\u001b[38;5;124m instead\u001b[39m\u001b[38;5;124m\"\u001b[39m)\n\u001b[0;32m--> 630\u001b[0m \u001b[38;5;28;01mreturn\u001b[39;00m \u001b[38;5;28;43mself\u001b[39;49m\u001b[38;5;241;43m.\u001b[39;49m\u001b[43m_mul_dispatch\u001b[49m\u001b[43m(\u001b[49m\u001b[43mother\u001b[49m\u001b[43m)\u001b[49m\n",
      "File \u001b[0;32m~/.local/lib/python3.10/site-packages/scipy/sparse/_base.py:541\u001b[0m, in \u001b[0;36mspmatrix._mul_dispatch\u001b[0;34m(self, other)\u001b[0m\n\u001b[1;32m    539\u001b[0m     \u001b[38;5;28;01mif\u001b[39;00m \u001b[38;5;28mself\u001b[39m\u001b[38;5;241m.\u001b[39mshape[\u001b[38;5;241m1\u001b[39m] \u001b[38;5;241m!=\u001b[39m other\u001b[38;5;241m.\u001b[39mshape[\u001b[38;5;241m0\u001b[39m]:\n\u001b[1;32m    540\u001b[0m         \u001b[38;5;28;01mraise\u001b[39;00m \u001b[38;5;167;01mValueError\u001b[39;00m(\u001b[38;5;124m'\u001b[39m\u001b[38;5;124mdimension mismatch\u001b[39m\u001b[38;5;124m'\u001b[39m)\n\u001b[0;32m--> 541\u001b[0m     \u001b[38;5;28;01mreturn\u001b[39;00m \u001b[38;5;28;43mself\u001b[39;49m\u001b[38;5;241;43m.\u001b[39;49m\u001b[43m_mul_sparse_matrix\u001b[49m\u001b[43m(\u001b[49m\u001b[43mother\u001b[49m\u001b[43m)\u001b[49m\n\u001b[1;32m    543\u001b[0m \u001b[38;5;66;03m# If it's a list or whatever, treat it like a matrix\u001b[39;00m\n\u001b[1;32m    544\u001b[0m other_a \u001b[38;5;241m=\u001b[39m np\u001b[38;5;241m.\u001b[39masanyarray(other)\n",
      "File \u001b[0;32m~/.local/lib/python3.10/site-packages/scipy/sparse/_compressed.py:533\u001b[0m, in \u001b[0;36m_cs_matrix._mul_sparse_matrix\u001b[0;34m(self, other)\u001b[0m\n\u001b[1;32m    530\u001b[0m data \u001b[38;5;241m=\u001b[39m np\u001b[38;5;241m.\u001b[39mempty(nnz, dtype\u001b[38;5;241m=\u001b[39mupcast(\u001b[38;5;28mself\u001b[39m\u001b[38;5;241m.\u001b[39mdtype, other\u001b[38;5;241m.\u001b[39mdtype))\n\u001b[1;32m    532\u001b[0m fn \u001b[38;5;241m=\u001b[39m \u001b[38;5;28mgetattr\u001b[39m(_sparsetools, \u001b[38;5;28mself\u001b[39m\u001b[38;5;241m.\u001b[39mformat \u001b[38;5;241m+\u001b[39m \u001b[38;5;124m'\u001b[39m\u001b[38;5;124m_matmat\u001b[39m\u001b[38;5;124m'\u001b[39m)\n\u001b[0;32m--> 533\u001b[0m \u001b[43mfn\u001b[49m\u001b[43m(\u001b[49m\u001b[43mM\u001b[49m\u001b[43m,\u001b[49m\u001b[43m \u001b[49m\u001b[43mN\u001b[49m\u001b[43m,\u001b[49m\u001b[43m \u001b[49m\u001b[43mnp\u001b[49m\u001b[38;5;241;43m.\u001b[39;49m\u001b[43masarray\u001b[49m\u001b[43m(\u001b[49m\u001b[38;5;28;43mself\u001b[39;49m\u001b[38;5;241;43m.\u001b[39;49m\u001b[43mindptr\u001b[49m\u001b[43m,\u001b[49m\u001b[43m \u001b[49m\u001b[43mdtype\u001b[49m\u001b[38;5;241;43m=\u001b[39;49m\u001b[43midx_dtype\u001b[49m\u001b[43m)\u001b[49m\u001b[43m,\u001b[49m\n\u001b[1;32m    534\u001b[0m \u001b[43m   \u001b[49m\u001b[43mnp\u001b[49m\u001b[38;5;241;43m.\u001b[39;49m\u001b[43masarray\u001b[49m\u001b[43m(\u001b[49m\u001b[38;5;28;43mself\u001b[39;49m\u001b[38;5;241;43m.\u001b[39;49m\u001b[43mindices\u001b[49m\u001b[43m,\u001b[49m\u001b[43m \u001b[49m\u001b[43mdtype\u001b[49m\u001b[38;5;241;43m=\u001b[39;49m\u001b[43midx_dtype\u001b[49m\u001b[43m)\u001b[49m\u001b[43m,\u001b[49m\n\u001b[1;32m    535\u001b[0m \u001b[43m   \u001b[49m\u001b[38;5;28;43mself\u001b[39;49m\u001b[38;5;241;43m.\u001b[39;49m\u001b[43mdata\u001b[49m\u001b[43m,\u001b[49m\n\u001b[1;32m    536\u001b[0m \u001b[43m   \u001b[49m\u001b[43mnp\u001b[49m\u001b[38;5;241;43m.\u001b[39;49m\u001b[43masarray\u001b[49m\u001b[43m(\u001b[49m\u001b[43mother\u001b[49m\u001b[38;5;241;43m.\u001b[39;49m\u001b[43mindptr\u001b[49m\u001b[43m,\u001b[49m\u001b[43m \u001b[49m\u001b[43mdtype\u001b[49m\u001b[38;5;241;43m=\u001b[39;49m\u001b[43midx_dtype\u001b[49m\u001b[43m)\u001b[49m\u001b[43m,\u001b[49m\n\u001b[1;32m    537\u001b[0m \u001b[43m   \u001b[49m\u001b[43mnp\u001b[49m\u001b[38;5;241;43m.\u001b[39;49m\u001b[43masarray\u001b[49m\u001b[43m(\u001b[49m\u001b[43mother\u001b[49m\u001b[38;5;241;43m.\u001b[39;49m\u001b[43mindices\u001b[49m\u001b[43m,\u001b[49m\u001b[43m \u001b[49m\u001b[43mdtype\u001b[49m\u001b[38;5;241;43m=\u001b[39;49m\u001b[43midx_dtype\u001b[49m\u001b[43m)\u001b[49m\u001b[43m,\u001b[49m\n\u001b[1;32m    538\u001b[0m \u001b[43m   \u001b[49m\u001b[43mother\u001b[49m\u001b[38;5;241;43m.\u001b[39;49m\u001b[43mdata\u001b[49m\u001b[43m,\u001b[49m\n\u001b[1;32m    539\u001b[0m \u001b[43m   \u001b[49m\u001b[43mindptr\u001b[49m\u001b[43m,\u001b[49m\u001b[43m \u001b[49m\u001b[43mindices\u001b[49m\u001b[43m,\u001b[49m\u001b[43m \u001b[49m\u001b[43mdata\u001b[49m\u001b[43m)\u001b[49m\n\u001b[1;32m    541\u001b[0m \u001b[38;5;28;01mreturn\u001b[39;00m \u001b[38;5;28mself\u001b[39m\u001b[38;5;241m.\u001b[39m\u001b[38;5;18m__class__\u001b[39m((data, indices, indptr), shape\u001b[38;5;241m=\u001b[39m(M, N))\n",
      "\u001b[0;31mKeyboardInterrupt\u001b[0m: "
     ]
    }
   ],
   "source": [
    "study.optimize(objective, n_trials=100)"
   ]
  },
  {
   "cell_type": "code",
   "execution_count": 34,
   "id": "2a9f90b9-eeb6-4e97-8d2e-e2ad630eaab8",
   "metadata": {
    "tags": []
   },
   "outputs": [
    {
     "data": {
      "text/plain": [
       "0.10837999731302261"
      ]
     },
     "execution_count": 34,
     "metadata": {},
     "output_type": "execute_result"
    }
   ],
   "source": [
    "study.trials_dataframe().value.max()"
   ]
  },
  {
   "cell_type": "code",
   "execution_count": 33,
   "id": "4298fc74-40f8-4158-b427-7a5174ba35ab",
   "metadata": {
    "tags": []
   },
   "outputs": [
    {
     "data": {
      "image/png": "[encoded data removed]",
      "text/plain": [
       "<Figure size 640x480 with 1 Axes>"
      ]
     },
     "metadata": {},
     "output_type": "display_data"
    }
   ],
   "source": [
    "import matplotlib.pyplot as plt\n",
    "plt.scatter(study.trials_dataframe()['params_alpha'],\n",
    "            study.trials_dataframe()['params_beta'],\n",
    "            c=study.trials_dataframe()['value'])\n",
    "_ = plt.grid()"
   ]
  },
  {
   "cell_type": "code",
   "execution_count": 24,
   "id": "705617a6-0832-414e-a77e-224b0737bc7b",
   "metadata": {
    "tags": []
   },
   "outputs": [
    {
     "name": "stdout",
     "output_type": "stream",
     "text": [
      "model traind\n",
      "2023-03-19 04:26:47.113: \t\t0.03084197  \t0.06817467  \t0.05659393  \n"
     ]
    }
   ],
   "source": []
  },
  {
   "cell_type": "code",
   "execution_count": 57,
   "id": "3b5bb6a4-e55c-40b7-be17-79166389a584",
   "metadata": {
    "tags": []
   },
   "outputs": [
    {
     "data": {
      "text/plain": [
       "([20], [20])"
      ]
     },
     "execution_count": 57,
     "metadata": {},
     "output_type": "execute_result"
    }
   ],
   "source": [
    "config['top_k'], config.top_k"
   ]
  },
  {
   "cell_type": "code",
   "execution_count": 71,
   "id": "82181c44-50b5-422d-9fe6-78c942b0fed6",
   "metadata": {
    "tags": []
   },
   "outputs": [
    {
     "data": {
      "text/plain": [
       "NeuRec:[NeuRec]:\n",
       "recommender=SGL\n",
       "dataset=yelp2018\n",
       "file_column=UI\n",
       "sep=','\n",
       "gpu_id=0\n",
       "gpu_mem=0.99\n",
       "metric=[\"Precision\", \"Recall\", \"NDCG\"]\n",
       "top_k=[20]\n",
       "test_thread=8\n",
       "test_batch_size=128\n",
       "seed=2021\n",
       "start_testing_epoch=0\n",
       "\n",
       "SGL:[hyperparameters]:\n",
       "aug_type=ED\n",
       "reg=1e-4\n",
       "embed_size=64\n",
       "n_layers=3\n",
       "ssl_reg=0.1\n",
       "ssl_ratio=0.1\n",
       "ssl_temp=0.2\n",
       "ssl_mode=both_side\n",
       "lr=0.001\n",
       "learner=adam\n",
       "adj_type=pre\n",
       "epochs=1000\n",
       "batch_size=2048\n",
       "num_negatives=1\n",
       "param_init=xavier_uniform\n",
       "stddev=0.01\n",
       "verbose=1\n",
       "stop_cnt=10\n",
       "pretrain_flag=0\n",
       "save_flag=0"
      ]
     },
     "execution_count": 71,
     "metadata": {},
     "output_type": "execute_result"
    }
   ],
   "source": [
    "config"
   ]
  },
  {
   "cell_type": "code",
   "execution_count": 59,
   "id": "d64ab1ea-2dcd-42a2-8283-d573381e5b5f",
   "metadata": {
    "tags": []
   },
   "outputs": [],
   "source": [
    "from collections import OrderedDict"
   ]
  },
  {
   "cell_type": "code",
   "execution_count": 60,
   "id": "5f6c424c-3854-4f86-81a9-866f98d545bd",
   "metadata": {
    "tags": []
   },
   "outputs": [],
   "source": [
    "d = OrderedDict()\n",
    "d['asf'] = 0"
   ]
  },
  {
   "cell_type": "code",
   "execution_count": 61,
   "id": "539474a4-f694-443e-b9b9-d0ee6f2cc510",
   "metadata": {
    "tags": []
   },
   "outputs": [
    {
     "ename": "AttributeError",
     "evalue": "'collections.OrderedDict' object has no attribute 'asf'",
     "output_type": "error",
     "traceback": [
      "\u001b[0;31m---------------------------------------------------------------------------\u001b[0m",
      "\u001b[0;31mAttributeError\u001b[0m                            Traceback (most recent call last)",
      "Cell \u001b[0;32mIn[61], line 1\u001b[0m\n\u001b[0;32m----> 1\u001b[0m \u001b[43md\u001b[49m\u001b[38;5;241;43m.\u001b[39;49m\u001b[43masf\u001b[49m\n",
      "\u001b[0;31mAttributeError\u001b[0m: 'collections.OrderedDict' object has no attribute 'asf'"
     ]
    }
   ],
   "source": [
    "d.asf"
   ]
  },
  {
   "cell_type": "code",
   "execution_count": null,
   "id": "88eff2d7-98c4-4117-b364-75a15f7802b5",
   "metadata": {},
   "outputs": [],
   "source": []
  }
 ],
 "metadata": {
  "kernelspec": {
   "display_name": "Python 3 (ipykernel)",
   "language": "python",
   "name": "python3"
  },
  "language_info": {
   "codemirror_mode": {
    "name": "ipython",
    "version": 3
   },
   "file_extension": ".py",
   "mimetype": "text/x-python",
   "name": "python",
   "nbconvert_exporter": "python",
   "pygments_lexer": "ipython3",
   "version": "3.10.6"
  }
 },
 "nbformat": 4,
 "nbformat_minor": 5
}
