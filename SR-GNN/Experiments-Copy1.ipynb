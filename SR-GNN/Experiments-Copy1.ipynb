{
 "cells": [
  {
   "cell_type": "code",
   "execution_count": 1,
   "id": "d664b5eb-b55b-481d-a5ed-d3dbd887a33e",
   "metadata": {
    "tags": []
   },
   "outputs": [],
   "source": [
    "import scipy as sp\n",
    "import numpy as np\n",
    "import torch\n",
    "import pickle\n",
    "from collections import defaultdict\n",
    "from rank_bm25 import BM25Okapi\n",
    "from tqdm.notebook import tqdm"
   ]
  },
  {
   "cell_type": "code",
   "execution_count": 2,
   "id": "f396c6e7-2349-425b-b632-2756a6a9ebec",
   "metadata": {
    "tags": []
   },
   "outputs": [],
   "source": [
    "import sys\n",
    "sys.path.append('./SR-GNN-master/pytorch_code')"
   ]
  },
  {
   "cell_type": "code",
   "execution_count": 3,
   "id": "e2944844-5797-403f-857c-3f9f47a30d63",
   "metadata": {
    "tags": []
   },
   "outputs": [],
   "source": [
    "from model import *\n",
    "from utils import *"
   ]
  },
  {
   "cell_type": "code",
   "execution_count": 4,
   "id": "9130a638-1207-4706-915a-cfd2a67af51f",
   "metadata": {
    "tags": []
   },
   "outputs": [],
   "source": [
    "class Opt():\n",
    "    def __init__(self, ):\n",
    "        self.dataset = 'diginetica'\n",
    "        self.batchSize = 100\n",
    "        self.hiddenSize = 100\n",
    "        self.epoch = 30\n",
    "        self.lr = 0.001\n",
    "        self.lr_dc = 0.1\n",
    "        self.lr_dc_step = 3\n",
    "        self.l2 = 1e-5\n",
    "        self.step = 1\n",
    "        self.patience = 10\n",
    "        self.nonhybrid = False\n",
    "        self.validation = False\n",
    "        self.valid_portion = 0.01\n",
    "        \n",
    "opt = Opt()"
   ]
  },
  {
   "cell_type": "code",
   "execution_count": 5,
   "id": "3181f02c-3434-4cf0-a873-c17094b8ae89",
   "metadata": {
    "tags": []
   },
   "outputs": [],
   "source": [
    "train_data = pickle.load(open('./SR-GNN-master/datasets/' + opt.dataset + '/train.txt', 'rb'))\n",
    "if opt.validation:\n",
    "    train_data, valid_data = split_validation(train_data, opt.valid_portion)\n",
    "    test_data = valid_data\n",
    "else:\n",
    "    test_data = pickle.load(open('./SR-GNN-master/datasets/' + opt.dataset + '/test.txt', 'rb'))\n",
    "\n",
    "if opt.dataset == 'diginetica':\n",
    "    n_node = 43098\n",
    "elif opt.dataset == 'yoochoose1_64' or opt.dataset == 'yoochoose1_4':\n",
    "    n_node = 37484\n",
    "else:\n",
    "    n_node = 310\n",
    "    \n",
    "train_data = [items+[last_item] for items, last_item in zip(*train_data)]\n",
    "train_seqs = pickle.load(open('./SR-GNN-master/datasets/' + opt.dataset + '/all_train_seq.txt', 'rb'))"
   ]
  },
  {
   "cell_type": "code",
   "execution_count": 6,
   "id": "dce2c4b3-c41a-4128-a987-275f127ee33f",
   "metadata": {
    "tags": []
   },
   "outputs": [],
   "source": [
    "from __future__ import absolute_import, division, print_function, unicode_literals\n",
    "from sklearn.base import BaseEstimator, TransformerMixin\n",
    "from sklearn.utils.validation import check_is_fitted\n",
    "from sklearn.feature_extraction.text import _document_frequency\n",
    "\n",
    "class BM25Transformer(BaseEstimator, TransformerMixin):\n",
    "    \"\"\"\n",
    "    Parameters\n",
    "    ----------\n",
    "    use_idf : boolean, optional (default=True)\n",
    "    k1 : float, optional (default=2.0)\n",
    "    b : float, optional (default=0.75)\n",
    "    References\n",
    "    ----------\n",
    "    Okapi BM25: a non-binary model - Introduction to Information Retrieval\n",
    "    http://nlp.stanford.edu/IR-book/html/htmledition/okapi-bm25-a-non-binary-model-1.html\n",
    "    \"\"\"\n",
    "    def __init__(self, use_idf=True, k1=2.0, b=0.75):\n",
    "        self.use_idf = use_idf\n",
    "        self.k1 = k1\n",
    "        self.b = b\n",
    "\n",
    "    def fit(self, X):\n",
    "        \"\"\"\n",
    "        Parameters\n",
    "        ----------\n",
    "        X : sparse matrix, [n_samples, n_features]\n",
    "            document-term matrix\n",
    "        \"\"\"\n",
    "        X = sp.sparse.csc_matrix(X)\n",
    "        if self.use_idf:\n",
    "            n_samples, n_features = X.shape\n",
    "            df = _document_frequency(X)\n",
    "            idf = np.log((n_samples - df + 0.5) / (df + 0.5))\n",
    "            self._idf_diag = sp.sparse.spdiags(idf, diags=0, m=n_features, n=n_features)\n",
    "        return self\n",
    "\n",
    "    def transform(self, X, copy=True):\n",
    "        \"\"\"\n",
    "        Parameters\n",
    "        ----------\n",
    "        X : sparse matrix, [n_samples, n_features]\n",
    "            document-term matrix\n",
    "        copy : boolean, optional (default=True)\n",
    "        \"\"\"\n",
    "        if hasattr(X, 'dtype') and np.issubdtype(X.dtype, np.float64):\n",
    "            # preserve float family dtype\n",
    "            X = sp.sparse.csr_matrix(X, copy=copy)\n",
    "        else:\n",
    "            # convert counts or binary occurrences to floats\n",
    "            X = sp.sparse.csr_matrix(X, dtype=np.float64, copy=copy)\n",
    "\n",
    "        n_samples, n_features = X.shape\n",
    "\n",
    "        # Document length (number of terms) in each row\n",
    "        # Shape is (n_samples, 1)\n",
    "        dl = X.sum(axis=1)\n",
    "        # Number of non-zero elements in each row\n",
    "        # Shape is (n_samples, )\n",
    "        sz = X.indptr[1:] - X.indptr[0:-1]\n",
    "        rep = np.repeat(np.asarray(dl), sz)\n",
    "        # Average document length\n",
    "        # Scalar value\n",
    "        avgdl = np.average(dl)\n",
    "        # Compute BM25 score only for non-zero elements\n",
    "        data = X.data * (self.k1 + 1) / (X.data + self.k1 * (1 - self.b + self.b * rep / avgdl))\n",
    "        X = sp.sparse.csr_matrix((data, X.indices, X.indptr), shape=X.shape)\n",
    "\n",
    "        if self.use_idf:\n",
    "            check_is_fitted(self, attributes='_idf_diag', msg='idf vector is not fitted')\n",
    "\n",
    "            expected_n_features = self._idf_diag.shape[0]\n",
    "            if n_features != expected_n_features:\n",
    "                raise ValueError(\"Input has n_features=%d while the model\"\n",
    "                                 \" has been trained with n_features=%d\" % (\n",
    "                                     n_features, expected_n_features))\n",
    "            # *= doesn't work\n",
    "            X = X * self._idf_diag\n",
    "\n",
    "        return X"
   ]
  },
  {
   "cell_type": "code",
   "execution_count": 46,
   "id": "e5907b78-9024-4521-ad8d-b846f2bd5975",
   "metadata": {
    "tags": []
   },
   "outputs": [],
   "source": [
    "class EASE():\n",
    "    def __init__(self, data):\n",
    "        self.data = data\n",
    "\n",
    "        set_ = set()\n",
    "        for i in data:\n",
    "            for j in i:\n",
    "                set_.add(j)\n",
    "        self.item_num = len(set_)\n",
    "\n",
    "        item_mapping = {}\n",
    "        for i, item in enumerate(set_):\n",
    "            item_mapping[item] = i\n",
    " \n",
    "        self.item_mapping = item_mapping\n",
    "\n",
    "    def fit(self, reg=1):\n",
    "        Dsi = defaultdict(int)\n",
    "        Dis = defaultdict(int)\n",
    "        items_count = defaultdict(int)\n",
    "        session_count = 0\n",
    "        for items in tqdm(train_seqs, total=len(train_seqs)):\n",
    "            session_len = len(items)\n",
    "            for i in items:\n",
    "                items_count[self.item_mapping[i]] += 1\n",
    "                Dsi[session_count, self.item_mapping[i]] += 1 /session_len\n",
    "                Dis[self.item_mapping[i], session_count] += 1\n",
    "            session_count += 1\n",
    "        session_num = session_count + 1\n",
    "        item_num = len(items_count)\n",
    "\n",
    "        for row, col in Dis.keys():\n",
    "            Dis[row, col] /= items_count[row]\n",
    " \n",
    "        rows = np.array(list(Dsi.keys()))[:, 0]\n",
    "        cols = np.array(list(Dsi.keys()))[:, 1]\n",
    "        vals = np.array(list(Dsi.values()))\n",
    "        Dsi_sparse = sp.sparse.coo_matrix((vals, (rows, cols)))\n",
    "\n",
    "        rows = np.array(list(Dis.keys()))[:, 0]\n",
    "        cols = np.array(list(Dis.keys()))[:, 1]\n",
    "        vals = np.array(list(Dis.values()))\n",
    "        Dis_sparse = sp.sparse.coo_matrix((vals, (rows, cols)))\n",
    "        \n",
    "        \n",
    "        D = (Dis_sparse @ Dsi_sparse).todense()\n",
    "        \n",
    "        diag = ([i for i in range(self.item_num)],\n",
    "                [i for i in range(self.item_num)])\n",
    "        D[diag] += reg\n",
    "        \n",
    "        P = np.linalg.inv(D)\n",
    "        \n",
    "        B = -P/P[diag]\n",
    "        \n",
    "        B[diag] = 0\n",
    "\n",
    "        self.W = B\n",
    "\n",
    "    def predict(self, sessions):\n",
    "        scores = []\n",
    "        for session in sessions:\n",
    "            session_ = list(map(self.item_mapping.get, session))\n",
    "            session_ = [item for item in session_ if item is not None]\n",
    "            score = np.array(self.W[session_].sum(0))\n",
    "            score[0][session_] += 100\n",
    "            scores.append(score)\n",
    "        return np.concatenate(scores)"
   ]
  },
  {
   "cell_type": "code",
   "execution_count": 47,
   "id": "38c8870a-82fb-4d94-aa9d-05965c363714",
   "metadata": {},
   "outputs": [],
   "source": [
    "class RP3beta():\n",
    "    def __init__(self, data):\n",
    "        self.data = data\n",
    "\n",
    "        set_ = set()\n",
    "        for i in data:\n",
    "            for j in i:\n",
    "                set_.add(j)\n",
    "        item_num = len(set_)\n",
    "\n",
    "        item_mapping = {}\n",
    "        for i, item in enumerate(set_):\n",
    "            item_mapping[item] = i\n",
    " \n",
    "        self.item_mapping = item_mapping\n",
    "\n",
    "    def fit_bm25(self, k1=2.0, b=0.75):\n",
    "        Dsi = defaultdict(int)\n",
    "        Dis = defaultdict(int)\n",
    "        bm25 = BM25Transformer(k1, b)\n",
    "        \n",
    "        session_count = 0\n",
    "        for items in tqdm(train_seqs, total=len(train_seqs)):\n",
    "            session_len = len(items)\n",
    "            for i in items:\n",
    "                Dsi[session_count, self.item_mapping[i]] += 1 \n",
    "                Dis[self.item_mapping[i], session_count] += 1\n",
    "            session_count += 1\n",
    "            \n",
    "        rows = np.array(list(Dsi.keys()))[:, 0]\n",
    "        cols = np.array(list(Dsi.keys()))[:, 1]\n",
    "        vals = np.array(list(Dsi.values()))\n",
    "        Dsi_sparse = sp.sparse.coo_matrix((vals, (rows, cols)))\n",
    "\n",
    "        rows = np.array(list(Dis.keys()))[:, 0]\n",
    "        cols = np.array(list(Dis.keys()))[:, 1]\n",
    "        vals = np.array(list(Dis.values()))\n",
    "        Dis_sparse = sp.sparse.coo_matrix((vals, (rows, cols)))\n",
    "        \n",
    "        bm25.fit(Dsi_sparse)\n",
    "        Dsi_sparse = bm25.transform(Dsi_sparse)\n",
    "        \n",
    "        bm25.fit(Dis_sparse)\n",
    "        Dis_sparse = bm25.transform(Dis_sparse)\n",
    "        \n",
    "        W = Dis_sparse @ Dsi_sparse\n",
    "        self.W = W\n",
    "    \n",
    "    def fit(self, alpha=1, beta=0.5):\n",
    "        Dsi = defaultdict(int)\n",
    "        Dis = defaultdict(int)\n",
    "        items_count = defaultdict(int)\n",
    "        session_count = 0\n",
    "        for items in tqdm(train_seqs, total=len(train_seqs)):\n",
    "            session_len = len(items)\n",
    "            for i in items:\n",
    "                items_count[self.item_mapping[i]] += 1\n",
    "                Dsi[session_count, self.item_mapping[i]] += 1 /session_len\n",
    "                Dis[self.item_mapping[i], session_count] += 1\n",
    "            session_count += 1\n",
    "        session_num = session_count + 1\n",
    "        item_num = len(items_count)\n",
    "\n",
    "        for row, col in Dis.keys():\n",
    "            Dis[row, col] /= items_count[row]**(1+beta)\n",
    "        \n",
    "        # for row, col in Dis.keys():\n",
    "        #     Dis[row, col] *= np.log(session_num/len(train_seqs[col]))\n",
    "        #     Dsi[col, row] *= np.log(item_num/items_count[row])\n",
    " \n",
    "        rows = np.array(list(Dsi.keys()))[:, 0]\n",
    "        cols = np.array(list(Dsi.keys()))[:, 1]\n",
    "        vals = np.array(list(Dsi.values()))**alpha\n",
    "        Dsi_sparse = sp.sparse.coo_matrix((vals, (rows, cols)))\n",
    "\n",
    "        rows = np.array(list(Dis.keys()))[:, 0]\n",
    "        cols = np.array(list(Dis.keys()))[:, 1]\n",
    "        vals = np.array(list(Dis.values()))**alpha\n",
    "        Dis_sparse = sp.sparse.coo_matrix((vals, (rows, cols)))\n",
    "        \n",
    "        W = Dis_sparse @ Dsi_sparse\n",
    "        self.W = W\n",
    "\n",
    "    def predict(self, sessions):\n",
    "        scores = []\n",
    "        for session in sessions:\n",
    "            session_ = list(map(self.item_mapping.get, session))\n",
    "            session_ = [item for item in session_ if item is not None]\n",
    "            score = np.array(self.W[session_].sum(0))\n",
    "            # score[0][session_] += 100\n",
    "            scores.append(score)\n",
    "        return np.concatenate(scores)"
   ]
  },
  {
   "cell_type": "code",
   "execution_count": 48,
   "id": "271a297c-f797-4e5e-8112-0e21319a1465",
   "metadata": {
    "tags": []
   },
   "outputs": [],
   "source": [
    "class RandomWalk():\n",
    "    def __init__(self, data):\n",
    "        self.data = data\n",
    "\n",
    "        set_ = set()\n",
    "        for i in data:\n",
    "            for j in i:\n",
    "                set_.add(j)\n",
    "        self.item_num = len(set_)\n",
    "\n",
    "        item_mapping = {}\n",
    "        for i, item in enumerate(set_):\n",
    "            item_mapping[item] = i\n",
    " \n",
    "        self.item_mapping = item_mapping\n",
    "    \n",
    "    def fit(self):\n",
    "        Dii = defaultdict(int)\n",
    "        Dii2 = defaultdict(int)\n",
    "        for items in tqdm(train_seqs, total=len(train_seqs)):\n",
    "            session_len = len(items)\n",
    "            for i in range(session_len-1):\n",
    "                Dii[self.item_mapping[items[i]], self.item_mapping[items[i+1]]] += 1\n",
    "                \n",
    "            for i in range(session_len-2):\n",
    "                Dii2[self.item_mapping[items[i]], self.item_mapping[items[i+2]]] += 1\n",
    "\n",
    "        rows = np.array(list(Dii.keys()))[:, 0]\n",
    "        cols = np.array(list(Dii.keys()))[:, 1]\n",
    "        vals = np.array(list(Dii.values()))\n",
    "        Dii_sparse = sp.sparse.coo_matrix((vals, (rows, cols)))\n",
    "        \n",
    "        rows = np.array(list(Dii2.keys()))[:, 0]\n",
    "        cols = np.array(list(Dii2.keys()))[:, 1]\n",
    "        vals = np.array(list(Dii2.values()))\n",
    "        Dii2_sparse = sp.sparse.coo_matrix((vals, (rows, cols)))\n",
    "\n",
    "        W1 = Dii_sparse/(Dii_sparse.sum(1)+1e-3)#/item_probs[:, None]\n",
    "        self.Ws = dict()\n",
    "        self.Ws[1] = W1\n",
    "        self.Ws[2] = Dii2_sparse/(Dii2_sparse.sum(1)+1e-3) #W1 @ W1\n",
    "        #self.Ws[3] = self.Ws[2] @ W1\n",
    "        #self.Ws[4] = self.Ws[3] @ W1\n",
    "\n",
    "    def predict(self, sessions):\n",
    "        scores = []\n",
    "        for session in sessions:\n",
    "            session_ = list(map(self.item_mapping.get, session))\n",
    "            session_ = [item for item in session_ if item is not None]\n",
    "            score = np.zeros((1, self.item_num))\n",
    "            for i in range(1, min(len(session_)+1, len(self.Ws)+1)):\n",
    "                score += np.array(self.Ws[i][session_[-i]]) / i**1.5\n",
    "            # score[0][session_] += 10\n",
    "            scores.append(score)\n",
    "        return np.concatenate(scores)"
   ]
  },
  {
   "cell_type": "code",
   "execution_count": 49,
   "id": "ea75e65f-70e1-4690-8002-56419229c8f5",
   "metadata": {
    "tags": []
   },
   "outputs": [],
   "source": [
    "class RandomWalk2():\n",
    "    def __init__(self, data):\n",
    "        self.data = data\n",
    "\n",
    "        set_ = set()\n",
    "        for i in data:\n",
    "            for j in i:\n",
    "                set_.add(j)\n",
    "        self.item_num = len(set_)\n",
    "\n",
    "        item_mapping = {}\n",
    "        for i, item in enumerate(set_):\n",
    "            item_mapping[item] = i\n",
    " \n",
    "        self.item_mapping = item_mapping\n",
    "\n",
    "    def fit(self, reg=250):\n",
    "        pass\n",
    "\n",
    "    def predict(self, sessions):\n",
    "        scores = []\n",
    "        for session in sessions:\n",
    "            session_ = list(map(self.item_mapping.get, session))\n",
    "            session_ = [item for item in session_ if item is not None]\n",
    "            score = np.ones((1, self.item_num))\n",
    "            for i in range(1, min(len(session_)+1, len(self.Diis)+1)):\n",
    "                score += np.array(self.Diis[i][session_[-i]]) / i**1.5\n",
    "            #score = np.array(self.Diis[1][session_].sum(0))\n",
    "            score[0][session_] += 100\n",
    "            scores.append(score)\n",
    "        return np.concatenate(scores)"
   ]
  },
  {
   "cell_type": "code",
   "execution_count": 50,
   "id": "e31a0ce4-a1aa-46a1-8250-31c75f12cc15",
   "metadata": {
    "tags": []
   },
   "outputs": [],
   "source": [
    "def test(model, test_data):\n",
    "    hit, mrr = [], []\n",
    "    batch_size = min(opt.batchSize, len(test_data[0]))\n",
    "    for i in tqdm(range(0, len(test_data[0]), batch_size)):\n",
    "        scores = model.predict(test_data[0][i:i+batch_size])\n",
    "        sub_scores = (-scores).argsort(1)[:, :20]\n",
    "        targets = test_data[1][i:i+batch_size]\n",
    "        for score, target in zip(sub_scores, targets):\n",
    "            target = model.item_mapping.get(target)\n",
    "            hit.append(np.isin(target, score))\n",
    "            if len(np.where(score == target)[0]) == 0:\n",
    "                mrr.append(0)\n",
    "            else:\n",
    "                mrr.append(1 / (np.where(score == target)[0][0] + 1))\n",
    "    hit = np.mean(hit) * 100\n",
    "    mrr = np.mean(mrr) * 100\n",
    "    print({'hit': hit, 'mrr': mrr})\n",
    "    return {'hit': hit, 'mrr': mrr}"
   ]
  },
  {
   "cell_type": "code",
   "execution_count": 51,
   "id": "d614ee07-ff29-44b1-8258-47a18d534334",
   "metadata": {
    "tags": []
   },
   "outputs": [
    {
     "data": {
      "application/vnd.jupyter.widget-view+json": {
       "model_id": "a3f112d06f914193b5f6eb2a2d457089",
       "version_major": 2,
       "version_minor": 0
      },
      "text/plain": [
       "  0%|          | 0/186670 [00:00<?, ?it/s]"
      ]
     },
     "metadata": {},
     "output_type": "display_data"
    }
   ],
   "source": [
    "model = EASE(train_data)\n",
    "model.fit(reg=250)"
   ]
  },
  {
   "cell_type": "code",
   "execution_count": 52,
   "id": "21587626-64e8-4249-9b09-111d1f9e517c",
   "metadata": {
    "tags": []
   },
   "outputs": [
    {
     "data": {
      "application/vnd.jupyter.widget-view+json": {
       "model_id": "fd0616f1df094f24a8795182825cba5e",
       "version_major": 2,
       "version_minor": 0
      },
      "text/plain": [
       "  0%|          | 0/609 [00:00<?, ?it/s]"
      ]
     },
     "metadata": {},
     "output_type": "display_data"
    },
    {
     "name": "stdout",
     "output_type": "stream",
     "text": [
      "{'hit': 40.04896644648198, 'mrr': 11.553126959027118}\n"
     ]
    }
   ],
   "source": [
    "_ = test(model, test_data)"
   ]
  },
  {
   "cell_type": "code",
   "execution_count": 50,
   "id": "4cdcb6a0-044f-4c7d-95d9-54639af52e61",
   "metadata": {
    "tags": []
   },
   "outputs": [
    {
     "name": "stderr",
     "output_type": "stream",
     "text": [
      "\u001b[32m[I 2023-03-07 15:55:08,518]\u001b[0m A new study created in memory with name: no-name-afd3e39d-96f3-4399-a7f8-aaa64a875560\u001b[0m\n"
     ]
    },
    {
     "data": {
      "application/vnd.jupyter.widget-view+json": {
       "model_id": "43ded636341247e18064e71c61bbc3ff",
       "version_major": 2,
       "version_minor": 0
      },
      "text/plain": [
       "  0%|          | 0/1922630 [00:00<?, ?it/s]"
      ]
     },
     "metadata": {},
     "output_type": "display_data"
    },
    {
     "data": {
      "application/vnd.jupyter.widget-view+json": {
       "model_id": "2aa2509913c543f79d28e92d9ec8f58c",
       "version_major": 2,
       "version_minor": 0
      },
      "text/plain": [
       "  0%|          | 0/559 [00:00<?, ?it/s]"
      ]
     },
     "metadata": {},
     "output_type": "display_data"
    },
    {
     "name": "stderr",
     "output_type": "stream",
     "text": [
      "\u001b[32m[I 2023-03-07 15:56:23,541]\u001b[0m Trial 0 finished with value: 65.1382875952628 and parameters: {'k1': 11.697319372658288, 'b': 0.18782695130492744}. Best is trial 0 with value: 65.1382875952628.\u001b[0m\n"
     ]
    },
    {
     "name": "stdout",
     "output_type": "stream",
     "text": [
      "{'hit': 65.1382875952628, 'mrr': 25.341513793774585}\n"
     ]
    },
    {
     "data": {
      "application/vnd.jupyter.widget-view+json": {
       "model_id": "9d8315bbb1f14459b9dcc2183876046f",
       "version_major": 2,
       "version_minor": 0
      },
      "text/plain": [
       "  0%|          | 0/1922630 [00:00<?, ?it/s]"
      ]
     },
     "metadata": {},
     "output_type": "display_data"
    },
    {
     "data": {
      "application/vnd.jupyter.widget-view+json": {
       "model_id": "92f94fb403b74f35a6392effedea2f80",
       "version_major": 2,
       "version_minor": 0
      },
      "text/plain": [
       "  0%|          | 0/559 [00:00<?, ?it/s]"
      ]
     },
     "metadata": {},
     "output_type": "display_data"
    },
    {
     "name": "stderr",
     "output_type": "stream",
     "text": [
      "\u001b[32m[I 2023-03-07 15:57:38,435]\u001b[0m Trial 1 finished with value: 63.87169487280404 and parameters: {'k1': 19.91154146439115, 'b': 0.02258742096526778}. Best is trial 0 with value: 65.1382875952628.\u001b[0m\n"
     ]
    },
    {
     "name": "stdout",
     "output_type": "stream",
     "text": [
      "{'hit': 63.87169487280404, 'mrr': 24.96853581020437}\n"
     ]
    },
    {
     "data": {
      "application/vnd.jupyter.widget-view+json": {
       "model_id": "fb8c788b6d144b289d8ccdae4498da86",
       "version_major": 2,
       "version_minor": 0
      },
      "text/plain": [
       "  0%|          | 0/1922630 [00:00<?, ?it/s]"
      ]
     },
     "metadata": {},
     "output_type": "display_data"
    },
    {
     "data": {
      "application/vnd.jupyter.widget-view+json": {
       "model_id": "4ddb2442e13046abb4ee43ebb5010e25",
       "version_major": 2,
       "version_minor": 0
      },
      "text/plain": [
       "  0%|          | 0/559 [00:00<?, ?it/s]"
      ]
     },
     "metadata": {},
     "output_type": "display_data"
    },
    {
     "name": "stderr",
     "output_type": "stream",
     "text": [
      "\u001b[32m[I 2023-03-07 15:58:53,182]\u001b[0m Trial 2 finished with value: 65.77337292926401 and parameters: {'k1': 4.910255939165069, 'b': 0.6759753713873353}. Best is trial 2 with value: 65.77337292926401.\u001b[0m\n"
     ]
    },
    {
     "name": "stdout",
     "output_type": "stream",
     "text": [
      "{'hit': 65.77337292926401, 'mrr': 25.587786850537853}\n"
     ]
    },
    {
     "data": {
      "application/vnd.jupyter.widget-view+json": {
       "model_id": "7fed3b20d22b44b598a5c3c82587b2a8",
       "version_major": 2,
       "version_minor": 0
      },
      "text/plain": [
       "  0%|          | 0/1922630 [00:00<?, ?it/s]"
      ]
     },
     "metadata": {},
     "output_type": "display_data"
    },
    {
     "data": {
      "application/vnd.jupyter.widget-view+json": {
       "model_id": "f8f9ff79a7c04fd3b96676d9654bf47d",
       "version_major": 2,
       "version_minor": 0
      },
      "text/plain": [
       "  0%|          | 0/559 [00:00<?, ?it/s]"
      ]
     },
     "metadata": {},
     "output_type": "display_data"
    },
    {
     "name": "stderr",
     "output_type": "stream",
     "text": [
      "\u001b[32m[I 2023-03-07 16:00:08,059]\u001b[0m Trial 3 finished with value: 65.46209166696482 and parameters: {'k1': 10.851606664770614, 'b': 0.3376124659239059}. Best is trial 2 with value: 65.77337292926401.\u001b[0m\n"
     ]
    },
    {
     "name": "stdout",
     "output_type": "stream",
     "text": [
      "{'hit': 65.46209166696482, 'mrr': 25.457027322611886}\n"
     ]
    },
    {
     "data": {
      "application/vnd.jupyter.widget-view+json": {
       "model_id": "d184083d52084e649fc6369a72fb2758",
       "version_major": 2,
       "version_minor": 0
      },
      "text/plain": [
       "  0%|          | 0/1922630 [00:00<?, ?it/s]"
      ]
     },
     "metadata": {},
     "output_type": "display_data"
    },
    {
     "data": {
      "application/vnd.jupyter.widget-view+json": {
       "model_id": "892e84a6881a4709b7ef59790db2265e",
       "version_major": 2,
       "version_minor": 0
      },
      "text/plain": [
       "  0%|          | 0/559 [00:00<?, ?it/s]"
      ]
     },
     "metadata": {},
     "output_type": "display_data"
    },
    {
     "name": "stderr",
     "output_type": "stream",
     "text": [
      "\u001b[32m[I 2023-03-07 16:01:23,073]\u001b[0m Trial 4 finished with value: 65.74832731045834 and parameters: {'k1': 7.3752752853317745, 'b': 0.6267349858791935}. Best is trial 2 with value: 65.77337292926401.\u001b[0m\n"
     ]
    },
    {
     "name": "stdout",
     "output_type": "stream",
     "text": [
      "{'hit': 65.74832731045834, 'mrr': 25.57404891191451}\n"
     ]
    },
    {
     "data": {
      "application/vnd.jupyter.widget-view+json": {
       "model_id": "b2a4db18ee5140dda1ca89a2939e63ba",
       "version_major": 2,
       "version_minor": 0
      },
      "text/plain": [
       "  0%|          | 0/1922630 [00:00<?, ?it/s]"
      ]
     },
     "metadata": {},
     "output_type": "display_data"
    },
    {
     "data": {
      "application/vnd.jupyter.widget-view+json": {
       "model_id": "d2123dc679d34d1a8e3f689819c31db5",
       "version_major": 2,
       "version_minor": 0
      },
      "text/plain": [
       "  0%|          | 0/559 [00:00<?, ?it/s]"
      ]
     },
     "metadata": {},
     "output_type": "display_data"
    },
    {
     "name": "stderr",
     "output_type": "stream",
     "text": [
      "\u001b[32m[I 2023-03-07 16:02:38,117]\u001b[0m Trial 5 finished with value: 65.78231779312318 and parameters: {'k1': 4.547221645664187, 'b': 0.7080074320691024}. Best is trial 5 with value: 65.78231779312318.\u001b[0m\n"
     ]
    },
    {
     "name": "stdout",
     "output_type": "stream",
     "text": [
      "{'hit': 65.78231779312318, 'mrr': 25.596532310955805}\n"
     ]
    },
    {
     "data": {
      "application/vnd.jupyter.widget-view+json": {
       "model_id": "443d41236ccc405aa486757de593e8c2",
       "version_major": 2,
       "version_minor": 0
      },
      "text/plain": [
       "  0%|          | 0/1922630 [00:00<?, ?it/s]"
      ]
     },
     "metadata": {},
     "output_type": "display_data"
    },
    {
     "name": "stderr",
     "output_type": "stream",
     "text": [
      "\u001b[33m[W 2023-03-07 16:02:41,042]\u001b[0m Trial 6 failed with parameters: {'k1': 18.535809919995966, 'b': 0.5293155856348277} because of the following error: KeyboardInterrupt().\u001b[0m\n",
      "Traceback (most recent call last):\n",
      "  File \"/home/daniilstrunov/.local/lib/python3.10/site-packages/optuna/study/_optimize.py\", line 200, in _run_trial\n",
      "    value_or_values = func(trial)\n",
      "  File \"/tmp/ipykernel_3528/3991967122.py\", line 7, in objective\n",
      "    model.fit_bm25(k1, b)\n",
      "  File \"/tmp/ipykernel_3528/2383993741.py\", line 108, in fit_bm25\n",
      "    Dis[self.item_mapping[i], session_count] += 1\n",
      "KeyboardInterrupt\n",
      "\u001b[33m[W 2023-03-07 16:02:41,043]\u001b[0m Trial 6 failed with value None.\u001b[0m\n"
     ]
    },
    {
     "ename": "KeyboardInterrupt",
     "evalue": "",
     "output_type": "error",
     "traceback": [
      "\u001b[0;31m---------------------------------------------------------------------------\u001b[0m",
      "\u001b[0;31mKeyboardInterrupt\u001b[0m                         Traceback (most recent call last)",
      "Cell \u001b[0;32mIn[50], line 11\u001b[0m\n\u001b[1;32m      8\u001b[0m     \u001b[38;5;28;01mreturn\u001b[39;00m test(model, test_data)[\u001b[38;5;124m'\u001b[39m\u001b[38;5;124mhit\u001b[39m\u001b[38;5;124m'\u001b[39m]\n\u001b[1;32m     10\u001b[0m study \u001b[38;5;241m=\u001b[39m optuna\u001b[38;5;241m.\u001b[39mcreate_study(direction\u001b[38;5;241m=\u001b[39m\u001b[38;5;124m'\u001b[39m\u001b[38;5;124mmaximize\u001b[39m\u001b[38;5;124m'\u001b[39m)\n\u001b[0;32m---> 11\u001b[0m \u001b[43mstudy\u001b[49m\u001b[38;5;241;43m.\u001b[39;49m\u001b[43moptimize\u001b[49m\u001b[43m(\u001b[49m\u001b[43mobjective\u001b[49m\u001b[43m,\u001b[49m\u001b[43m \u001b[49m\u001b[43mn_trials\u001b[49m\u001b[38;5;241;43m=\u001b[39;49m\u001b[38;5;241;43m100\u001b[39;49m\u001b[43m)\u001b[49m\n",
      "File \u001b[0;32m~/.local/lib/python3.10/site-packages/optuna/study/study.py:425\u001b[0m, in \u001b[0;36mStudy.optimize\u001b[0;34m(self, func, n_trials, timeout, n_jobs, catch, callbacks, gc_after_trial, show_progress_bar)\u001b[0m\n\u001b[1;32m    321\u001b[0m \u001b[38;5;28;01mdef\u001b[39;00m \u001b[38;5;21moptimize\u001b[39m(\n\u001b[1;32m    322\u001b[0m     \u001b[38;5;28mself\u001b[39m,\n\u001b[1;32m    323\u001b[0m     func: ObjectiveFuncType,\n\u001b[0;32m   (...)\u001b[0m\n\u001b[1;32m    330\u001b[0m     show_progress_bar: \u001b[38;5;28mbool\u001b[39m \u001b[38;5;241m=\u001b[39m \u001b[38;5;28;01mFalse\u001b[39;00m,\n\u001b[1;32m    331\u001b[0m ) \u001b[38;5;241m-\u001b[39m\u001b[38;5;241m>\u001b[39m \u001b[38;5;28;01mNone\u001b[39;00m:\n\u001b[1;32m    332\u001b[0m \u001b[38;5;250m    \u001b[39m\u001b[38;5;124;03m\"\"\"Optimize an objective function.\u001b[39;00m\n\u001b[1;32m    333\u001b[0m \n\u001b[1;32m    334\u001b[0m \u001b[38;5;124;03m    Optimization is done by choosing a suitable set of hyperparameter values from a given\u001b[39;00m\n\u001b[0;32m   (...)\u001b[0m\n\u001b[1;32m    422\u001b[0m \u001b[38;5;124;03m            If nested invocation of this method occurs.\u001b[39;00m\n\u001b[1;32m    423\u001b[0m \u001b[38;5;124;03m    \"\"\"\u001b[39;00m\n\u001b[0;32m--> 425\u001b[0m     \u001b[43m_optimize\u001b[49m\u001b[43m(\u001b[49m\n\u001b[1;32m    426\u001b[0m \u001b[43m        \u001b[49m\u001b[43mstudy\u001b[49m\u001b[38;5;241;43m=\u001b[39;49m\u001b[38;5;28;43mself\u001b[39;49m\u001b[43m,\u001b[49m\n\u001b[1;32m    427\u001b[0m \u001b[43m        \u001b[49m\u001b[43mfunc\u001b[49m\u001b[38;5;241;43m=\u001b[39;49m\u001b[43mfunc\u001b[49m\u001b[43m,\u001b[49m\n\u001b[1;32m    428\u001b[0m \u001b[43m        \u001b[49m\u001b[43mn_trials\u001b[49m\u001b[38;5;241;43m=\u001b[39;49m\u001b[43mn_trials\u001b[49m\u001b[43m,\u001b[49m\n\u001b[1;32m    429\u001b[0m \u001b[43m        \u001b[49m\u001b[43mtimeout\u001b[49m\u001b[38;5;241;43m=\u001b[39;49m\u001b[43mtimeout\u001b[49m\u001b[43m,\u001b[49m\n\u001b[1;32m    430\u001b[0m \u001b[43m        \u001b[49m\u001b[43mn_jobs\u001b[49m\u001b[38;5;241;43m=\u001b[39;49m\u001b[43mn_jobs\u001b[49m\u001b[43m,\u001b[49m\n\u001b[1;32m    431\u001b[0m \u001b[43m        \u001b[49m\u001b[43mcatch\u001b[49m\u001b[38;5;241;43m=\u001b[39;49m\u001b[38;5;28;43mtuple\u001b[39;49m\u001b[43m(\u001b[49m\u001b[43mcatch\u001b[49m\u001b[43m)\u001b[49m\u001b[43m \u001b[49m\u001b[38;5;28;43;01mif\u001b[39;49;00m\u001b[43m \u001b[49m\u001b[38;5;28;43misinstance\u001b[39;49m\u001b[43m(\u001b[49m\u001b[43mcatch\u001b[49m\u001b[43m,\u001b[49m\u001b[43m \u001b[49m\u001b[43mIterable\u001b[49m\u001b[43m)\u001b[49m\u001b[43m \u001b[49m\u001b[38;5;28;43;01melse\u001b[39;49;00m\u001b[43m \u001b[49m\u001b[43m(\u001b[49m\u001b[43mcatch\u001b[49m\u001b[43m,\u001b[49m\u001b[43m)\u001b[49m\u001b[43m,\u001b[49m\n\u001b[1;32m    432\u001b[0m \u001b[43m        \u001b[49m\u001b[43mcallbacks\u001b[49m\u001b[38;5;241;43m=\u001b[39;49m\u001b[43mcallbacks\u001b[49m\u001b[43m,\u001b[49m\n\u001b[1;32m    433\u001b[0m \u001b[43m        \u001b[49m\u001b[43mgc_after_trial\u001b[49m\u001b[38;5;241;43m=\u001b[39;49m\u001b[43mgc_after_trial\u001b[49m\u001b[43m,\u001b[49m\n\u001b[1;32m    434\u001b[0m \u001b[43m        \u001b[49m\u001b[43mshow_progress_bar\u001b[49m\u001b[38;5;241;43m=\u001b[39;49m\u001b[43mshow_progress_bar\u001b[49m\u001b[43m,\u001b[49m\n\u001b[1;32m    435\u001b[0m \u001b[43m    \u001b[49m\u001b[43m)\u001b[49m\n",
      "File \u001b[0;32m~/.local/lib/python3.10/site-packages/optuna/study/_optimize.py:66\u001b[0m, in \u001b[0;36m_optimize\u001b[0;34m(study, func, n_trials, timeout, n_jobs, catch, callbacks, gc_after_trial, show_progress_bar)\u001b[0m\n\u001b[1;32m     64\u001b[0m \u001b[38;5;28;01mtry\u001b[39;00m:\n\u001b[1;32m     65\u001b[0m     \u001b[38;5;28;01mif\u001b[39;00m n_jobs \u001b[38;5;241m==\u001b[39m \u001b[38;5;241m1\u001b[39m:\n\u001b[0;32m---> 66\u001b[0m         \u001b[43m_optimize_sequential\u001b[49m\u001b[43m(\u001b[49m\n\u001b[1;32m     67\u001b[0m \u001b[43m            \u001b[49m\u001b[43mstudy\u001b[49m\u001b[43m,\u001b[49m\n\u001b[1;32m     68\u001b[0m \u001b[43m            \u001b[49m\u001b[43mfunc\u001b[49m\u001b[43m,\u001b[49m\n\u001b[1;32m     69\u001b[0m \u001b[43m            \u001b[49m\u001b[43mn_trials\u001b[49m\u001b[43m,\u001b[49m\n\u001b[1;32m     70\u001b[0m \u001b[43m            \u001b[49m\u001b[43mtimeout\u001b[49m\u001b[43m,\u001b[49m\n\u001b[1;32m     71\u001b[0m \u001b[43m            \u001b[49m\u001b[43mcatch\u001b[49m\u001b[43m,\u001b[49m\n\u001b[1;32m     72\u001b[0m \u001b[43m            \u001b[49m\u001b[43mcallbacks\u001b[49m\u001b[43m,\u001b[49m\n\u001b[1;32m     73\u001b[0m \u001b[43m            \u001b[49m\u001b[43mgc_after_trial\u001b[49m\u001b[43m,\u001b[49m\n\u001b[1;32m     74\u001b[0m \u001b[43m            \u001b[49m\u001b[43mreseed_sampler_rng\u001b[49m\u001b[38;5;241;43m=\u001b[39;49m\u001b[38;5;28;43;01mFalse\u001b[39;49;00m\u001b[43m,\u001b[49m\n\u001b[1;32m     75\u001b[0m \u001b[43m            \u001b[49m\u001b[43mtime_start\u001b[49m\u001b[38;5;241;43m=\u001b[39;49m\u001b[38;5;28;43;01mNone\u001b[39;49;00m\u001b[43m,\u001b[49m\n\u001b[1;32m     76\u001b[0m \u001b[43m            \u001b[49m\u001b[43mprogress_bar\u001b[49m\u001b[38;5;241;43m=\u001b[39;49m\u001b[43mprogress_bar\u001b[49m\u001b[43m,\u001b[49m\n\u001b[1;32m     77\u001b[0m \u001b[43m        \u001b[49m\u001b[43m)\u001b[49m\n\u001b[1;32m     78\u001b[0m     \u001b[38;5;28;01melse\u001b[39;00m:\n\u001b[1;32m     79\u001b[0m         \u001b[38;5;28;01mif\u001b[39;00m n_jobs \u001b[38;5;241m==\u001b[39m \u001b[38;5;241m-\u001b[39m\u001b[38;5;241m1\u001b[39m:\n",
      "File \u001b[0;32m~/.local/lib/python3.10/site-packages/optuna/study/_optimize.py:163\u001b[0m, in \u001b[0;36m_optimize_sequential\u001b[0;34m(study, func, n_trials, timeout, catch, callbacks, gc_after_trial, reseed_sampler_rng, time_start, progress_bar)\u001b[0m\n\u001b[1;32m    160\u001b[0m         \u001b[38;5;28;01mbreak\u001b[39;00m\n\u001b[1;32m    162\u001b[0m \u001b[38;5;28;01mtry\u001b[39;00m:\n\u001b[0;32m--> 163\u001b[0m     frozen_trial \u001b[38;5;241m=\u001b[39m \u001b[43m_run_trial\u001b[49m\u001b[43m(\u001b[49m\u001b[43mstudy\u001b[49m\u001b[43m,\u001b[49m\u001b[43m \u001b[49m\u001b[43mfunc\u001b[49m\u001b[43m,\u001b[49m\u001b[43m \u001b[49m\u001b[43mcatch\u001b[49m\u001b[43m)\u001b[49m\n\u001b[1;32m    164\u001b[0m \u001b[38;5;28;01mfinally\u001b[39;00m:\n\u001b[1;32m    165\u001b[0m     \u001b[38;5;66;03m# The following line mitigates memory problems that can be occurred in some\u001b[39;00m\n\u001b[1;32m    166\u001b[0m     \u001b[38;5;66;03m# environments (e.g., services that use computing containers such as GitHub Actions).\u001b[39;00m\n\u001b[1;32m    167\u001b[0m     \u001b[38;5;66;03m# Please refer to the following PR for further details:\u001b[39;00m\n\u001b[1;32m    168\u001b[0m     \u001b[38;5;66;03m# https://github.com/optuna/optuna/pull/325.\u001b[39;00m\n\u001b[1;32m    169\u001b[0m     \u001b[38;5;28;01mif\u001b[39;00m gc_after_trial:\n",
      "File \u001b[0;32m~/.local/lib/python3.10/site-packages/optuna/study/_optimize.py:251\u001b[0m, in \u001b[0;36m_run_trial\u001b[0;34m(study, func, catch)\u001b[0m\n\u001b[1;32m    244\u001b[0m         \u001b[38;5;28;01massert\u001b[39;00m \u001b[38;5;28;01mFalse\u001b[39;00m, \u001b[38;5;124m\"\u001b[39m\u001b[38;5;124mShould not reach.\u001b[39m\u001b[38;5;124m\"\u001b[39m\n\u001b[1;32m    246\u001b[0m \u001b[38;5;28;01mif\u001b[39;00m (\n\u001b[1;32m    247\u001b[0m     frozen_trial\u001b[38;5;241m.\u001b[39mstate \u001b[38;5;241m==\u001b[39m TrialState\u001b[38;5;241m.\u001b[39mFAIL\n\u001b[1;32m    248\u001b[0m     \u001b[38;5;129;01mand\u001b[39;00m func_err \u001b[38;5;129;01mis\u001b[39;00m \u001b[38;5;129;01mnot\u001b[39;00m \u001b[38;5;28;01mNone\u001b[39;00m\n\u001b[1;32m    249\u001b[0m     \u001b[38;5;129;01mand\u001b[39;00m \u001b[38;5;129;01mnot\u001b[39;00m \u001b[38;5;28misinstance\u001b[39m(func_err, catch)\n\u001b[1;32m    250\u001b[0m ):\n\u001b[0;32m--> 251\u001b[0m     \u001b[38;5;28;01mraise\u001b[39;00m func_err\n\u001b[1;32m    252\u001b[0m \u001b[38;5;28;01mreturn\u001b[39;00m frozen_trial\n",
      "File \u001b[0;32m~/.local/lib/python3.10/site-packages/optuna/study/_optimize.py:200\u001b[0m, in \u001b[0;36m_run_trial\u001b[0;34m(study, func, catch)\u001b[0m\n\u001b[1;32m    198\u001b[0m \u001b[38;5;28;01mwith\u001b[39;00m get_heartbeat_thread(trial\u001b[38;5;241m.\u001b[39m_trial_id, study\u001b[38;5;241m.\u001b[39m_storage):\n\u001b[1;32m    199\u001b[0m     \u001b[38;5;28;01mtry\u001b[39;00m:\n\u001b[0;32m--> 200\u001b[0m         value_or_values \u001b[38;5;241m=\u001b[39m \u001b[43mfunc\u001b[49m\u001b[43m(\u001b[49m\u001b[43mtrial\u001b[49m\u001b[43m)\u001b[49m\n\u001b[1;32m    201\u001b[0m     \u001b[38;5;28;01mexcept\u001b[39;00m exceptions\u001b[38;5;241m.\u001b[39mTrialPruned \u001b[38;5;28;01mas\u001b[39;00m e:\n\u001b[1;32m    202\u001b[0m         \u001b[38;5;66;03m# TODO(mamu): Handle multi-objective cases.\u001b[39;00m\n\u001b[1;32m    203\u001b[0m         state \u001b[38;5;241m=\u001b[39m TrialState\u001b[38;5;241m.\u001b[39mPRUNED\n",
      "Cell \u001b[0;32mIn[50], line 7\u001b[0m, in \u001b[0;36mobjective\u001b[0;34m(trial)\u001b[0m\n\u001b[1;32m      5\u001b[0m b \u001b[38;5;241m=\u001b[39m trial\u001b[38;5;241m.\u001b[39msuggest_float(\u001b[38;5;124m'\u001b[39m\u001b[38;5;124mb\u001b[39m\u001b[38;5;124m'\u001b[39m, \u001b[38;5;241m0\u001b[39m, \u001b[38;5;241m1\u001b[39m)\n\u001b[1;32m      6\u001b[0m model \u001b[38;5;241m=\u001b[39m RP3beta(train_seqs)\n\u001b[0;32m----> 7\u001b[0m \u001b[43mmodel\u001b[49m\u001b[38;5;241;43m.\u001b[39;49m\u001b[43mfit_bm25\u001b[49m\u001b[43m(\u001b[49m\u001b[43mk1\u001b[49m\u001b[43m,\u001b[49m\u001b[43m \u001b[49m\u001b[43mb\u001b[49m\u001b[43m)\u001b[49m\n\u001b[1;32m      8\u001b[0m \u001b[38;5;28;01mreturn\u001b[39;00m test(model, test_data)[\u001b[38;5;124m'\u001b[39m\u001b[38;5;124mhit\u001b[39m\u001b[38;5;124m'\u001b[39m]\n",
      "Cell \u001b[0;32mIn[46], line 108\u001b[0m, in \u001b[0;36mRP3beta.fit_bm25\u001b[0;34m(self, k1, b)\u001b[0m\n\u001b[1;32m    106\u001b[0m     \u001b[38;5;28;01mfor\u001b[39;00m i \u001b[38;5;129;01min\u001b[39;00m items:\n\u001b[1;32m    107\u001b[0m         Dsi[session_count, \u001b[38;5;28mself\u001b[39m\u001b[38;5;241m.\u001b[39mitem_mapping[i]] \u001b[38;5;241m+\u001b[39m\u001b[38;5;241m=\u001b[39m \u001b[38;5;241m1\u001b[39m\n\u001b[0;32m--> 108\u001b[0m         Dis[\u001b[38;5;28mself\u001b[39m\u001b[38;5;241m.\u001b[39mitem_mapping[i], session_count] \u001b[38;5;241m+\u001b[39m\u001b[38;5;241m=\u001b[39m \u001b[38;5;241m1\u001b[39m\n\u001b[1;32m    109\u001b[0m     session_count \u001b[38;5;241m+\u001b[39m\u001b[38;5;241m=\u001b[39m \u001b[38;5;241m1\u001b[39m\n\u001b[1;32m    111\u001b[0m rows \u001b[38;5;241m=\u001b[39m np\u001b[38;5;241m.\u001b[39marray(\u001b[38;5;28mlist\u001b[39m(Dsi\u001b[38;5;241m.\u001b[39mkeys()))[:, \u001b[38;5;241m0\u001b[39m]\n",
      "\u001b[0;31mKeyboardInterrupt\u001b[0m: "
     ]
    }
   ],
   "source": [
    "import optuna\n",
    "\n",
    "def objective(trial):\n",
    "    k1 = trial.suggest_float('k1', 0, 20)\n",
    "    b = trial.suggest_float('b', 0, 1)\n",
    "    model = RP3beta(train_seqs)\n",
    "    model.fit_bm25(k1, b)\n",
    "    return test(model, test_data)['hit']\n",
    "\n",
    "study = optuna.create_study(direction='maximize')\n",
    "study.optimize(objective, n_trials=100)"
   ]
  },
  {
   "cell_type": "code",
   "execution_count": 21,
   "id": "5274cc6c-79bb-445b-a587-3702cac0e94c",
   "metadata": {
    "tags": []
   },
   "outputs": [],
   "source": []
  },
  {
   "cell_type": "code",
   "execution_count": 10,
   "id": "7f23280a-ca90-4249-8dec-1ad8dc48e9cf",
   "metadata": {
    "tags": []
   },
   "outputs": [
    {
     "data": {
      "application/vnd.jupyter.widget-view+json": {
       "model_id": "0c49eb3fbda84ccda4f6c8cfe1e26791",
       "version_major": 2,
       "version_minor": 0
      },
      "text/plain": [
       "  0%|          | 0/1922630 [00:00<?, ?it/s]"
      ]
     },
     "metadata": {},
     "output_type": "display_data"
    }
   ],
   "source": [
    "model = RP3beta(train_seqs)\n",
    "piu, pui = model.fit(**{'alpha': 1, 'beta': 0.})"
   ]
  },
  {
   "cell_type": "code",
   "execution_count": 22,
   "id": "b66e14a0-da4e-48b1-868c-f269f6b0f651",
   "metadata": {
    "tags": []
   },
   "outputs": [],
   "source": []
  },
  {
   "cell_type": "code",
   "execution_count": 23,
   "id": "d78338c9-c6bc-4a60-8b62-0e760ed4e021",
   "metadata": {},
   "outputs": [
    {
     "data": {
      "text/html": [
       "<style>#sk-container-id-3 {color: black;background-color: white;}#sk-container-id-3 pre{padding: 0;}#sk-container-id-3 div.sk-toggleable {background-color: white;}#sk-container-id-3 label.sk-toggleable__label {cursor: pointer;display: block;width: 100%;margin-bottom: 0;padding: 0.3em;box-sizing: border-box;text-align: center;}#sk-container-id-3 label.sk-toggleable__label-arrow:before {content: \"▸\";float: left;margin-right: 0.25em;color: #696969;}#sk-container-id-3 label.sk-toggleable__label-arrow:hover:before {color: black;}#sk-container-id-3 div.sk-estimator:hover label.sk-toggleable__label-arrow:before {color: black;}#sk-container-id-3 div.sk-toggleable__content {max-height: 0;max-width: 0;overflow: hidden;text-align: left;background-color: #f0f8ff;}#sk-container-id-3 div.sk-toggleable__content pre {margin: 0.2em;color: black;border-radius: 0.25em;background-color: #f0f8ff;}#sk-container-id-3 input.sk-toggleable__control:checked~div.sk-toggleable__content {max-height: 200px;max-width: 100%;overflow: auto;}#sk-container-id-3 input.sk-toggleable__control:checked~label.sk-toggleable__label-arrow:before {content: \"▾\";}#sk-container-id-3 div.sk-estimator input.sk-toggleable__control:checked~label.sk-toggleable__label {background-color: #d4ebff;}#sk-container-id-3 div.sk-label input.sk-toggleable__control:checked~label.sk-toggleable__label {background-color: #d4ebff;}#sk-container-id-3 input.sk-hidden--visually {border: 0;clip: rect(1px 1px 1px 1px);clip: rect(1px, 1px, 1px, 1px);height: 1px;margin: -1px;overflow: hidden;padding: 0;position: absolute;width: 1px;}#sk-container-id-3 div.sk-estimator {font-family: monospace;background-color: #f0f8ff;border: 1px dotted black;border-radius: 0.25em;box-sizing: border-box;margin-bottom: 0.5em;}#sk-container-id-3 div.sk-estimator:hover {background-color: #d4ebff;}#sk-container-id-3 div.sk-parallel-item::after {content: \"\";width: 100%;border-bottom: 1px solid gray;flex-grow: 1;}#sk-container-id-3 div.sk-label:hover label.sk-toggleable__label {background-color: #d4ebff;}#sk-container-id-3 div.sk-serial::before {content: \"\";position: absolute;border-left: 1px solid gray;box-sizing: border-box;top: 0;bottom: 0;left: 50%;z-index: 0;}#sk-container-id-3 div.sk-serial {display: flex;flex-direction: column;align-items: center;background-color: white;padding-right: 0.2em;padding-left: 0.2em;position: relative;}#sk-container-id-3 div.sk-item {position: relative;z-index: 1;}#sk-container-id-3 div.sk-parallel {display: flex;align-items: stretch;justify-content: center;background-color: white;position: relative;}#sk-container-id-3 div.sk-item::before, #sk-container-id-3 div.sk-parallel-item::before {content: \"\";position: absolute;border-left: 1px solid gray;box-sizing: border-box;top: 0;bottom: 0;left: 50%;z-index: -1;}#sk-container-id-3 div.sk-parallel-item {display: flex;flex-direction: column;z-index: 1;position: relative;background-color: white;}#sk-container-id-3 div.sk-parallel-item:first-child::after {align-self: flex-end;width: 50%;}#sk-container-id-3 div.sk-parallel-item:last-child::after {align-self: flex-start;width: 50%;}#sk-container-id-3 div.sk-parallel-item:only-child::after {width: 0;}#sk-container-id-3 div.sk-dashed-wrapped {border: 1px dashed gray;margin: 0 0.4em 0.5em 0.4em;box-sizing: border-box;padding-bottom: 0.4em;background-color: white;}#sk-container-id-3 div.sk-label label {font-family: monospace;font-weight: bold;display: inline-block;line-height: 1.2em;}#sk-container-id-3 div.sk-label-container {text-align: center;}#sk-container-id-3 div.sk-container {/* jupyter's `normalize.less` sets `[hidden] { display: none; }` but bootstrap.min.css set `[hidden] { display: none !important; }` so we also need the `!important` here to be able to override the default hidden behavior on the sphinx rendered scikit-learn.org. See: https://github.com/scikit-learn/scikit-learn/issues/21755 */display: inline-block !important;position: relative;}#sk-container-id-3 div.sk-text-repr-fallback {display: none;}</style><div id=\"sk-container-id-3\" class=\"sk-top-container\"><div class=\"sk-text-repr-fallback\"><pre>BM25Transformer()</pre><b>In a Jupyter environment, please rerun this cell to show the HTML representation or trust the notebook. <br />On GitHub, the HTML representation is unable to render, please try loading this page with nbviewer.org.</b></div><div class=\"sk-container\" hidden><div class=\"sk-item\"><div class=\"sk-estimator sk-toggleable\"><input class=\"sk-toggleable__control sk-hidden--visually\" id=\"sk-estimator-id-3\" type=\"checkbox\" checked><label for=\"sk-estimator-id-3\" class=\"sk-toggleable__label sk-toggleable__label-arrow\">BM25Transformer</label><div class=\"sk-toggleable__content\"><pre>BM25Transformer()</pre></div></div></div></div></div>"
      ],
      "text/plain": [
       "BM25Transformer()"
      ]
     },
     "execution_count": 23,
     "metadata": {},
     "output_type": "execute_result"
    }
   ],
   "source": []
  },
  {
   "cell_type": "code",
   "execution_count": 32,
   "id": "1152fc9f-5580-4de6-929c-3c6bb81e91d4",
   "metadata": {
    "tags": []
   },
   "outputs": [
    {
     "data": {
      "text/plain": [
       "matrix([[0., 0., 0., ..., 0., 0., 0.],\n",
       "        [0., 0., 0., ..., 0., 0., 0.],\n",
       "        [0., 0., 0., ..., 0., 0., 0.],\n",
       "        ...,\n",
       "        [0., 0., 0., ..., 0., 0., 0.],\n",
       "        [0., 0., 0., ..., 0., 0., 0.],\n",
       "        [0., 0., 0., ..., 0., 0., 0.]])"
      ]
     },
     "execution_count": 32,
     "metadata": {},
     "output_type": "execute_result"
    }
   ],
   "source": [
    "bm25.transform(piu)[:100, :100].todense()"
   ]
  },
  {
   "cell_type": "code",
   "execution_count": 27,
   "id": "10b0a5f0-a70b-4167-bf93-c045cd13b492",
   "metadata": {},
   "outputs": [
    {
     "data": {
      "text/plain": [
       "<30444x1922630 sparse matrix of type '<class 'numpy.float64'>'\n",
       "\twith 6307201 stored elements in COOrdinate format>"
      ]
     },
     "execution_count": 27,
     "metadata": {},
     "output_type": "execute_result"
    }
   ],
   "source": [
    "piu."
   ]
  },
  {
   "cell_type": "code",
   "execution_count": null,
   "id": "714ac921-9b7f-4373-864a-bf35bffb5d06",
   "metadata": {},
   "outputs": [],
   "source": []
  }
 ],
 "metadata": {
  "kernelspec": {
   "display_name": "Python 3 (ipykernel)",
   "language": "python",
   "name": "python3"
  },
  "language_info": {
   "codemirror_mode": {
    "name": "ipython",
    "version": 3
   },
   "file_extension": ".py",
   "mimetype": "text/x-python",
   "name": "python",
   "nbconvert_exporter": "python",
   "pygments_lexer": "ipython3",
   "version": "3.10.6"
  }
 },
 "nbformat": 4,
 "nbformat_minor": 5
}
