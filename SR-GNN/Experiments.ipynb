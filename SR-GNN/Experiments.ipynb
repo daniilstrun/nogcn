{
 "cells": [
  {
   "cell_type": "code",
   "execution_count": 45,
   "id": "d664b5eb-b55b-481d-a5ed-d3dbd887a33e",
   "metadata": {
    "tags": []
   },
   "outputs": [],
   "source": [
    "import scipy as sp\n",
    "import numpy as np\n",
    "import pickle\n",
    "from collections import defaultdict\n",
    "from rank_bm25 import BM25Okapi\n",
    "from tqdm.notebook import tqdm"
   ]
  },
  {
   "cell_type": "code",
   "execution_count": 2,
   "id": "f396c6e7-2349-425b-b632-2756a6a9ebec",
   "metadata": {
    "tags": []
   },
   "outputs": [],
   "source": [
    "import sys\n",
    "sys.path.append('./SR-GNN-master/pytorch_code')"
   ]
  },
  {
   "cell_type": "code",
   "execution_count": 3,
   "id": "e2944844-5797-403f-857c-3f9f47a30d63",
   "metadata": {
    "tags": []
   },
   "outputs": [],
   "source": [
    "from model import *\n",
    "from utils import *"
   ]
  },
  {
   "cell_type": "code",
   "execution_count": 4,
   "id": "9130a638-1207-4706-915a-cfd2a67af51f",
   "metadata": {
    "tags": []
   },
   "outputs": [],
   "source": [
    "class Opt():\n",
    "    def __init__(self, ):\n",
    "        self.dataset = 'yoochoose1_4'\n",
    "        self.batchSize = 100\n",
    "        self.hiddenSize = 100\n",
    "        self.epoch = 30\n",
    "        self.lr = 0.001\n",
    "        self.lr_dc = 0.1\n",
    "        self.lr_dc_step = 3\n",
    "        self.l2 = 1e-5\n",
    "        self.step = 1\n",
    "        self.patience = 10\n",
    "        self.nonhybrid = False\n",
    "        self.validation = False\n",
    "        self.valid_portion = 0.01\n",
    "        \n",
    "opt = Opt()"
   ]
  },
  {
   "cell_type": "code",
   "execution_count": 5,
   "id": "3181f02c-3434-4cf0-a873-c17094b8ae89",
   "metadata": {
    "tags": []
   },
   "outputs": [],
   "source": [
    "train_data = pickle.load(open('./SR-GNN-master/datasets/' + opt.dataset + '/train.txt', 'rb'))\n",
    "if opt.validation:\n",
    "    train_data, valid_data = split_validation(train_data, opt.valid_portion)\n",
    "    test_data = valid_data\n",
    "else:\n",
    "    test_data = pickle.load(open('./SR-GNN-master/datasets/' + opt.dataset + '/test.txt', 'rb'))\n",
    "\n",
    "if opt.dataset == 'diginetica':\n",
    "    n_node = 43098\n",
    "elif opt.dataset == 'yoochoose1_64' or opt.dataset == 'yoochoose1_4':\n",
    "    n_node = 37484\n",
    "else:\n",
    "    n_node = 310\n",
    "train_seqs = pickle.load(open('./SR-GNN-master/datasets/' + opt.dataset + '/all_train_seq.txt', 'rb'))"
   ]
  },
  {
   "cell_type": "code",
   "execution_count": 6,
   "id": "e5907b78-9024-4521-ad8d-b846f2bd5975",
   "metadata": {
    "tags": []
   },
   "outputs": [],
   "source": [
    "class EASE():\n",
    "    def __init__(self, data):\n",
    "        self.data = data\n",
    "\n",
    "        set_ = set()\n",
    "        for i in data[0]:\n",
    "            for j in i:\n",
    "                set_.add(j)\n",
    "        for i in data[1]:\n",
    "            set_.add(i)\n",
    "        self.item_num = len(set_)\n",
    "\n",
    "        item_mapping = {}\n",
    "        for i, item in enumerate(set_):\n",
    "            item_mapping[item] = i\n",
    " \n",
    "        self.item_mapping = item_mapping\n",
    "\n",
    "    def fit(self, alpha=1, beta=0, reg=1):\n",
    "        Dsi = defaultdict(int)\n",
    "        Dis = defaultdict(int)\n",
    "        items_count = defaultdict(int)\n",
    "        for session, (items, last_item) in enumerate(tqdm(zip(self.data[0],\n",
    "                                                              self.data[1]),\n",
    "                                                          total=len(self.data[0]))):\n",
    "            items = items + [last_item]\n",
    "            session_len = len(items)\n",
    "            for i in items:\n",
    "                items_count[self.item_mapping[i]] += 1\n",
    "                Dsi[session, self.item_mapping[i]] += 1 / session_len\n",
    "                Dis[self.item_mapping[i], session] += 1\n",
    "\n",
    "        for row, col in Dis.keys():\n",
    "            Dis[row, col] /= items_count[row]**(1+beta)\n",
    " \n",
    "        rows = np.array(list(Dsi.keys()))[:, 0]\n",
    "        cols = np.array(list(Dsi.keys()))[:, 1]\n",
    "        vals = np.array(list(Dsi.values()))**alpha\n",
    "        Dsi_sparse = sp.sparse.coo_matrix((vals, (rows, cols)))\n",
    "\n",
    "        rows = np.array(list(Dis.keys()))[:, 0]\n",
    "        cols = np.array(list(Dis.keys()))[:, 1]\n",
    "        vals = np.array(list(Dis.values()))**alpha\n",
    "        Dis_sparse = sp.sparse.coo_matrix((vals, (rows, cols)))\n",
    "        D = (Dis_sparse @ Dsi_sparse).todense()\n",
    "        \n",
    "        diag = ([i for i in range(self.item_num)],\n",
    "                [i for i in range(self.item_num)])\n",
    "        D[diag] += reg\n",
    "        \n",
    "        P = np.linalg.inv(D)\n",
    "        \n",
    "        B = -P/P[diag]\n",
    "        \n",
    "        B[diag] = 0\n",
    "\n",
    "        self.W = B\n",
    "\n",
    "    def predict(self, sessions):\n",
    "        scores = []\n",
    "        for session in sessions:\n",
    "            session_ = list(map(self.item_mapping.get, session))\n",
    "            session_ = [item for item in session_ if item is not None]\n",
    "            score = np.array(self.W[session_].sum(0))\n",
    "            score[0][session_] += 1\n",
    "            scores.append(score)\n",
    "        return np.concatenate(scores)"
   ]
  },
  {
   "cell_type": "code",
   "execution_count": 67,
   "id": "38c8870a-82fb-4d94-aa9d-05965c363714",
   "metadata": {},
   "outputs": [],
   "source": [
    "class RP3beta():\n",
    "    def __init__(self, data):\n",
    "        self.data = data\n",
    "\n",
    "        set_ = set()\n",
    "        for i in data:\n",
    "            for j in i:\n",
    "                set_.add(j)\n",
    "        item_num = len(set_)\n",
    "\n",
    "        item_mapping = {}\n",
    "        for i, item in enumerate(set_):\n",
    "            item_mapping[item] = i\n",
    " \n",
    "        self.item_mapping = item_mapping\n",
    "\n",
    "    def fit_BM25(self, ):\n",
    "        Dsi = defaultdict(int)\n",
    "        Dis = defaultdict(int)\n",
    "        bm25 = BM25Okapi(self.data)\n",
    "        for sessid, items in enumerate(self.data):\n",
    "            item_scores = bm25.get_scores(items)\n",
    "            for i in range(len(items)):\n",
    "                Dsi[sessid, items[i]] = item_scores[i]\n",
    "    \n",
    "    def fit(self, alpha=1, beta=0.5):\n",
    "        Dsi = defaultdict(int)\n",
    "        Dis = defaultdict(int)\n",
    "        items_count = defaultdict(int)\n",
    "        session_count = 0\n",
    "        for items in tqdm(train_seqs, total=len(train_seqs)):\n",
    "            # for iseq in range(1, len(items)):\n",
    "            session_len = len(items)\n",
    "            for i in items:\n",
    "                items_count[self.item_mapping[i]] += 1\n",
    "                Dsi[session_count, self.item_mapping[i]] += 1 / session_len\n",
    "                Dis[self.item_mapping[i], session_count] += 1\n",
    "            session_count += 1\n",
    "\n",
    "        session_num = session_count + 1\n",
    "        item_num = len(items_count)\n",
    "\n",
    "        for row, col in Dis.keys():\n",
    "            Dis[row, col] /= items_count[row]**(1+beta)\n",
    "        \n",
    "        for row, col in Dis.keys():\n",
    "            Dis[row, col] *= np.log(session_num/len(train_seqs[col]))\n",
    "            Dsi[col, row] *= np.log(item_num/items_count[row])\n",
    " \n",
    "        rows = np.array(list(Dsi.keys()))[:, 0]\n",
    "        cols = np.array(list(Dsi.keys()))[:, 1]\n",
    "        vals = np.array(list(Dsi.values()))**alpha\n",
    "        Dsi_sparse = sp.sparse.coo_matrix((vals, (rows, cols)))\n",
    "\n",
    "        rows = np.array(list(Dis.keys()))[:, 0]\n",
    "        cols = np.array(list(Dis.keys()))[:, 1]\n",
    "        vals = np.array(list(Dis.values()))**alpha\n",
    "        Dis_sparse = sp.sparse.coo_matrix((vals, (rows, cols)))\n",
    "\n",
    "        W = Dis_sparse @ Dsi_sparse\n",
    "        self.W = W\n",
    "\n",
    "    def predict(self, sessions):\n",
    "        scores = []\n",
    "        for session in sessions:\n",
    "            session_ = list(map(self.item_mapping.get, session))\n",
    "            session_ = [item for item in session_ if item is not None]\n",
    "            score = np.array(self.W[session_].sum(0))\n",
    "            # score[0][session_] += 100\n",
    "            scores.append(score)\n",
    "        return np.concatenate(scores)"
   ]
  },
  {
   "cell_type": "code",
   "execution_count": 68,
   "id": "e31a0ce4-a1aa-46a1-8250-31c75f12cc15",
   "metadata": {
    "tags": []
   },
   "outputs": [],
   "source": [
    "def test(model, test_data):\n",
    "    hit, mrr = [], []\n",
    "    batch_size = min(opt.batchSize, len(test_data[0]))\n",
    "    for i in tqdm(range(0, len(test_data[0]), batch_size)):\n",
    "        scores = model.predict(test_data[0][i:i+batch_size])\n",
    "        sub_scores = (-scores).argsort(1)[:, :20]\n",
    "        targets = test_data[1][i:i+batch_size]\n",
    "        for score, target in zip(sub_scores, targets):\n",
    "            target = model.item_mapping.get(target)\n",
    "            hit.append(np.isin(target, score))\n",
    "            if len(np.where(score == target)[0]) == 0:\n",
    "                mrr.append(0)\n",
    "            else:\n",
    "                mrr.append(1 / (np.where(score == target)[0][0] + 1))\n",
    "    hit = np.mean(hit) * 100\n",
    "    mrr = np.mean(mrr) * 100\n",
    "    print({'hit': hit, 'mrr': mrr})\n",
    "    return {'hit': hit, 'mrr': mrr}"
   ]
  },
  {
   "cell_type": "code",
   "execution_count": 65,
   "id": "d614ee07-ff29-44b1-8258-47a18d534334",
   "metadata": {
    "collapsed": true,
    "jupyter": {
     "outputs_hidden": true
    },
    "tags": []
   },
   "outputs": [
    {
     "data": {
      "application/vnd.jupyter.widget-view+json": {
       "model_id": "783081127da6460183b2c4412fa2d8ba",
       "version_major": 2,
       "version_minor": 0
      },
      "text/plain": [
       "  0%|          | 0/1922630 [00:00<?, ?it/s]"
      ]
     },
     "metadata": {},
     "output_type": "display_data"
    },
    {
     "ename": "KeyboardInterrupt",
     "evalue": "",
     "output_type": "error",
     "traceback": [
      "\u001b[0;31m---------------------------------------------------------------------------\u001b[0m",
      "\u001b[0;31mKeyboardInterrupt\u001b[0m                         Traceback (most recent call last)",
      "Cell \u001b[0;32mIn[65], line 2\u001b[0m\n\u001b[1;32m      1\u001b[0m model \u001b[38;5;241m=\u001b[39m RP3beta(train_seqs)\n\u001b[0;32m----> 2\u001b[0m \u001b[43mmodel\u001b[49m\u001b[38;5;241;43m.\u001b[39;49m\u001b[43mfit\u001b[49m\u001b[43m(\u001b[49m\u001b[38;5;241;43m*\u001b[39;49m\u001b[38;5;241;43m*\u001b[39;49m\u001b[43m{\u001b[49m\u001b[38;5;124;43m'\u001b[39;49m\u001b[38;5;124;43malpha\u001b[39;49m\u001b[38;5;124;43m'\u001b[39;49m\u001b[43m:\u001b[49m\u001b[43m \u001b[49m\u001b[38;5;241;43m1\u001b[39;49m\u001b[43m,\u001b[49m\u001b[43m \u001b[49m\u001b[38;5;124;43m'\u001b[39;49m\u001b[38;5;124;43mbeta\u001b[39;49m\u001b[38;5;124;43m'\u001b[39;49m\u001b[43m:\u001b[49m\u001b[43m \u001b[49m\u001b[38;5;241;43m0.\u001b[39;49m\u001b[43m}\u001b[49m\u001b[43m)\u001b[49m\n\u001b[1;32m      3\u001b[0m _ \u001b[38;5;241m=\u001b[39m test(model, test_data)\n",
      "Cell \u001b[0;32mIn[63], line 37\u001b[0m, in \u001b[0;36mRP3beta.fit\u001b[0;34m(self, alpha, beta)\u001b[0m\n\u001b[1;32m     35\u001b[0m         items_count[\u001b[38;5;28mself\u001b[39m\u001b[38;5;241m.\u001b[39mitem_mapping[i]] \u001b[38;5;241m+\u001b[39m\u001b[38;5;241m=\u001b[39m \u001b[38;5;241m1\u001b[39m\n\u001b[1;32m     36\u001b[0m         Dsi[session_count, \u001b[38;5;28mself\u001b[39m\u001b[38;5;241m.\u001b[39mitem_mapping[i]] \u001b[38;5;241m+\u001b[39m\u001b[38;5;241m=\u001b[39m \u001b[38;5;241m1\u001b[39m \u001b[38;5;241m/\u001b[39m session_len\n\u001b[0;32m---> 37\u001b[0m         Dis[\u001b[38;5;28mself\u001b[39m\u001b[38;5;241m.\u001b[39mitem_mapping[i], session_count] \u001b[38;5;241m+\u001b[39m\u001b[38;5;241m=\u001b[39m \u001b[38;5;241m1\u001b[39m\n\u001b[1;32m     38\u001b[0m     session_count \u001b[38;5;241m+\u001b[39m\u001b[38;5;241m=\u001b[39m \u001b[38;5;241m1\u001b[39m\n\u001b[1;32m     40\u001b[0m session_num \u001b[38;5;241m=\u001b[39m session_count \u001b[38;5;241m+\u001b[39m \u001b[38;5;241m1\u001b[39m\n",
      "\u001b[0;31mKeyboardInterrupt\u001b[0m: "
     ]
    }
   ],
   "source": [
    "model = RP3beta(train_seqs)\n",
    "model.fit(**{'alpha': 1, 'beta': 0.})\n",
    "_ = test(model, test_data)"
   ]
  },
  {
   "cell_type": "code",
   "execution_count": null,
   "id": "4cdcb6a0-044f-4c7d-95d9-54639af52e61",
   "metadata": {
    "tags": []
   },
   "outputs": [
    {
     "name": "stderr",
     "output_type": "stream",
     "text": [
      "\u001b[32m[I 2023-03-07 15:22:19,442]\u001b[0m A new study created in memory with name: no-name-116177e7-7aeb-4374-8099-f899f9adc1ef\u001b[0m\n"
     ]
    },
    {
     "data": {
      "application/vnd.jupyter.widget-view+json": {
       "model_id": "d25b7526627340839d0b7ba16d7cb3cf",
       "version_major": 2,
       "version_minor": 0
      },
      "text/plain": [
       "  0%|          | 0/1922630 [00:00<?, ?it/s]"
      ]
     },
     "metadata": {},
     "output_type": "display_data"
    },
    {
     "name": "stderr",
     "output_type": "stream",
     "text": [
      "/tmp/ipykernel_1559/2814227636.py:52: RuntimeWarning: invalid value encountered in power\n",
      "  vals = np.array(list(Dsi.values()))**alpha\n"
     ]
    },
    {
     "data": {
      "application/vnd.jupyter.widget-view+json": {
       "model_id": "0ead4b2910b84cd2a5e36798dcc41fcf",
       "version_major": 2,
       "version_minor": 0
      },
      "text/plain": [
       "  0%|          | 0/559 [00:00<?, ?it/s]"
      ]
     },
     "metadata": {},
     "output_type": "display_data"
    },
    {
     "name": "stderr",
     "output_type": "stream",
     "text": [
      "\u001b[32m[I 2023-03-07 15:23:56,489]\u001b[0m Trial 0 finished with value: 66.04529679058285 and parameters: {'alpha': 0.644801813476394, 'beta': 0.4325914507663402}. Best is trial 0 with value: 66.04529679058285.\u001b[0m\n"
     ]
    },
    {
     "name": "stdout",
     "output_type": "stream",
     "text": [
      "{'hit': 66.04529679058285, 'mrr': 25.365989669304206}\n"
     ]
    },
    {
     "data": {
      "application/vnd.jupyter.widget-view+json": {
       "model_id": "486a6bfdadcf4b23a09a29d640560ded",
       "version_major": 2,
       "version_minor": 0
      },
      "text/plain": [
       "  0%|          | 0/1922630 [00:00<?, ?it/s]"
      ]
     },
     "metadata": {},
     "output_type": "display_data"
    },
    {
     "data": {
      "application/vnd.jupyter.widget-view+json": {
       "model_id": "6b144b4e14b3462995e82c24f7d3baaf",
       "version_major": 2,
       "version_minor": 0
      },
      "text/plain": [
       "  0%|          | 0/559 [00:00<?, ?it/s]"
      ]
     },
     "metadata": {},
     "output_type": "display_data"
    },
    {
     "name": "stderr",
     "output_type": "stream",
     "text": [
      "\u001b[32m[I 2023-03-07 15:25:33,723]\u001b[0m Trial 1 finished with value: 65.58374181544957 and parameters: {'alpha': 0.5242765184665212, 'beta': 1.6662690788679464}. Best is trial 0 with value: 66.04529679058285.\u001b[0m\n"
     ]
    },
    {
     "name": "stdout",
     "output_type": "stream",
     "text": [
      "{'hit': 65.58374181544957, 'mrr': 24.925244021972283}\n"
     ]
    },
    {
     "data": {
      "application/vnd.jupyter.widget-view+json": {
       "model_id": "c9c4896d8f7348de855461ebd166ca67",
       "version_major": 2,
       "version_minor": 0
      },
      "text/plain": [
       "  0%|          | 0/1922630 [00:00<?, ?it/s]"
      ]
     },
     "metadata": {},
     "output_type": "display_data"
    },
    {
     "data": {
      "application/vnd.jupyter.widget-view+json": {
       "model_id": "9d2d5d8f825e4684b746cdf37e248e03",
       "version_major": 2,
       "version_minor": 0
      },
      "text/plain": [
       "  0%|          | 0/559 [00:00<?, ?it/s]"
      ]
     },
     "metadata": {},
     "output_type": "display_data"
    },
    {
     "name": "stderr",
     "output_type": "stream",
     "text": [
      "\u001b[32m[I 2023-03-07 15:27:11,439]\u001b[0m Trial 2 finished with value: 64.67136570181403 and parameters: {'alpha': 0.7320948256837425, 'beta': 1.5404178966698165}. Best is trial 0 with value: 66.04529679058285.\u001b[0m\n"
     ]
    },
    {
     "name": "stdout",
     "output_type": "stream",
     "text": [
      "{'hit': 64.67136570181403, 'mrr': 24.426635841787594}\n"
     ]
    },
    {
     "data": {
      "application/vnd.jupyter.widget-view+json": {
       "model_id": "7b3d7958a045492bb135861979b74250",
       "version_major": 2,
       "version_minor": 0
      },
      "text/plain": [
       "  0%|          | 0/1922630 [00:00<?, ?it/s]"
      ]
     },
     "metadata": {},
     "output_type": "display_data"
    },
    {
     "data": {
      "application/vnd.jupyter.widget-view+json": {
       "model_id": "b2cd68081cd946059b0d296569eebf2c",
       "version_major": 2,
       "version_minor": 0
      },
      "text/plain": [
       "  0%|          | 0/559 [00:00<?, ?it/s]"
      ]
     },
     "metadata": {},
     "output_type": "display_data"
    },
    {
     "name": "stderr",
     "output_type": "stream",
     "text": [
      "\u001b[32m[I 2023-03-07 15:28:48,625]\u001b[0m Trial 3 finished with value: 59.87155175498229 and parameters: {'alpha': 1.550220991545721, 'beta': 1.7405519321848368}. Best is trial 0 with value: 66.04529679058285.\u001b[0m\n"
     ]
    },
    {
     "name": "stdout",
     "output_type": "stream",
     "text": [
      "{'hit': 59.87155175498229, 'mrr': 23.086496415214096}\n"
     ]
    },
    {
     "data": {
      "application/vnd.jupyter.widget-view+json": {
       "model_id": "d2bfdf999d6940a2ad498af328c17ade",
       "version_major": 2,
       "version_minor": 0
      },
      "text/plain": [
       "  0%|          | 0/1922630 [00:00<?, ?it/s]"
      ]
     },
     "metadata": {},
     "output_type": "display_data"
    },
    {
     "data": {
      "application/vnd.jupyter.widget-view+json": {
       "model_id": "afa1c96d6a774420b939e40ec8eb763d",
       "version_major": 2,
       "version_minor": 0
      },
      "text/plain": [
       "  0%|          | 0/559 [00:00<?, ?it/s]"
      ]
     },
     "metadata": {},
     "output_type": "display_data"
    },
    {
     "name": "stderr",
     "output_type": "stream",
     "text": [
      "\u001b[32m[I 2023-03-07 15:30:27,822]\u001b[0m Trial 4 finished with value: 64.44416615979105 and parameters: {'alpha': 0.32845384566442815, 'beta': 0.25790197341712906}. Best is trial 0 with value: 66.04529679058285.\u001b[0m\n"
     ]
    },
    {
     "name": "stdout",
     "output_type": "stream",
     "text": [
      "{'hit': 64.44416615979105, 'mrr': 24.952042415041763}\n"
     ]
    },
    {
     "data": {
      "application/vnd.jupyter.widget-view+json": {
       "model_id": "fffc12381a5043a5b3544fc3a34692e6",
       "version_major": 2,
       "version_minor": 0
      },
      "text/plain": [
       "  0%|          | 0/1922630 [00:00<?, ?it/s]"
      ]
     },
     "metadata": {},
     "output_type": "display_data"
    },
    {
     "data": {
      "application/vnd.jupyter.widget-view+json": {
       "model_id": "8a6b58c797a1427d9e707b53c0ffb57c",
       "version_major": 2,
       "version_minor": 0
      },
      "text/plain": [
       "  0%|          | 0/559 [00:00<?, ?it/s]"
      ]
     },
     "metadata": {},
     "output_type": "display_data"
    }
   ],
   "source": [
    "import optuna\n",
    "\n",
    "def objective(trial):\n",
    "    alpha = trial.suggest_float('alpha', 0, 2)\n",
    "    beta = trial.suggest_float('beta', 0, 2)\n",
    "    model = RP3beta(train_seqs)\n",
    "    model.fit(alpha=alpha, beta=beta)\n",
    "    return test(model, test_data)['hit']\n",
    "\n",
    "study = optuna.create_study(direction='maximize')\n",
    "study.optimize(objective, n_trials=100)"
   ]
  },
  {
   "cell_type": "code",
   "execution_count": 52,
   "id": "5274cc6c-79bb-445b-a587-3702cac0e94c",
   "metadata": {
    "tags": []
   },
   "outputs": [],
   "source": [
    "from rank_bm25 import BM25Okapi\n",
    "\n",
    "corpus = [\n",
    "    \"Hello there good man!\",\n",
    "    \"It is quite windy in London\",\n",
    "    \"How is the weather today?\"\n",
    "]\n",
    "\n",
    "tokenized_corpus = [doc.split(\" \") for doc in corpus]\n",
    "bm25 = BM25Okapi(tokenized_corpus)"
   ]
  },
  {
   "cell_type": "code",
   "execution_count": 58,
   "id": "8a3c4790-a08b-49db-8509-8b30fb7d7b50",
   "metadata": {
    "tags": []
   },
   "outputs": [
    {
     "data": {
      "text/plain": [
       "array([0.56134684, 0.93729472, 0.        ])"
      ]
     },
     "execution_count": 58,
     "metadata": {},
     "output_type": "execute_result"
    }
   ],
   "source": [
    "query = \"Hello windy London\"\n",
    "tokenized_query = query.split(\" \")\n",
    "\n",
    "doc_scores = bm25.get_scores(tokenized_query)\n",
    "doc_scores"
   ]
  },
  {
   "cell_type": "code",
   "execution_count": 49,
   "id": "b66e14a0-da4e-48b1-868c-f269f6b0f651",
   "metadata": {
    "tags": []
   },
   "outputs": [
    {
     "data": {
      "text/plain": [
       "['windy', 'London']"
      ]
     },
     "execution_count": 49,
     "metadata": {},
     "output_type": "execute_result"
    }
   ],
   "source": [
    "tokenized_query"
   ]
  },
  {
   "cell_type": "code",
   "execution_count": null,
   "id": "d78338c9-c6bc-4a60-8b62-0e760ed4e021",
   "metadata": {},
   "outputs": [],
   "source": []
  }
 ],
 "metadata": {
  "kernelspec": {
   "display_name": "Python 3 (ipykernel)",
   "language": "python",
   "name": "python3"
  },
  "language_info": {
   "codemirror_mode": {
    "name": "ipython",
    "version": 3
   },
   "file_extension": ".py",
   "mimetype": "text/x-python",
   "name": "python",
   "nbconvert_exporter": "python",
   "pygments_lexer": "ipython3",
   "version": "3.10.6"
  }
 },
 "nbformat": 4,
 "nbformat_minor": 5
}
