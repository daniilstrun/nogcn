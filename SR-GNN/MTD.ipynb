{
 "cells": [
  {
   "cell_type": "code",
   "execution_count": 1,
   "id": "98ae3f2b-053f-4bd8-bea9-a8acd9e7f1f1",
   "metadata": {
    "tags": []
   },
   "outputs": [],
   "source": [
    "import torch\n",
    "import torch.nn as nn\n",
    "import numpy as np\n",
    "import copy\n",
    "import torch.nn.functional as F\n",
    "import torch.optim as optim\n",
    "import pickle\n",
    "\n",
    "import torch\n",
    "import torch.nn as nn\n",
    "import numpy as np\n",
    "import copy\n",
    "import time\n",
    "import torch.nn.functional as F\n",
    "import torch.optim as optim\n",
    "from itertools import repeat\n",
    "from tqdm.notebook import tqdm\n",
    "from collections import defaultdict"
   ]
  },
  {
   "cell_type": "code",
   "execution_count": 2,
   "id": "86c8b113-6c51-44af-bc63-f5cb7f11371c",
   "metadata": {
    "tags": []
   },
   "outputs": [],
   "source": [
    "import sys\n",
    "sys.path.append('./SR-GNN-master/pytorch_code')"
   ]
  },
  {
   "cell_type": "code",
   "execution_count": 3,
   "id": "6304b30a-3e9b-4df7-a0d6-2ac7b5547b49",
   "metadata": {
    "tags": []
   },
   "outputs": [],
   "source": [
    "from model import *\n",
    "from utils import *"
   ]
  },
  {
   "cell_type": "code",
   "execution_count": 60,
   "id": "989606b9-6940-4e0f-b4c1-5b706e19ff58",
   "metadata": {
    "tags": []
   },
   "outputs": [],
   "source": [
    "class Opt():\n",
    "    def __init__(self, ):\n",
    "        self.dataset = 'yoochoose1_4'\n",
    "        self.batchSize = 100\n",
    "        self.hiddenSize = 100\n",
    "        self.epoch = 30\n",
    "        self.lr = 0.001\n",
    "        self.lr_dc = 0.1\n",
    "        self.lr_dc_step = 3\n",
    "        self.l2 = 1e-5\n",
    "        self.step = 1\n",
    "        self.patience = 10\n",
    "        self.nonhybrid = False\n",
    "        self.validation = False\n",
    "        self.valid_portion = 0.1\n",
    "        \n",
    "opt = Opt()"
   ]
  },
  {
   "cell_type": "code",
   "execution_count": 61,
   "id": "a11b20e6-416c-4b18-bbd8-04d695d2d05d",
   "metadata": {
    "tags": []
   },
   "outputs": [],
   "source": [
    "train_data = pickle.load(open('./SR-GNN-master/datasets/' + opt.dataset + '/train.txt', 'rb'))\n",
    "if opt.validation:\n",
    "    train_data, valid_data = split_validation(train_data, opt.valid_portion)\n",
    "    test_data = valid_data\n",
    "else:\n",
    "    test_data = pickle.load(open('./SR-GNN-master/datasets/' + opt.dataset + '/test.txt', 'rb'))\n",
    "\n",
    "if opt.dataset == 'diginetica':\n",
    "    n_node = 43098\n",
    "elif opt.dataset == 'yoochoose1_64' or opt.dataset == 'yoochoose1_4':\n",
    "    n_node = 37484\n",
    "else:\n",
    "    n_node = 310"
   ]
  },
  {
   "cell_type": "code",
   "execution_count": 62,
   "id": "29a04f6c-f8eb-4478-8dc6-335cc8b22314",
   "metadata": {
    "tags": []
   },
   "outputs": [],
   "source": [
    "train_seqs = pickle.load(open('./SR-GNN-master/datasets/' + opt.dataset + '/all_train_seq.txt', 'rb'))"
   ]
  },
  {
   "cell_type": "code",
   "execution_count": 63,
   "id": "72830e85-d871-4d38-927d-c8492a9c12e0",
   "metadata": {
    "tags": []
   },
   "outputs": [],
   "source": [
    "set_ = set()\n",
    "for i in train_data[0]:\n",
    "    for j in i:\n",
    "        set_.add(j)\n",
    "for i in train_data[1]:\n",
    "    set_.add(i)\n",
    "item_num = len(set_)\n",
    "\n",
    "item_mapping = {}\n",
    "for i, item in enumerate(set_):\n",
    "    item_mapping[item] = i\n",
    "\n",
    "n = int((1-opt.valid_portion) * len(train_seqs))\n",
    "d_basket_train = {k: [item_mapping[item] for item in items] for k, items in enumerate(train_seqs[:-1])}\n",
    "d_basket_val = {k: [item_mapping[item] for item in items] for k, items in enumerate(train_seqs[1:])}"
   ]
  },
  {
   "cell_type": "code",
   "execution_count": 80,
   "id": "07a3e012-176c-4ea7-8fcb-47ac4e2a2930",
   "metadata": {
    "tags": []
   },
   "outputs": [],
   "source": [
    "global_p = 10"
   ]
  },
  {
   "cell_type": "code",
   "execution_count": 81,
   "id": "ad8dd029-b32c-4563-89ea-59819ec039be",
   "metadata": {
    "tags": []
   },
   "outputs": [],
   "source": [
    "#функция тестирования\n",
    "def test(model, test_data):\n",
    "    model.eval()\n",
    "    hit, mrr = [], []\n",
    "    batch_size = min(opt.batchSize, len(test_data[0]))\n",
    "    for i in tqdm(range(0, len(test_data[0]), batch_size)):\n",
    "        scores = model.predict(test_data[0][i:i+batch_size])\n",
    "        sub_scores = np.array(scores.topk(20)[1])\n",
    "        targets = test_data[1][i:i+batch_size]\n",
    "        for score, target in zip(sub_scores, targets):\n",
    "            target = model.item_mapping.get(target)\n",
    "            hit.append(np.isin(target, score))\n",
    "            if len(np.where(score == target)[0]) == 0:\n",
    "                mrr.append(0)\n",
    "            else:\n",
    "                mrr.append(1 / (np.where(score == target)[0][0] + 1))\n",
    "    hit = np.mean(hit) * 100\n",
    "    mrr = np.mean(mrr) * 100\n",
    "    return hit, mrr"
   ]
  },
  {
   "cell_type": "code",
   "execution_count": 82,
   "id": "3243b9c5-7c86-4af7-a643-b8ccd998ae96",
   "metadata": {
    "tags": []
   },
   "outputs": [],
   "source": [
    "import torch\n",
    "import torch.nn as nn\n",
    "import numpy as np\n",
    "import copy\n",
    "import torch.nn.functional as F\n",
    "import torch.optim as optim\n",
    "from sklearn.utils.extmath import randomized_svd\n",
    "\n",
    "\n",
    "class Embedding_prod(nn.Module):\n",
    "    '''\n",
    "    Нейросеть для эмбеддинга товара.\n",
    "    '''\n",
    "    def __init__(self, data, item_num, item_mapping):\n",
    "        super(Embedding_prod, self).__init__()\n",
    "        self.item_mapping = item_mapping\n",
    "        Dii = defaultdict(int)\n",
    "        for items in tqdm(train_seqs, total=len(train_seqs)):\n",
    "            session_len = len(items)\n",
    "            for i in range(session_len-1):\n",
    "                Dii[self.item_mapping[items[i]], self.item_mapping[items[i+1]]] += 1\n",
    "        \n",
    "        i = torch.LongTensor(list(Dii.keys())).T\n",
    "        v = torch.LongTensor(list(Dii.values()))\n",
    "        Q = torch.sparse_coo_tensor(i, v, (item_num+1, item_num+1)).to_dense()\n",
    "        \n",
    "        prod_embedd = nn.Embedding(item_num+1, item_num+1).requires_grad_(False)\n",
    "        prod_embedd.weight = nn.Parameter(Q/(Q.sum(1)[:, None] + 1e-6))\n",
    "        #prod_embedd.requires_grad = False\n",
    "        self.prod_embedd = prod_embedd.requires_grad_(False)\n",
    "        \n",
    "    def forward(self, prods):\n",
    "        prod_embedd = self.prod_embedd(prods)\n",
    "        return prod_embedd\n",
    "\n",
    "\n",
    "class Embedding_transformer(nn.Module):\n",
    "    '''\n",
    "    Нейросеть для эмбеддинга товара.\n",
    "    '''\n",
    "    def __init__(self, p=3):\n",
    "        '''\n",
    "        На вход:\n",
    "        X - матрица (товары, эмбеддинг)\n",
    "        use_cuda - использовать ли cuda\n",
    "        \n",
    "        Forward принимает на вход или\n",
    "        список, содержащий номера товаров,\n",
    "        или просто номер товара.\n",
    "        '''\n",
    "        super(Embedding_transformer, self).__init__()\n",
    "        self.p = p\n",
    "        self.sigm = nn.Sigmoid()\n",
    "        self.base = nn.Parameter(torch.tensor(2.))\n",
    "        self.params = torch.Tensor(list(range(p))[::-1])\n",
    "        \n",
    "\n",
    "    def forward(self, batch):\n",
    "        t = batch[:, -self.p:, :] / (self.base**self.params[None, :, None])\n",
    "        return t.sum(1)\n",
    "\n",
    "\n",
    "class Net(nn.Module):\n",
    "    def __init__(self, products_embedd, transformer, max_basket_size, item_mapping=item_mapping):\n",
    "        '''\n",
    "        На вход:\n",
    "        products_embedd - объект класса Embedding_prod\n",
    "        '''\n",
    "        super(Net, self).__init__()\n",
    "        self.embedding = products_embedd\n",
    "        self.transformer = transformer\n",
    "        self.max_basket_size = max_basket_size\n",
    "        self.item_mapping = item_mapping\n",
    "        self.prod_num = len(item_mapping)\n",
    "    \n",
    "    def predict(self, baskets):\n",
    "        rows = []\n",
    "        range_batch = range(len(baskets))\n",
    "        for basket in baskets:\n",
    "            basket_ = [self.item_mapping[item] for item in basket if item in item_mapping]\n",
    "            padding = [self.prod_num]*(self.max_basket_size - len(basket_) + global_p - 1)\n",
    "            rows.append(padding+basket_)\n",
    "        return self.forward(torch.LongTensor(np.array(rows)))\n",
    "    \n",
    "    def forward(self, prods):\n",
    "        embedd = self.embedding(prods)\n",
    "        return self.transformer(embedd)"
   ]
  },
  {
   "cell_type": "code",
   "execution_count": 83,
   "id": "3f553bfd-3538-4c0d-9fca-d90d84976fd5",
   "metadata": {
    "tags": []
   },
   "outputs": [
    {
     "data": {
      "text/plain": [
       "200"
      ]
     },
     "execution_count": 83,
     "metadata": {},
     "output_type": "execute_result"
    }
   ],
   "source": [
    "max_basket_size = max(map(len, train_seqs))\n",
    "max_basket_size"
   ]
  },
  {
   "cell_type": "code",
   "execution_count": 84,
   "id": "542c0f7f-27c1-4dda-ae77-84a6f1c1781c",
   "metadata": {
    "tags": []
   },
   "outputs": [],
   "source": [
    "device = 'cpu'"
   ]
  },
  {
   "cell_type": "code",
   "execution_count": 85,
   "id": "f0916050-fa07-4e8e-811c-e83e073ace3e",
   "metadata": {
    "tags": []
   },
   "outputs": [
    {
     "data": {
      "application/vnd.jupyter.widget-view+json": {
       "model_id": "d61f7348696944109f1071fad395f773",
       "version_major": 2,
       "version_minor": 0
      },
      "text/plain": [
       "  0%|          | 0/1922630 [00:00<?, ?it/s]"
      ]
     },
     "metadata": {},
     "output_type": "display_data"
    },
    {
     "data": {
      "text/plain": [
       "Net(\n",
       "  (embedding): Embedding_prod(\n",
       "    (prod_embedd): Embedding(30445, 30445)\n",
       "  )\n",
       "  (transformer): Embedding_transformer(\n",
       "    (sigm): Sigmoid()\n",
       "  )\n",
       ")"
      ]
     },
     "execution_count": 85,
     "metadata": {},
     "output_type": "execute_result"
    }
   ],
   "source": [
    "# создаем сеть\n",
    "embedd_dim = 1024 # 512\n",
    "prod_embedd = Embedding_prod(train_seqs, item_num, item_mapping)\n",
    "transformer = Embedding_transformer(p=global_p)\n",
    "net_model = Net(prod_embedd, transformer, max_basket_size, item_mapping)\n",
    "net_model.to(device)"
   ]
  },
  {
   "cell_type": "code",
   "execution_count": 86,
   "id": "967c97f2-0b95-407e-8ec1-fd385a0b7b16",
   "metadata": {
    "tags": []
   },
   "outputs": [
    {
     "data": {
      "application/vnd.jupyter.widget-view+json": {
       "model_id": "75a34a04fd0e4b7d811c3326cd44cfff",
       "version_major": 2,
       "version_minor": 0
      },
      "text/plain": [
       "  0%|          | 0/559 [00:00<?, ?it/s]"
      ]
     },
     "metadata": {},
     "output_type": "display_data"
    }
   ],
   "source": [
    "hit, mrr = test(net_model, test_data)"
   ]
  },
  {
   "cell_type": "code",
   "execution_count": 87,
   "id": "882901bd-cb01-409c-8675-edb7da953c15",
   "metadata": {},
   "outputs": [
    {
     "data": {
      "text/plain": [
       "(70.31378582417975, 30.484227748604383)"
      ]
     },
     "execution_count": 87,
     "metadata": {},
     "output_type": "execute_result"
    }
   ],
   "source": [
    "hit, mrr"
   ]
  },
  {
   "cell_type": "code",
   "execution_count": null,
   "id": "39df77bd-005c-4490-9f2a-50fc5da67841",
   "metadata": {},
   "outputs": [],
   "source": []
  }
 ],
 "metadata": {
  "kernelspec": {
   "display_name": "Python 3 (ipykernel)",
   "language": "python",
   "name": "python3"
  },
  "language_info": {
   "codemirror_mode": {
    "name": "ipython",
    "version": 3
   },
   "file_extension": ".py",
   "mimetype": "text/x-python",
   "name": "python",
   "nbconvert_exporter": "python",
   "pygments_lexer": "ipython3",
   "version": "3.10.6"
  }
 },
 "nbformat": 4,
 "nbformat_minor": 5
}
