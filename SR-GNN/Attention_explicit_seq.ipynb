{
 "cells": [
  {
   "cell_type": "code",
   "execution_count": 17,
   "id": "98ae3f2b-053f-4bd8-bea9-a8acd9e7f1f1",
   "metadata": {
    "tags": []
   },
   "outputs": [],
   "source": [
    "import torch\n",
    "import torch.nn as nn\n",
    "import numpy as np\n",
    "import copy\n",
    "import torch.nn.functional as F\n",
    "import torch.optim as optim\n",
    "import pickle\n",
    "\n",
    "import torch\n",
    "import torch.nn as nn\n",
    "import numpy as np\n",
    "import copy\n",
    "import time\n",
    "import torch.nn.functional as F\n",
    "import torch.optim as optim\n",
    "from itertools import repeat\n",
    "from tqdm.notebook import tqdm"
   ]
  },
  {
   "cell_type": "code",
   "execution_count": 18,
   "id": "86c8b113-6c51-44af-bc63-f5cb7f11371c",
   "metadata": {
    "tags": []
   },
   "outputs": [],
   "source": [
    "import sys\n",
    "sys.path.append('./SR-GNN-master/pytorch_code')"
   ]
  },
  {
   "cell_type": "code",
   "execution_count": 19,
   "id": "6304b30a-3e9b-4df7-a0d6-2ac7b5547b49",
   "metadata": {
    "tags": []
   },
   "outputs": [],
   "source": [
    "from model import *\n",
    "from utils import *"
   ]
  },
  {
   "cell_type": "code",
   "execution_count": 20,
   "id": "989606b9-6940-4e0f-b4c1-5b706e19ff58",
   "metadata": {
    "tags": []
   },
   "outputs": [],
   "source": [
    "class Opt():\n",
    "    def __init__(self, ):\n",
    "        self.dataset = 'yoochoose1_64'\n",
    "        self.batchSize = 100\n",
    "        self.hiddenSize = 100\n",
    "        self.epoch = 30\n",
    "        self.lr = 0.001\n",
    "        self.lr_dc = 0.1\n",
    "        self.lr_dc_step = 3\n",
    "        self.l2 = 1e-5\n",
    "        self.step = 1\n",
    "        self.patience = 10\n",
    "        self.nonhybrid = False\n",
    "        self.validation = False\n",
    "        self.valid_portion = 0.001\n",
    "        \n",
    "opt = Opt()"
   ]
  },
  {
   "cell_type": "code",
   "execution_count": 21,
   "id": "a11b20e6-416c-4b18-bbd8-04d695d2d05d",
   "metadata": {
    "tags": []
   },
   "outputs": [],
   "source": [
    "train_data = pickle.load(open('./SR-GNN-master/datasets/' + opt.dataset + '/train.txt', 'rb'))\n",
    "if opt.validation:\n",
    "    train_data, valid_data = split_validation(train_data, opt.valid_portion)\n",
    "    test_data = valid_data\n",
    "else:\n",
    "    test_data = pickle.load(open('./SR-GNN-master/datasets/' + opt.dataset + '/test.txt', 'rb'))\n",
    "\n",
    "if opt.dataset == 'diginetica':\n",
    "    n_node = 43098\n",
    "elif opt.dataset == 'yoochoose1_64' or opt.dataset == 'yoochoose1_4':\n",
    "    n_node = 37484\n",
    "else:\n",
    "    n_node = 310"
   ]
  },
  {
   "cell_type": "code",
   "execution_count": 22,
   "id": "29a04f6c-f8eb-4478-8dc6-335cc8b22314",
   "metadata": {
    "tags": []
   },
   "outputs": [],
   "source": [
    "train_seqs = pickle.load(open('./SR-GNN-master/datasets/' + opt.dataset + '/all_train_seq.txt', 'rb'))"
   ]
  },
  {
   "cell_type": "code",
   "execution_count": 25,
   "id": "72830e85-d871-4d38-927d-c8492a9c12e0",
   "metadata": {
    "tags": []
   },
   "outputs": [],
   "source": [
    "set_ = set()\n",
    "for i in train_data[0]:\n",
    "    for j in i:\n",
    "        set_.add(j)\n",
    "for i in train_data[1]:\n",
    "    set_.add(i)\n",
    "item_num = len(set_)\n",
    "\n",
    "item_mapping = {}\n",
    "for i, item in enumerate(set_):\n",
    "    item_mapping[item] = i\n",
    "\n",
    "train_data = list(zip(*train_data))\n",
    "n = int((1-opt.valid_portion) * len(train_seqs))\n",
    "d_basket_train = {k: [item_mapping[item] for item in (items + [last_item])] for k, (items, last_item) in enumerate(train_data[:n])}\n",
    "d_basket_val = {k: [item_mapping[item] for item in (items + [last_item])] for k, (items, last_item) in enumerate(train_data[n:])}"
   ]
  },
  {
   "cell_type": "code",
   "execution_count": 26,
   "id": "a5a8439e-3f0f-473e-84d0-09faf9e47052",
   "metadata": {
    "tags": []
   },
   "outputs": [],
   "source": [
    "class DataLoaderStoch():\n",
    "    '''\n",
    "    Класс автоматическрого создания батчей для трейна.\n",
    "    '''\n",
    "    def __init__(self, trans,\n",
    "                 basket,\n",
    "                 item_num,\n",
    "                 batchsize=128,\n",
    "                 max_basket_size=23,\n",
    "                 shuffle=True):\n",
    "        ''''\n",
    "        На вход:\n",
    "        trans          - список id чеков\n",
    "        basket         - словарь товаров в коризне по чеку,\n",
    "                         в виде списка из номеров товаров\n",
    "        item_num  - кол-во товаров\n",
    "        batchsize - размер батча\n",
    "        shuffle   - перемешивать ли семплы\n",
    "        На выход:\n",
    "        батч в виде [(\n",
    "                      корзины: list[list],\n",
    "                      контекст: Tensor, size=(batchsize, context_dim),\n",
    "                      таргетные продукты: LongTensor, size=(batchsize,),\n",
    "                      клиенты: LongTensor, size=(batchsize,)\n",
    "                     ),\n",
    "                     таргет: Tensor, size=(batchsize,)]\n",
    "        '''\n",
    "        self.trans = trans\n",
    "        self.basket = basket\n",
    "        self.max_basket_size = max_basket_size\n",
    "        self.batchsize = batchsize\n",
    "        self.shuffle = shuffle\n",
    "        self.prod_num = item_num\n",
    "        \n",
    "    def __iter__(self):  \n",
    "        '''\n",
    "        Метод вызывается при итерировании по объекту,\n",
    "        например, через for.\n",
    "        '''\n",
    "        self.ids = set(range(len(self.trans)))\n",
    "        return self._contaner_()\n",
    "    \n",
    "    def __len__(self):\n",
    "        '''\n",
    "        Возвращает кол-во батчей.\n",
    "        '''\n",
    "        batch_num = np.ceil(len(self.trans)/self.batchsize)\n",
    "        return int(batch_num)\n",
    "        \n",
    "    def _contaner_(self):\n",
    "        '''\n",
    "        Метод берет подвыборку и формирует батч.\n",
    "        '''\n",
    "        while len(self.ids) != 0:\n",
    "            if self.shuffle:\n",
    "                size = min(len(self.ids), self.batchsize)\n",
    "                idx_curr = np.random.choice(list(self.ids), size,\n",
    "                                            replace=False)\n",
    "            else:\n",
    "                idx_curr = np.array(list(self.ids))[:self.batchsize]\n",
    "            self.ids = self.ids.difference(idx_curr)\n",
    "            yield self._make_sample_(self.trans[idx_curr])\n",
    "        \n",
    "    def foo(self, trans_products, max_basket_size):\n",
    "        '''\n",
    "        Вспомогательная функция. см _make_sample_.\n",
    "        '''\n",
    "        without_target = trans_products[:-1]\n",
    "        target = trans_products[-1]\n",
    "        padding = [self.prod_num]*(max_basket_size - len(trans_products))\n",
    "        return (without_target+padding), target\n",
    "        \n",
    "    def _make_sample_(self, X):\n",
    "        '''\n",
    "        Метод возвращает готовый батч.\n",
    "        '''\n",
    "        self.X = X\n",
    "        baskets = list(map(self.basket.get, X))\n",
    "        max_basket_size = max(map(len, baskets))\n",
    "        temp = list(map(lambda x: self.foo(x, max_basket_size), baskets))\n",
    "\n",
    "        return [torch.LongTensor(np.array([row[0] for row in temp])),\n",
    "                torch.LongTensor(np.array([row[1] for row in temp]))]\n",
    "\n",
    "def generate_square_subsequent_mask(sz: int) -> torch.Tensor:\n",
    "    \"\"\"Generates an upper-triangular matrix of -inf, with zeros on diag.\"\"\"\n",
    "    return torch.triu(torch.ones(sz, sz) * float('-inf'), diagonal=1)"
   ]
  },
  {
   "cell_type": "code",
   "execution_count": 27,
   "id": "ad8dd029-b32c-4563-89ea-59819ec039be",
   "metadata": {
    "tags": []
   },
   "outputs": [],
   "source": [
    "#функция тестирования\n",
    "def test(model, test_data):\n",
    "    model.eval()\n",
    "    hit, mrr = [], []\n",
    "    batch_size = min(opt.batchSize, len(test_data[0]))\n",
    "    for i in tqdm(range(0, len(test_data[0]), batch_size)):\n",
    "        scores = model.predict(test_data[0][i:i+batch_size])\n",
    "        sub_scores = np.array(scores.topk(20)[1])\n",
    "        targets = test_data[1][i:i+batch_size]\n",
    "        for score, target in zip(sub_scores, targets):\n",
    "            target = model.item_mapping.get(target)\n",
    "            hit.append(np.isin(target, score))\n",
    "            if len(np.where(score == target)[0]) == 0:\n",
    "                mrr.append(0)\n",
    "            else:\n",
    "                mrr.append(1 / (np.where(score == target)[0][0] + 1))\n",
    "    hit = np.mean(hit) * 100\n",
    "    mrr = np.mean(mrr) * 100\n",
    "    return hit, mrr\n",
    "\n",
    "#функция тестирования\n",
    "def evaluate_net(net, testloader, use_cuda=True):\n",
    "    net = net.eval()\n",
    "    running_loss = 0.0\n",
    "    # цикл по батчам внутри эпохи\n",
    "    for i, data in enumerate(tqdm(testloader)):\n",
    "        # берем очередной батч и его лейблы\n",
    "        prods = data[0].to(device)\n",
    "        labels = data[1].to(device)\n",
    "        \n",
    "        # получили выход сетки\n",
    "        outputs = net(prods)\n",
    "        \n",
    "        # посчитали для этого выхода лосс\n",
    "        loss = criterion(outputs, labels)\n",
    "        \n",
    "        #суммируемый лосс на обучении\n",
    "        running_loss += float(loss)\n",
    "        \n",
    "    return running_loss/len(testloader)\n",
    "\n",
    "#основная функция для обучения сети\n",
    "def train_net(n_epochs, \n",
    "              net, \n",
    "              optimizer, \n",
    "              scheduler,\n",
    "              criterion, \n",
    "              trainloader,\n",
    "              testloader,\n",
    "              test_data,\n",
    "              prod_num,\n",
    "              use_cuda=False,\n",
    "             ):\n",
    "    '''\n",
    "    Функция обучения нейронной сети.\n",
    "    На вход:\n",
    "    n_epochs      - кол-во эпох\n",
    "    net           - сеть для обучения\n",
    "    optimizer     - оптимизатор для обучения\n",
    "    criterion     - критерий оптимизации\n",
    "    trainloader   - даталоадер для трейна\n",
    "    testloader    - даталоадер для теста\n",
    "    d_food_cost_idx - цены на товары\n",
    "    prod_num      - кол-во продуктов\n",
    "    use_cuda      - использовать ли cuda\n",
    "    verbose       - если 0, то не выводит \n",
    "                    качество на валидации,\n",
    "                    если > 0 выводит качество\n",
    "                    на валлидации каждые verbose\n",
    "                    эпох\n",
    "    early_stopping_len - после какого кол-ва эпох\n",
    "                    без улучшения качества \n",
    "                    надо прекратить обучение\n",
    "    '''\n",
    "    \n",
    "    if use_cuda:\n",
    "        net = net.cuda()\n",
    "    \n",
    "    test_loss = 0\n",
    "    \n",
    "    # основной цикл по всем эпохам\n",
    "    for epoch in range(n_epochs):\n",
    "        net = net.train()\n",
    "    \n",
    "        running_loss = 0.0\n",
    "        # цикл по батчам внутри эпохи\n",
    "        for i, data in enumerate(tqdm(trainloader)):\n",
    "            # берем очередной батч и его лейблы\n",
    "            prods = data[0].to(device)\n",
    "            labels = data[1].to(device)\n",
    "\n",
    "            # всегда перед вычислением градиентов зануляем их, чтобы не накапливались\n",
    "            optimizer.zero_grad()\n",
    "\n",
    "            # получили выход сетки\n",
    "            outputs = net(prods)\n",
    "            \n",
    "            # посчитали для этого выхода лосс\n",
    "            loss = criterion(outputs, labels)\n",
    "            \n",
    "            # вычислили градиенты loss по параметрам сети (w)\n",
    "            loss.backward()\n",
    "    \n",
    "            #далем шаг по антиградиенту - обновляем веса сети\n",
    "            optimizer.step()\n",
    "            \n",
    "            #суммируемый лосс на обучении\n",
    "            running_loss += float(loss)\n",
    "        \n",
    "        # валидируемся\n",
    "        test_loss = evaluate_net(net, testloader, use_cuda=use_cuda)\n",
    "        hit, mrr = test(net, test_data)\n",
    "        torch.save(net.state_dict(), 'net.model')\n",
    "        # логируем после каждой эпохи        \n",
    "        print('Epoch {}. \\nTrain_loss: {:.6f}' .format(epoch + 1, running_loss / len(trainloader)))\n",
    "        print(f'Test_loss: {test_loss}')\n",
    "        print(f'Test eval: hit - {hit}, mrr - {mrr}')\n",
    "        print('------------------------------')\n",
    "        scheduler.step()\n",
    "\n",
    "    print('Finished Training')\n",
    "    return net"
   ]
  },
  {
   "cell_type": "code",
   "execution_count": 36,
   "id": "3243b9c5-7c86-4af7-a643-b8ccd998ae96",
   "metadata": {
    "tags": []
   },
   "outputs": [],
   "source": [
    "import torch\n",
    "import torch.nn as nn\n",
    "import numpy as np\n",
    "import copy\n",
    "import torch.nn.functional as F\n",
    "import torch.optim as optim\n",
    "from sklearn.utils.extmath import randomized_svd\n",
    "\n",
    "class Embedding_prod(nn.Module):\n",
    "    '''\n",
    "    Нейросеть для эмбеддинга товара.\n",
    "    '''\n",
    "    def __init__(self, prod_num, d, dropout=0.1):\n",
    "        super(Embedding_prod, self).__init__()\n",
    "        self.prod_embedd = nn.Embedding(prod_num+1, d)\n",
    "        self.pos_encoder = PositionalEncoding(d, dropout)\n",
    "        \n",
    "    def forward(self, prods):\n",
    "        prod_embedd = self.prod_embedd(prods)\n",
    "        prod_embedd = self.pos_encoder(prod_embedd)\n",
    "        return prod_embedd\n",
    "\n",
    "class PositionalEncoding(nn.Module):\n",
    "\n",
    "    def __init__(self, d_model: int, dropout: float = 0.1, max_len: int = 5000):\n",
    "        super().__init__()\n",
    "        self.dropout = nn.Dropout(p=dropout)\n",
    "\n",
    "        position = torch.arange(max_len).unsqueeze(1)\n",
    "        div_term = torch.exp(torch.arange(0, d_model, 2) * (-math.log(10000.0) / d_model))\n",
    "        pe = torch.zeros(max_len, 1, d_model)\n",
    "        pe[:, 0, 0::2] = torch.sin(position * div_term)\n",
    "        pe[:, 0, 1::2] = torch.cos(position * div_term)\n",
    "        self.register_buffer('pe', pe)\n",
    "\n",
    "    def forward(self, x: torch.Tensor) -> torch.Tensor:\n",
    "        \"\"\"\n",
    "        Args:\n",
    "            x: Tensor, shape [seq_len, batch_size, embedding_dim]\n",
    "        \"\"\"\n",
    "        x = x.permute(1, 0, 2)\n",
    "        x = x + self.pe[:x.size(0)]\n",
    "        return self.dropout(x).permute(1, 0, 2)\n",
    "\n",
    "class Embedding_transformer(nn.Module):\n",
    "    '''\n",
    "    Нейросеть для эмбеддинга товара.\n",
    "    '''\n",
    "    def __init__(self, d, layer_num=2, layer_type='transformer', dim_feedforward=2048, dropout=0.1, max_basket_size=146):\n",
    "        '''\n",
    "        На вход:\n",
    "        X - матрица (товары, эмбеддинг)\n",
    "        use_cuda - использовать ли cuda\n",
    "        \n",
    "        Forward принимает на вход или\n",
    "        список, содержащий номера товаров,\n",
    "        или просто номер товара.\n",
    "        '''\n",
    "        super(Embedding_transformer, self).__init__()\n",
    "        self.layer_type = layer_type\n",
    "        if layer_type == 'attention':\n",
    "            self.transformer = nn.ModuleList([nn.MultiheadAttention(d, \n",
    "                                                                    num_heads=1, \n",
    "                                                                    batch_first=True)\n",
    "                                          for _ in range(layer_num)])\n",
    "        elif layer_type == 'transformer':\n",
    "            # self.transformer = nn.ModuleList([nn.TransformerEncoderLayer(d,\n",
    "            #                                                    nhead=1,\n",
    "            #                                                    dim_feedforward=dim_feedforward,\n",
    "            #                                                    batch_first=True)\n",
    "            #                               for _ in range(layer_num)])\n",
    "            encoder_layer = nn.TransformerEncoderLayer(d_model=d,\n",
    "                                                       nhead=1,\n",
    "                                                       dropout=dropout,\n",
    "                                                       dim_feedforward=dim_feedforward,\n",
    "                                                       batch_first=True\n",
    "                                                      )\n",
    "            self.transformer = nn.TransformerEncoder(encoder_layer, num_layers=layer_num)\n",
    "        elif layer_type == 'gru':\n",
    "            self.transformer = nn.GRU(input_size=d,\n",
    "                                      hidden_size=d,\n",
    "                                      num_layers=layer_num,\n",
    "                                      batch_first=True,\n",
    "                                      dropout=dropout,\n",
    "                                     )\n",
    "        self.gru = nn.GRU(input_size=d,\n",
    "                          hidden_size=d,\n",
    "                          num_layers=1,\n",
    "                          batch_first=True,\n",
    "                         )\n",
    "        self.linear = nn.Linear(d, d)\n",
    "        self.linear_one = nn.Linear(d, d)\n",
    "        self.linear_two = nn.Linear(d, d)\n",
    "        self.linear_three = nn.Linear(d, 1, bias=False)\n",
    "        self.linear_transform = nn.Linear(d * 2, d, bias=True)\n",
    "\n",
    "    def forward(self, batch, padding_mask):\n",
    "        #t = self.transformer(batch)\n",
    "        t = batch\n",
    "        mask = nn.Transformer.generate_square_subsequent_mask(padding_mask.shape[1])\n",
    "        if self.layer_type == 'attention':\n",
    "            for layer in self.transformer:\n",
    "                t_ = t\n",
    "                t, _ = layer(t, t, t, attn_mask=mask, key_padding_mask=padding_mask)\n",
    "                t = t_ + t\n",
    "        elif self.layer_type == 'transformer':\n",
    "            t = self.transformer(t, mask=mask, src_key_padding_mask=padding_mask)\n",
    "        elif self.layer_type == 'gru':\n",
    "            t = self.transformer(t)[0]\n",
    "        hidden = t\n",
    "        mask = ~padding_mask\n",
    "        ht = hidden[torch.arange(mask.shape[0]).long(), torch.sum(mask, 1) - 1]  # batch_size x latent_size\n",
    "        q1 = self.linear_one(ht).view(ht.shape[0], 1, ht.shape[1])  # batch_size x 1 x latent_size\n",
    "        q2 = self.linear_two(hidden)  # batch_size x seq_length x latent_size\n",
    "        alpha = self.linear_three(torch.sigmoid(q1 + q2))\n",
    "        a = torch.sum(alpha * hidden * mask.view(mask.shape[0], -1, 1).float(), 1)\n",
    "        return self.linear_transform(torch.cat([a, ht], 1))\n",
    "\n",
    "class Net(nn.Module):\n",
    "    def __init__(self, products_embedd, transformer,\n",
    "                 d, prod_num, item_mapping=item_mapping):\n",
    "        '''\n",
    "        На вход:\n",
    "        products_embedd - объект класса Embedding_prod\n",
    "        '''\n",
    "        super(Net, self).__init__()\n",
    "        self.d = d\n",
    "        self.embedding = products_embedd\n",
    "        self.transformer = transformer\n",
    "        self.prod_num = prod_num\n",
    "        self.item_mapping = item_mapping\n",
    "        self.all_items = torch.LongTensor(range(prod_num+1))\n",
    "        self._reset_parameters()\n",
    "    \n",
    "    def _reset_parameters(self):\n",
    "        stdv = 1.0 / math.sqrt(self.d)\n",
    "        for weight in self.parameters():\n",
    "            weight.data.uniform_(-stdv, stdv)\n",
    "    \n",
    "    def predict(self, baskets):\n",
    "        rows = []\n",
    "        range_batch = range(len(baskets))\n",
    "        range_items = []\n",
    "        max_basket_size = max(map(len, baskets))\n",
    "        for basket in baskets:\n",
    "            basket_ = [self.item_mapping[item] for item in basket if item in item_mapping]\n",
    "            padding = [self.prod_num]*(max_basket_size - len(basket_))\n",
    "            rows.append(basket_+padding)\n",
    "            range_items.append(len(basket_)-1)\n",
    "        return self.forward(torch.LongTensor(np.array(rows)))[range_batch,\n",
    "                                                              :,\n",
    "                                                              range_items]\n",
    "    \n",
    "    def forward(self, prods):\n",
    "        # эмделлинг товара [batch_dim, max_basket_size, embedd_dim]\n",
    "        embedd = self.embedding(prods)\n",
    "        # пропускаем через череду attention\n",
    "        padding_mask = (prods == self.prod_num)\n",
    "        embedd = self.transformer(embedd, padding_mask)\n",
    "        all_embedd = self.embedding(self.all_items)\n",
    "        return torch.matmul(embedd, all_embedd.transpose(1, 0))#.permute(0, 2, 1)"
   ]
  },
  {
   "cell_type": "code",
   "execution_count": 37,
   "id": "542c0f7f-27c1-4dda-ae77-84a6f1c1781c",
   "metadata": {
    "tags": []
   },
   "outputs": [],
   "source": [
    "device = 'cpu'"
   ]
  },
  {
   "cell_type": "code",
   "execution_count": 38,
   "id": "f0916050-fa07-4e8e-811c-e83e073ace3e",
   "metadata": {
    "tags": []
   },
   "outputs": [
    {
     "data": {
      "text/plain": [
       "Net(\n",
       "  (embedding): Embedding(17377, 100)\n",
       "  (transformer): Embedding_transformer(\n",
       "    (transformer): GRU(100, 100, num_layers=2, batch_first=True, dropout=0.1)\n",
       "    (gru): GRU(100, 100, batch_first=True)\n",
       "    (linear): Linear(in_features=100, out_features=100, bias=True)\n",
       "    (linear_one): Linear(in_features=100, out_features=100, bias=True)\n",
       "    (linear_two): Linear(in_features=100, out_features=100, bias=True)\n",
       "    (linear_three): Linear(in_features=100, out_features=1, bias=False)\n",
       "    (linear_transform): Linear(in_features=200, out_features=100, bias=True)\n",
       "  )\n",
       ")"
      ]
     },
     "execution_count": 38,
     "metadata": {},
     "output_type": "execute_result"
    }
   ],
   "source": [
    "# создаем сеть\n",
    "embedd_dim = 100 # 512\n",
    "prod_embedd = nn.Embedding(item_num+1, embedd_dim)#Embedding_prod(item_num, embedd_dim)\n",
    "transformer = Embedding_transformer(embedd_dim,\n",
    "                                    layer_num=1,\n",
    "                                    layer_type='gru',\n",
    "                                    dim_feedforward=512,\n",
    "                                    dropout=0.1,)\n",
    "net_model = Net(prod_embedd, transformer, embedd_dim, item_num)\n",
    "net_model.to(device)"
   ]
  },
  {
   "cell_type": "code",
   "execution_count": 39,
   "id": "7fdf3dd7-b297-4fe8-b062-38f479913dcc",
   "metadata": {},
   "outputs": [],
   "source": [
    "# net_model.load_state_dict(torch.load('net.model'))"
   ]
  },
  {
   "cell_type": "code",
   "execution_count": 40,
   "id": "e8b2a84d-4301-4f72-bc09-5387eb499ecb",
   "metadata": {
    "tags": []
   },
   "outputs": [
    {
     "name": "stdout",
     "output_type": "stream",
     "text": [
      "Adjusting learning rate of group 0 to 1.0000e-03.\n"
     ]
    }
   ],
   "source": [
    "learning_rate= 1e-3 # 1e-4\n",
    "optimizer = optim.Adam(net_model.parameters(), lr=learning_rate, weight_decay=1e-5)\n",
    "scheduler = torch.optim.lr_scheduler.ExponentialLR(optimizer, gamma=1, verbose=True) # 0.8\n",
    "\n",
    "# критерий оптимизации\n",
    "#weight = torch.ones(item_num+1)\n",
    "#weight[-1] = 0\n",
    "#criterion = nn.CrossEntropyLoss(weight=weight)"
   ]
  },
  {
   "cell_type": "code",
   "execution_count": 41,
   "id": "909cdb1a-b184-4171-95f3-dae474e8b000",
   "metadata": {
    "tags": []
   },
   "outputs": [],
   "source": [
    "criterion = nn.CrossEntropyLoss(ignore_index=item_num)"
   ]
  },
  {
   "cell_type": "code",
   "execution_count": 42,
   "id": "74838e51-f085-4e6a-bf87-af33fc063804",
   "metadata": {
    "tags": []
   },
   "outputs": [],
   "source": [
    "torch.set_num_threads(32)"
   ]
  },
  {
   "cell_type": "code",
   "execution_count": 44,
   "id": "967c97f2-0b95-407e-8ec1-fd385a0b7b16",
   "metadata": {
    "tags": []
   },
   "outputs": [
    {
     "data": {
      "application/vnd.jupyter.widget-view+json": {
       "model_id": "52315d6a6f4b4f25a8c48937bfca500f",
       "version_major": 2,
       "version_minor": 0
      },
      "text/plain": [
       "  0%|          | 0/1161 [00:00<?, ?it/s]"
      ]
     },
     "metadata": {},
     "output_type": "display_data"
    },
    {
     "ename": "KeyboardInterrupt",
     "evalue": "",
     "output_type": "error",
     "traceback": [
      "\u001b[0;31m---------------------------------------------------------------------------\u001b[0m",
      "\u001b[0;31mKeyboardInterrupt\u001b[0m                         Traceback (most recent call last)",
      "Cell \u001b[0;32mIn[44], line 16\u001b[0m\n\u001b[1;32m      9\u001b[0m dataloader_val \u001b[38;5;241m=\u001b[39m DataLoaderStoch(np\u001b[38;5;241m.\u001b[39marray(\u001b[38;5;28mlist\u001b[39m(d_basket_val\u001b[38;5;241m.\u001b[39mkeys())),\n\u001b[1;32m     10\u001b[0m                       d_basket_val,\n\u001b[1;32m     11\u001b[0m                       item_num\u001b[38;5;241m=\u001b[39mitem_num,\n\u001b[1;32m     12\u001b[0m                       batchsize\u001b[38;5;241m=\u001b[39m\u001b[38;5;241m64\u001b[39m,\n\u001b[1;32m     13\u001b[0m                       shuffle\u001b[38;5;241m=\u001b[39m\u001b[38;5;28;01mFalse\u001b[39;00m)\n\u001b[1;32m     15\u001b[0m \u001b[38;5;66;03m# учим сеть\u001b[39;00m\n\u001b[0;32m---> 16\u001b[0m net_model \u001b[38;5;241m=\u001b[39m \u001b[43mtrain_net\u001b[49m\u001b[43m(\u001b[49m\u001b[38;5;241;43m50\u001b[39;49m\u001b[43m,\u001b[49m\n\u001b[1;32m     17\u001b[0m \u001b[43m                   \u001b[49m\u001b[43mnet_model\u001b[49m\u001b[43m,\u001b[49m\n\u001b[1;32m     18\u001b[0m \u001b[43m                   \u001b[49m\u001b[43moptimizer\u001b[49m\u001b[43m,\u001b[49m\n\u001b[1;32m     19\u001b[0m \u001b[43m                   \u001b[49m\u001b[43mscheduler\u001b[49m\u001b[43m,\u001b[49m\n\u001b[1;32m     20\u001b[0m \u001b[43m                   \u001b[49m\u001b[43mcriterion\u001b[49m\u001b[43m,\u001b[49m\n\u001b[1;32m     21\u001b[0m \u001b[43m                   \u001b[49m\u001b[43mdataloader_train\u001b[49m\u001b[43m,\u001b[49m\n\u001b[1;32m     22\u001b[0m \u001b[43m                   \u001b[49m\u001b[43mdataloader_val\u001b[49m\u001b[43m,\u001b[49m\n\u001b[1;32m     23\u001b[0m \u001b[43m                   \u001b[49m\u001b[43mtest_data\u001b[49m\u001b[43m,\u001b[49m\n\u001b[1;32m     24\u001b[0m \u001b[43m                   \u001b[49m\u001b[43mitem_num\u001b[49m\u001b[43m,\u001b[49m\n\u001b[1;32m     25\u001b[0m \u001b[43m                   \u001b[49m\u001b[43muse_cuda\u001b[49m\u001b[38;5;241;43m=\u001b[39;49m\u001b[38;5;28;43;01mFalse\u001b[39;49;00m\u001b[43m,\u001b[49m\n\u001b[1;32m     26\u001b[0m \u001b[43m                  \u001b[49m\u001b[43m)\u001b[49m\n",
      "Cell \u001b[0;32mIn[27], line 102\u001b[0m, in \u001b[0;36mtrain_net\u001b[0;34m(n_epochs, net, optimizer, scheduler, criterion, trainloader, testloader, test_data, prod_num, use_cuda)\u001b[0m\n\u001b[1;32m     99\u001b[0m loss \u001b[38;5;241m=\u001b[39m criterion(outputs, labels)\n\u001b[1;32m    101\u001b[0m \u001b[38;5;66;03m# вычислили градиенты loss по параметрам сети (w)\u001b[39;00m\n\u001b[0;32m--> 102\u001b[0m \u001b[43mloss\u001b[49m\u001b[38;5;241;43m.\u001b[39;49m\u001b[43mbackward\u001b[49m\u001b[43m(\u001b[49m\u001b[43m)\u001b[49m\n\u001b[1;32m    104\u001b[0m \u001b[38;5;66;03m#далем шаг по антиградиенту - обновляем веса сети\u001b[39;00m\n\u001b[1;32m    105\u001b[0m optimizer\u001b[38;5;241m.\u001b[39mstep()\n",
      "File \u001b[0;32m~/.local/lib/python3.10/site-packages/torch/_tensor.py:488\u001b[0m, in \u001b[0;36mTensor.backward\u001b[0;34m(self, gradient, retain_graph, create_graph, inputs)\u001b[0m\n\u001b[1;32m    478\u001b[0m \u001b[38;5;28;01mif\u001b[39;00m has_torch_function_unary(\u001b[38;5;28mself\u001b[39m):\n\u001b[1;32m    479\u001b[0m     \u001b[38;5;28;01mreturn\u001b[39;00m handle_torch_function(\n\u001b[1;32m    480\u001b[0m         Tensor\u001b[38;5;241m.\u001b[39mbackward,\n\u001b[1;32m    481\u001b[0m         (\u001b[38;5;28mself\u001b[39m,),\n\u001b[0;32m   (...)\u001b[0m\n\u001b[1;32m    486\u001b[0m         inputs\u001b[38;5;241m=\u001b[39minputs,\n\u001b[1;32m    487\u001b[0m     )\n\u001b[0;32m--> 488\u001b[0m \u001b[43mtorch\u001b[49m\u001b[38;5;241;43m.\u001b[39;49m\u001b[43mautograd\u001b[49m\u001b[38;5;241;43m.\u001b[39;49m\u001b[43mbackward\u001b[49m\u001b[43m(\u001b[49m\n\u001b[1;32m    489\u001b[0m \u001b[43m    \u001b[49m\u001b[38;5;28;43mself\u001b[39;49m\u001b[43m,\u001b[49m\u001b[43m \u001b[49m\u001b[43mgradient\u001b[49m\u001b[43m,\u001b[49m\u001b[43m \u001b[49m\u001b[43mretain_graph\u001b[49m\u001b[43m,\u001b[49m\u001b[43m \u001b[49m\u001b[43mcreate_graph\u001b[49m\u001b[43m,\u001b[49m\u001b[43m \u001b[49m\u001b[43minputs\u001b[49m\u001b[38;5;241;43m=\u001b[39;49m\u001b[43minputs\u001b[49m\n\u001b[1;32m    490\u001b[0m \u001b[43m\u001b[49m\u001b[43m)\u001b[49m\n",
      "File \u001b[0;32m~/.local/lib/python3.10/site-packages/torch/autograd/__init__.py:197\u001b[0m, in \u001b[0;36mbackward\u001b[0;34m(tensors, grad_tensors, retain_graph, create_graph, grad_variables, inputs)\u001b[0m\n\u001b[1;32m    192\u001b[0m     retain_graph \u001b[38;5;241m=\u001b[39m create_graph\n\u001b[1;32m    194\u001b[0m \u001b[38;5;66;03m# The reason we repeat same the comment below is that\u001b[39;00m\n\u001b[1;32m    195\u001b[0m \u001b[38;5;66;03m# some Python versions print out the first line of a multi-line function\u001b[39;00m\n\u001b[1;32m    196\u001b[0m \u001b[38;5;66;03m# calls in the traceback and some print out the last line\u001b[39;00m\n\u001b[0;32m--> 197\u001b[0m \u001b[43mVariable\u001b[49m\u001b[38;5;241;43m.\u001b[39;49m\u001b[43m_execution_engine\u001b[49m\u001b[38;5;241;43m.\u001b[39;49m\u001b[43mrun_backward\u001b[49m\u001b[43m(\u001b[49m\u001b[43m  \u001b[49m\u001b[38;5;66;43;03m# Calls into the C++ engine to run the backward pass\u001b[39;49;00m\n\u001b[1;32m    198\u001b[0m \u001b[43m    \u001b[49m\u001b[43mtensors\u001b[49m\u001b[43m,\u001b[49m\u001b[43m \u001b[49m\u001b[43mgrad_tensors_\u001b[49m\u001b[43m,\u001b[49m\u001b[43m \u001b[49m\u001b[43mretain_graph\u001b[49m\u001b[43m,\u001b[49m\u001b[43m \u001b[49m\u001b[43mcreate_graph\u001b[49m\u001b[43m,\u001b[49m\u001b[43m \u001b[49m\u001b[43minputs\u001b[49m\u001b[43m,\u001b[49m\n\u001b[1;32m    199\u001b[0m \u001b[43m    \u001b[49m\u001b[43mallow_unreachable\u001b[49m\u001b[38;5;241;43m=\u001b[39;49m\u001b[38;5;28;43;01mTrue\u001b[39;49;00m\u001b[43m,\u001b[49m\u001b[43m \u001b[49m\u001b[43maccumulate_grad\u001b[49m\u001b[38;5;241;43m=\u001b[39;49m\u001b[38;5;28;43;01mTrue\u001b[39;49;00m\u001b[43m)\u001b[49m\n",
      "\u001b[0;31mKeyboardInterrupt\u001b[0m: "
     ]
    }
   ],
   "source": [
    "# создаем даталоадер для обучения\n",
    "dataloader_train = DataLoaderStoch(np.array(list(d_basket_train.keys())),\n",
    "                      d_basket_train,\n",
    "                      item_num=item_num,\n",
    "                      batchsize=100,\n",
    "                      shuffle=True)\n",
    "\n",
    "# создаем даталоадер для валидации\n",
    "dataloader_val = DataLoaderStoch(np.array(list(d_basket_val.keys())),\n",
    "                      d_basket_val,\n",
    "                      item_num=item_num,\n",
    "                      batchsize=64,\n",
    "                      shuffle=False)\n",
    "\n",
    "# учим сеть\n",
    "net_model = train_net(50,\n",
    "                   net_model,\n",
    "                   optimizer,\n",
    "                   scheduler,\n",
    "                   criterion,\n",
    "                   dataloader_train,\n",
    "                   dataloader_val,\n",
    "                   test_data,\n",
    "                   item_num,\n",
    "                   use_cuda=False,\n",
    "                  )"
   ]
  },
  {
   "cell_type": "code",
   "execution_count": null,
   "id": "bc2ac473-43e9-42fb-b463-47f344ef535f",
   "metadata": {
    "tags": []
   },
   "outputs": [],
   "source": [
    "gen = next(iter(dataloader_val))"
   ]
  },
  {
   "cell_type": "code",
   "execution_count": 33,
   "id": "f2a19136-6b6c-4b2c-89dd-0ee41e7798ac",
   "metadata": {
    "tags": []
   },
   "outputs": [
    {
     "data": {
      "text/plain": [
       "tensor([4127, 4215, 1392, 4352, 4312, 4312, 4312, 1392, 4312, 4352, 1392, 4312,\n",
       "        4352, 4352, 4352, 4352, 4312, 4352, 1392, 4312, 1392, 4350, 4352, 4352,\n",
       "        4352, 4352, 4352, 4127, 4350, 4312, 4352, 4352, 4352, 4312, 4350, 4350,\n",
       "        4352, 4352, 4352, 4312, 1392, 4350, 1392, 4352, 4312, 1392, 4312, 1392,\n",
       "        1392, 1392, 1392, 4352, 4350, 4352, 1392, 3088, 4350, 1392, 4312, 4352,\n",
       "        4352, 4352, 4352, 1862, 4350, 1392, 1392, 1392, 4352, 4312, 4352, 4350,\n",
       "        4352, 1392, 4312, 4350, 4350, 1392, 4352, 4352, 4350, 4352, 4352, 4312,\n",
       "        4352, 1392, 4312, 4312, 1392, 4312, 4352, 4350, 4352, 4312, 4312, 4352,\n",
       "        4352, 4312, 1392, 1392, 4312, 4352, 1392, 4352, 1392, 4352, 4352, 1392,\n",
       "        4352, 4312, 1392, 4312, 4352, 1392, 4312, 4352, 4312, 1392, 1392, 4352,\n",
       "        4312, 4312, 1392, 4312, 4127, 4352, 4352, 4350, 1392, 4352, 4352, 4312,\n",
       "        4312, 4352, 4352, 4352, 4352, 2682, 1392, 4350, 4352, 1392, 4352, 4350,\n",
       "        4352, 4312])"
      ]
     },
     "execution_count": 33,
     "metadata": {},
     "output_type": "execute_result"
    }
   ],
   "source": [
    "net_model(gen[0]).argmax(1)[0]"
   ]
  },
  {
   "cell_type": "code",
   "execution_count": 34,
   "id": "fbf12d62-7e73-4fae-b9b7-f5fa66d283c9",
   "metadata": {
    "tags": []
   },
   "outputs": [
    {
     "data": {
      "text/plain": [
       "[4312, 4312, 1392, 1392, 4150, 4150]"
      ]
     },
     "execution_count": 34,
     "metadata": {},
     "output_type": "execute_result"
    }
   ],
   "source": [
    "d_basket_val[0]"
   ]
  },
  {
   "cell_type": "code",
   "execution_count": 35,
   "id": "5dd8932d-120e-4e49-a684-6a20b84cb30f",
   "metadata": {
    "tags": []
   },
   "outputs": [
    {
     "data": {
      "text/plain": [
       "tensor([ 4312,  1392,  1392,  4150,  4150, 17376, 17376, 17376, 17376, 17376,\n",
       "        17376, 17376, 17376, 17376, 17376, 17376, 17376, 17376, 17376, 17376,\n",
       "        17376, 17376, 17376, 17376, 17376, 17376, 17376, 17376, 17376, 17376,\n",
       "        17376, 17376, 17376, 17376, 17376, 17376, 17376, 17376, 17376, 17376,\n",
       "        17376, 17376, 17376, 17376, 17376, 17376, 17376, 17376, 17376, 17376,\n",
       "        17376, 17376, 17376, 17376, 17376, 17376, 17376, 17376, 17376, 17376,\n",
       "        17376, 17376, 17376, 17376, 17376, 17376, 17376, 17376, 17376, 17376,\n",
       "        17376, 17376, 17376, 17376, 17376, 17376, 17376, 17376, 17376, 17376,\n",
       "        17376, 17376, 17376, 17376, 17376, 17376, 17376, 17376, 17376, 17376,\n",
       "        17376, 17376, 17376, 17376, 17376, 17376, 17376, 17376, 17376, 17376,\n",
       "        17376, 17376, 17376, 17376, 17376, 17376, 17376, 17376, 17376, 17376,\n",
       "        17376, 17376, 17376, 17376, 17376, 17376, 17376, 17376, 17376, 17376,\n",
       "        17376, 17376, 17376, 17376, 17376, 17376, 17376, 17376, 17376, 17376,\n",
       "        17376, 17376, 17376, 17376, 17376, 17376, 17376, 17376, 17376, 17376,\n",
       "        17376, 17376, 17376, 17376, 17376, 17376])"
      ]
     },
     "execution_count": 35,
     "metadata": {},
     "output_type": "execute_result"
    }
   ],
   "source": [
    "gen[1][0]"
   ]
  },
  {
   "cell_type": "code",
   "execution_count": null,
   "id": "882901bd-cb01-409c-8675-edb7da953c15",
   "metadata": {},
   "outputs": [],
   "source": []
  }
 ],
 "metadata": {
  "kernelspec": {
   "display_name": "Python 3 (ipykernel)",
   "language": "python",
   "name": "python3"
  },
  "language_info": {
   "codemirror_mode": {
    "name": "ipython",
    "version": 3
   },
   "file_extension": ".py",
   "mimetype": "text/x-python",
   "name": "python",
   "nbconvert_exporter": "python",
   "pygments_lexer": "ipython3",
   "version": "3.10.6"
  }
 },
 "nbformat": 4,
 "nbformat_minor": 5
}
